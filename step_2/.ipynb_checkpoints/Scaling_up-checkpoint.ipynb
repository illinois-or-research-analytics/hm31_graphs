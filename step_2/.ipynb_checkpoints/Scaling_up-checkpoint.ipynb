{
 "cells": [
  {
   "cell_type": "code",
   "execution_count": null,
   "id": "f37c28e7",
   "metadata": {
    "ExecuteTime": {
     "start_time": "2023-09-21T14:01:34.657141686Z"
    },
    "is_executing": true
   },
   "outputs": [
    {
     "name": "stdout",
     "output_type": "stream",
     "text": [
      "1123 files exist\n"
     ]
    }
   ],
   "source": [
    "import multiprocessing\n",
    "import os\n",
    "import tqdm\n",
    "import re\n",
    "import time\n",
    "\n",
    "def download_xmls(number):   \n",
    "    download_command = f'wget https://ftp.ncbi.nlm.nih.gov/pubmed/baseline/pubmed23n{number}.xml.gz'\n",
    "    cd_command = 'cd xml_data'\n",
    "    \n",
    "    os.system(f'{cd_command} && {download_command}')\n",
    "    \n",
    "def obtain_existing_files():\n",
    "    pattern = r'\\d{4}'\n",
    "    files = os.listdir('xml_data/')\n",
    "    existing = []\n",
    "    for file in files:\n",
    "        existing.append(re.search(pattern, file).group(0))\n",
    "    \n",
    "    return existing\n",
    "    \n",
    "def download_all_files(time_out):\n",
    "    while True:\n",
    "        indices_to_download = []\n",
    "        existing_indices = obtain_existing_files()\n",
    "        arg_lst = []\n",
    "        print(f\"{len(existing_indices)} files exist\")\n",
    "\n",
    "        if len(existing_indices) == 1166:\n",
    "            break\n",
    "\n",
    "\n",
    "        for i in range(1,1167):\n",
    "            str_idx = str(i)\n",
    "            str_idx = '0' * (4-len(str_idx)) + str_idx\n",
    "\n",
    "            if str_idx in existing_indices:\n",
    "                continue\n",
    "\n",
    "            arg_lst.append((str_idx,))\n",
    "\n",
    "        pool = multiprocessing.Pool(processes=128)\n",
    "        pool.starmap(download_xmls, arg_lst)\n",
    "\n",
    "        pool.join()\n",
    "        \n",
    "        time.sleep(time_out)\n",
    "\n",
    "\n",
    "download_all_files(60)\n",
    "    \n",
    "# lst = [(i,) for i in range(1, 1166+1)]\n",
    "# for i in tqdm.tqdm(range(1, 1167)):\n",
    "#     download_xmls(i)\n",
    "\n",
    "\n",
    "# lst = [(i,) for i in range(1166+1)]\n",
    "# pool = multiprocessing.Pool(processes=128)\n",
    "# pool.starmap(download_xmls, lst)\n",
    "# obtain_existing_files()\n",
    "# print(f'number of downloaded file is {len(os.listdir(\"xml_data/\"))}')"
   ]
  },
  {
   "cell_type": "code",
   "execution_count": null,
   "id": "aa4233b8",
   "metadata": {
    "is_executing": true
   },
   "outputs": [],
   "source": [
    "import multiprocessing\n",
    "\n",
    "# Define a function that takes multiple arguments\n",
    "def process_data(a, b):\n",
    "    result = a + b\n",
    "    return result\n",
    "\n",
    "if __name__ == \"__main__\":\n",
    "    # Create a list of tuples with arguments\n",
    "    data = [(1, 2), (3, 4), (5, 6), (7, 8)]\n",
    "\n",
    "    # Create a multiprocessing pool\n",
    "    pool = multiprocessing.Pool()\n",
    "\n",
    "    # Use starmap to process the data in parallel\n",
    "    results = pool.starmap(process_data, data)\n",
    "\n",
    "    # Close the pool to release resources\n",
    "    pool.close()\n",
    "    pool.join()\n",
    "\n",
    "    # Print the results\n",
    "    print(results)\n"
   ]
  },
  {
   "cell_type": "code",
   "execution_count": 13,
   "id": "ccc8e093",
   "metadata": {},
   "outputs": [
    {
     "name": "stdout",
     "output_type": "stream",
     "text": [
      "{'PubmedArticle': 1121.0, 'DateCompleted': 0.9197546496332409, 'ISSN': 0.9899356034332077, 'ArticleTitle': 0.9995697703367612, 'GrantList': 0.1184404017212277, 'KeywordList': 0.26322144964990574, 'MeshHeadingList': 0.8597204505649833, 'ChemicalList': 0.4592201978890041, 'Abstract': 0.709433098871341, 'PubDate': 1.0000001931546354}\n"
     ]
    }
   ],
   "source": [
    "import json\n",
    "import numpy as np\n",
    "stat = {}\n",
    "\n",
    "\n",
    "# Open and read the JSON file\n",
    "with open('output.json', 'r') as json_file:\n",
    "    # Load the JSON content into a dictionary\n",
    "    output = json.load(json_file)\n",
    "\n",
    "for key, value in output.items():\n",
    "    for subkey in value:\n",
    "        if not subkey in stat:\n",
    "            stat[subkey] = [value[subkey]]\n",
    "        else:\n",
    "            stat[subkey].append(value[subkey])\n",
    "\n",
    "averaged = {}\n",
    "# for key, value in stat.items():\n",
    "#     if key == 'PubmedArticle':\n",
    "#         averaged[key] = np.sum(value)\n",
    "\n",
    "for key, value in stat.items():\n",
    "    if key == 'PubmedArticle':\n",
    "        continue\n",
    "    \n",
    "    else:\n",
    "        averaged[key] = np.sum(value)/averaged['PubmedArticle']\n",
    "        \n",
    "for key, value in stat.items():\n",
    "    if key == 'PubmedArticle':\n",
    "        averaged[key] = averaged[key] // 30000\n",
    "    \n",
    "print(averaged)"
   ]
  },
  {
   "cell_type": "code",
   "execution_count": null,
   "id": "190beaf0",
   "metadata": {},
   "outputs": [],
   "source": []
  }
 ],
 "metadata": {
  "kernelspec": {
   "display_name": "Python 3",
   "language": "python",
   "name": "python3"
  },
  "language_info": {
   "codemirror_mode": {
    "name": "ipython",
    "version": 3
   },
   "file_extension": ".py",
   "mimetype": "text/x-python",
   "name": "python",
   "nbconvert_exporter": "python",
   "pygments_lexer": "ipython3",
   "version": "3.6.8"
  }
 },
 "nbformat": 4,
 "nbformat_minor": 5
}
