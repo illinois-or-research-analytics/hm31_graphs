{
 "cells": [
  {
   "cell_type": "code",
   "execution_count": 1,
   "id": "f37c28e7",
   "metadata": {
    "ExecuteTime": {
     "end_time": "2023-09-21T14:01:56.887401119Z",
     "start_time": "2023-09-21T14:01:34.657141686Z"
    }
   },
   "outputs": [
    {
     "name": "stdout",
     "output_type": "stream",
     "text": [
      "1123 files exist\n"
     ]
    },
    {
     "ename": "AssertionError",
     "evalue": "",
     "output_type": "error",
     "traceback": [
      "\u001B[0;31m---------------------------------------------------------------------------\u001B[0m",
      "\u001B[0;31mAssertionError\u001B[0m                            Traceback (most recent call last)",
      "\u001B[0;32m<ipython-input-1-242391163442>\u001B[0m in \u001B[0;36m<module>\u001B[0;34m\u001B[0m\n\u001B[1;32m     48\u001B[0m \u001B[0;34m\u001B[0m\u001B[0m\n\u001B[1;32m     49\u001B[0m \u001B[0;34m\u001B[0m\u001B[0m\n\u001B[0;32m---> 50\u001B[0;31m \u001B[0mdownload_all_files\u001B[0m\u001B[0;34m(\u001B[0m\u001B[0;36m60\u001B[0m\u001B[0;34m)\u001B[0m\u001B[0;34m\u001B[0m\u001B[0;34m\u001B[0m\u001B[0m\n\u001B[0m\u001B[1;32m     51\u001B[0m \u001B[0;34m\u001B[0m\u001B[0m\n\u001B[1;32m     52\u001B[0m \u001B[0;31m# lst = [(i,) for i in range(1, 1166+1)]\u001B[0m\u001B[0;34m\u001B[0m\u001B[0;34m\u001B[0m\u001B[0;34m\u001B[0m\u001B[0m\n",
      "\u001B[0;32m<ipython-input-1-242391163442>\u001B[0m in \u001B[0;36mdownload_all_files\u001B[0;34m(time_out)\u001B[0m\n\u001B[1;32m     43\u001B[0m         \u001B[0mpool\u001B[0m\u001B[0;34m.\u001B[0m\u001B[0mstarmap\u001B[0m\u001B[0;34m(\u001B[0m\u001B[0mdownload_xmls\u001B[0m\u001B[0;34m,\u001B[0m \u001B[0marg_lst\u001B[0m\u001B[0;34m)\u001B[0m\u001B[0;34m\u001B[0m\u001B[0;34m\u001B[0m\u001B[0m\n\u001B[1;32m     44\u001B[0m \u001B[0;34m\u001B[0m\u001B[0m\n\u001B[0;32m---> 45\u001B[0;31m         \u001B[0mpool\u001B[0m\u001B[0;34m.\u001B[0m\u001B[0mjoin\u001B[0m\u001B[0;34m(\u001B[0m\u001B[0;34m)\u001B[0m\u001B[0;34m\u001B[0m\u001B[0;34m\u001B[0m\u001B[0m\n\u001B[0m\u001B[1;32m     46\u001B[0m \u001B[0;34m\u001B[0m\u001B[0m\n\u001B[1;32m     47\u001B[0m         \u001B[0mtime\u001B[0m\u001B[0;34m.\u001B[0m\u001B[0msleep\u001B[0m\u001B[0;34m(\u001B[0m\u001B[0mtime_out\u001B[0m\u001B[0;34m)\u001B[0m\u001B[0;34m\u001B[0m\u001B[0;34m\u001B[0m\u001B[0m\n",
      "\u001B[0;32m/usr/lib64/python3.6/multiprocessing/pool.py\u001B[0m in \u001B[0;36mjoin\u001B[0;34m(self)\u001B[0m\n\u001B[1;32m    543\u001B[0m     \u001B[0;32mdef\u001B[0m \u001B[0mjoin\u001B[0m\u001B[0;34m(\u001B[0m\u001B[0mself\u001B[0m\u001B[0;34m)\u001B[0m\u001B[0;34m:\u001B[0m\u001B[0;34m\u001B[0m\u001B[0;34m\u001B[0m\u001B[0m\n\u001B[1;32m    544\u001B[0m         \u001B[0mutil\u001B[0m\u001B[0;34m.\u001B[0m\u001B[0mdebug\u001B[0m\u001B[0;34m(\u001B[0m\u001B[0;34m'joining pool'\u001B[0m\u001B[0;34m)\u001B[0m\u001B[0;34m\u001B[0m\u001B[0;34m\u001B[0m\u001B[0m\n\u001B[0;32m--> 545\u001B[0;31m         \u001B[0;32massert\u001B[0m \u001B[0mself\u001B[0m\u001B[0;34m.\u001B[0m\u001B[0m_state\u001B[0m \u001B[0;32min\u001B[0m \u001B[0;34m(\u001B[0m\u001B[0mCLOSE\u001B[0m\u001B[0;34m,\u001B[0m \u001B[0mTERMINATE\u001B[0m\u001B[0;34m)\u001B[0m\u001B[0;34m\u001B[0m\u001B[0;34m\u001B[0m\u001B[0m\n\u001B[0m\u001B[1;32m    546\u001B[0m         \u001B[0mself\u001B[0m\u001B[0;34m.\u001B[0m\u001B[0m_worker_handler\u001B[0m\u001B[0;34m.\u001B[0m\u001B[0mjoin\u001B[0m\u001B[0;34m(\u001B[0m\u001B[0;34m)\u001B[0m\u001B[0;34m\u001B[0m\u001B[0;34m\u001B[0m\u001B[0m\n\u001B[1;32m    547\u001B[0m         \u001B[0mself\u001B[0m\u001B[0;34m.\u001B[0m\u001B[0m_task_handler\u001B[0m\u001B[0;34m.\u001B[0m\u001B[0mjoin\u001B[0m\u001B[0;34m(\u001B[0m\u001B[0;34m)\u001B[0m\u001B[0;34m\u001B[0m\u001B[0;34m\u001B[0m\u001B[0m\n",
      "\u001B[0;31mAssertionError\u001B[0m: "
     ]
    }
   ],
   "source": [
    "import multiprocessing\n",
    "import os\n",
    "import tqdm\n",
    "import re\n",
    "import time\n",
    "\n",
    "def download_xmls(number):   \n",
    "    download_command = f'wget https://ftp.ncbi.nlm.nih.gov/pubmed/baseline/pubmed23n{number}.xml.gz'\n",
    "    cd_command = 'cd xml_data'\n",
    "    \n",
    "    os.system(f'{cd_command} && {download_command}')\n",
    "    \n",
    "def obtain_existing_files():\n",
    "    pattern = r'\\d{4}'\n",
    "    files = os.listdir('xml_data/')\n",
    "    existing = []\n",
    "    for file in files:\n",
    "        existing.append(re.search(pattern, file).group(0))\n",
    "    \n",
    "    return existing\n",
    "    \n",
    "def download_all_files(time_out):\n",
    "    while True:\n",
    "        indices_to_download = []\n",
    "        existing_indices = obtain_existing_files()\n",
    "        arg_lst = []\n",
    "        print(f\"{len(existing_indices)} files exist\")\n",
    "\n",
    "        if len(existing_indices) == 1166:\n",
    "            break\n",
    "\n",
    "\n",
    "        for i in range(1,1167):\n",
    "            str_idx = str(i)\n",
    "            str_idx = '0' * (4-len(str_idx)) + str_idx\n",
    "\n",
    "            if str_idx in existing_indices:\n",
    "                continue\n",
    "\n",
    "            arg_lst.append((str_idx,))\n",
    "\n",
    "        pool = multiprocessing.Pool(processes=128)\n",
    "        pool.starmap(download_xmls, arg_lst)\n",
    "\n",
    "        pool.join()\n",
    "        \n",
    "        time.sleep(time_out)\n",
    "\n",
    "\n",
    "download_all_files(60)\n",
    "    \n",
    "# lst = [(i,) for i in range(1, 1166+1)]\n",
    "# for i in tqdm.tqdm(range(1, 1167)):\n",
    "#     download_xmls(i)\n",
    "\n",
    "\n",
    "# lst = [(i,) for i in range(1166+1)]\n",
    "# pool = multiprocessing.Pool(processes=128)\n",
    "# pool.starmap(download_xmls, lst)\n",
    "# obtain_existing_files()\n",
    "# print(f'number of downloaded file is {len(os.listdir(\"xml_data/\"))}')"
   ]
  },
  {
   "cell_type": "code",
   "execution_count": null,
   "id": "aa4233b8",
   "metadata": {
    "ExecuteTime": {
     "start_time": "2023-09-21T14:01:56.852888940Z"
    }
   },
   "outputs": [],
   "source": [
    "import multiprocessing\n",
    "\n",
    "# Define a function that takes multiple arguments\n",
    "def process_data(a, b):\n",
    "    result = a + b\n",
    "    return result\n",
    "\n",
    "if __name__ == \"__main__\":\n",
    "    # Create a list of tuples with arguments\n",
    "    data = [(1, 2), (3, 4), (5, 6), (7, 8)]\n",
    "\n",
    "    # Create a multiprocessing pool\n",
    "    pool = multiprocessing.Pool()\n",
    "\n",
    "    # Use starmap to process the data in parallel\n",
    "    results = pool.starmap(process_data, data)\n",
    "\n",
    "    # Close the pool to release resources\n",
    "    pool.close()\n",
    "    pool.join()\n",
    "\n",
    "    # Print the results\n",
    "    print(results)\n"
   ]
  }
 ],
 "metadata": {
  "kernelspec": {
   "display_name": "Python 3",
   "language": "python",
   "name": "python3"
  },
  "language_info": {
   "codemirror_mode": {
    "name": "ipython",
    "version": 3
   },
   "file_extension": ".py",
   "mimetype": "text/x-python",
   "name": "python",
   "nbconvert_exporter": "python",
   "pygments_lexer": "ipython3",
   "version": "3.6.8"
  }
 },
 "nbformat": 4,
 "nbformat_minor": 5
}
