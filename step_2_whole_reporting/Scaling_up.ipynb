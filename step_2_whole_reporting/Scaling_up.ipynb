{
 "cells": [
  {
   "cell_type": "code",
   "execution_count": 3,
   "id": "f37c28e7",
   "metadata": {
    "ExecuteTime": {
     "end_time": "2023-11-06T22:01:00.893785215Z",
     "start_time": "2023-11-06T22:01:00.820686148Z"
    }
   },
   "outputs": [],
   "source": [
    "import multiprocessing\n",
    "import os\n",
    "import tqdm\n",
    "import re\n",
    "import time\n",
    "\n",
    "def download_xmls(number):   \n",
    "    download_command = f'wget https://ftp.ncbi.nlm.nih.gov/pubmed/baseline/pubmed23n{number}.xml.gz'\n",
    "    cd_command = 'cd xml_data'\n",
    "    \n",
    "    os.system(f'{cd_command} && {download_command}')\n",
    "    \n",
    "def obtain_existing_files():\n",
    "    pattern = r'\\d{4}'\n",
    "    files = os.listdir('xml_data/')\n",
    "    existing = []\n",
    "    for file in files:\n",
    "        existing.append(re.search(pattern, file).group(0))\n",
    "    \n",
    "    return existing\n",
    "    \n",
    "def download_all_files(time_out):\n",
    "    while True:\n",
    "        indices_to_download = []\n",
    "        existing_indices = obtain_existing_files()\n",
    "        arg_lst = []\n",
    "        print(f\"{len(existing_indices)} files exist\")\n",
    "\n",
    "        if len(existing_indices) == 1166:\n",
    "            break\n",
    "\n",
    "\n",
    "        for i in range(1,1167):\n",
    "            str_idx = str(i)\n",
    "            str_idx = '0' * (4-len(str_idx)) + str_idx\n",
    "\n",
    "            if str_idx in existing_indices:\n",
    "                continue\n",
    "\n",
    "            arg_lst.append((str_idx,))\n",
    "\n",
    "        pool = multiprocessing.Pool(processes=128)\n",
    "        pool.starmap(download_xmls, arg_lst)\n",
    "\n",
    "        pool.join()\n",
    "        \n",
    "        time.sleep(time_out)\n",
    "\n",
    "\n",
    "#download_all_files(60)\n",
    "    \n",
    "# lst = [(i,) for i in range(1, 1166+1)]\n",
    "# for i in tqdm.tqdm(range(1, 1167)):\n",
    "#     download_xmls(i)\n",
    "\n",
    "\n",
    "# lst = [(i,) for i in range(1166+1)]\n",
    "# pool = multiprocessing.Pool(processes=128)\n",
    "# pool.starmap(download_xmls, lst)\n",
    "# obtain_existing_files()\n",
    "# print(f'number of downloaded file is {len(os.listdir(\"xml_data/\"))}')"
   ]
  },
  {
   "cell_type": "code",
   "execution_count": 4,
   "id": "c98b8210",
   "metadata": {
    "ExecuteTime": {
     "start_time": "2023-11-06T22:01:00.886379602Z"
    }
   },
   "outputs": [
    {
     "name": "stdout",
     "output_type": "stream",
     "text": [
      "total files processed 1167\n"
     ]
    },
    {
     "ename": "TypeError",
     "evalue": "'float' object is not iterable",
     "output_type": "error",
     "traceback": [
      "\u001b[0;31m---------------------------------------------------------------------------\u001b[0m",
      "\u001b[0;31mTypeError\u001b[0m                                 Traceback (most recent call last)",
      "\u001b[0;32m<ipython-input-4-14de37f620c1>\u001b[0m in \u001b[0;36m<module>\u001b[0;34m\u001b[0m\n\u001b[1;32m     11\u001b[0m \u001b[0mprint\u001b[0m\u001b[0;34m(\u001b[0m\u001b[0;34mf\"total files processed {len(output)}\"\u001b[0m\u001b[0;34m)\u001b[0m\u001b[0;34m\u001b[0m\u001b[0;34m\u001b[0m\u001b[0m\n\u001b[1;32m     12\u001b[0m \u001b[0;32mfor\u001b[0m \u001b[0mkey\u001b[0m\u001b[0;34m,\u001b[0m \u001b[0mvalue\u001b[0m \u001b[0;32min\u001b[0m \u001b[0moutput\u001b[0m\u001b[0;34m.\u001b[0m\u001b[0mitems\u001b[0m\u001b[0;34m(\u001b[0m\u001b[0;34m)\u001b[0m\u001b[0;34m:\u001b[0m\u001b[0;34m\u001b[0m\u001b[0;34m\u001b[0m\u001b[0m\n\u001b[0;32m---> 13\u001b[0;31m     \u001b[0;32mfor\u001b[0m \u001b[0msubkey\u001b[0m \u001b[0;32min\u001b[0m \u001b[0mvalue\u001b[0m\u001b[0;34m:\u001b[0m\u001b[0;34m\u001b[0m\u001b[0;34m\u001b[0m\u001b[0m\n\u001b[0m\u001b[1;32m     14\u001b[0m         \u001b[0;32mif\u001b[0m \u001b[0;32mnot\u001b[0m \u001b[0msubkey\u001b[0m \u001b[0;32min\u001b[0m \u001b[0mstat\u001b[0m\u001b[0;34m:\u001b[0m\u001b[0;34m\u001b[0m\u001b[0;34m\u001b[0m\u001b[0m\n\u001b[1;32m     15\u001b[0m             \u001b[0mstat\u001b[0m\u001b[0;34m[\u001b[0m\u001b[0msubkey\u001b[0m\u001b[0;34m]\u001b[0m \u001b[0;34m=\u001b[0m \u001b[0;34m[\u001b[0m\u001b[0mvalue\u001b[0m\u001b[0;34m[\u001b[0m\u001b[0msubkey\u001b[0m\u001b[0;34m]\u001b[0m\u001b[0;34m]\u001b[0m\u001b[0;34m\u001b[0m\u001b[0;34m\u001b[0m\u001b[0m\n",
      "\u001b[0;31mTypeError\u001b[0m: 'float' object is not iterable"
     ]
    }
   ],
   "source": [
    "import json\n",
    "import numpy as np\n",
    "stat = {}\n",
    "\n",
    "\n",
    "# Open and read the JSON file\n",
    "with open('output.json', 'r') as json_file:\n",
    "    # Load the JSON content into a dictionary\n",
    "    output = json.load(json_file)\n",
    "\n",
    "print(f\"total files processed {len(output)}\")\n",
    "for key, value in output.items():\n",
    "    for subkey in value:\n",
    "        if not subkey in stat:\n",
    "            stat[subkey] = [value[subkey]]\n",
    "        else:\n",
    "            stat[subkey].append(value[subkey])\n",
    "\n",
    "averaged = {}\n",
    "for key, value in stat.items():\n",
    "    if key == 'PubmedArticle':\n",
    "        averaged[key] = np.sum(value)\n",
    "        print(np.mean(averaged[key]))\n",
    "\n",
    "for key, value in stat.items():\n",
    "    if key == 'PubmedArticle':\n",
    "        continue\n",
    "    \n",
    "    else:\n",
    "        averaged[key] = np.sum(value)/averaged['PubmedArticle']\n",
    "        \n",
    "for key, value in stat.items():\n",
    "    if key == 'PubmedArticle':\n",
    "        averaged[key] = averaged[key] // 30000\n",
    "    \n",
    "print(averaged)"
   ]
  },
  {
   "cell_type": "code",
   "execution_count": 17,
   "id": "e216346a",
   "metadata": {
    "ExecuteTime": {
     "start_time": "2023-11-06T22:01:00.887613704Z"
    }
   },
   "outputs": [
    {
     "name": "stdout",
     "output_type": "stream",
     "text": [
      "1538\n",
      "gunzip pubmed23n0223.xml.gz\n",
      "mv pubmed23n0223.xml /shared/xml_data/\n"
     ]
    }
   ],
   "source": [
    "xml_files = os.listdir('/shared/pubmed/')\n",
    "print(len(xml_files))\n",
    "\n",
    "for file in xml_files:\n",
    "    if '.gz' in file:\n",
    "        xml_file_name = file[:-3]\n",
    "        command = f'gunzip {file}'\n",
    "        os.system(command)\n",
    "        print(command)\n",
    "        \n",
    "        command = f'mv {xml_file_name} /shared/xml_data/'\n",
    "        os.system(command)\n",
    "        print(command)\n",
    "        break\n",
    "        "
   ]
  },
  {
   "cell_type": "code",
   "execution_count": null,
   "id": "42b811b7",
   "metadata": {},
   "outputs": [],
   "source": []
  }
 ],
 "metadata": {
  "kernelspec": {
   "display_name": "Python 3",
   "language": "python",
   "name": "python3"
  },
  "language_info": {
   "codemirror_mode": {
    "name": "ipython",
    "version": 3
   },
   "file_extension": ".py",
   "mimetype": "text/x-python",
   "name": "python",
   "nbconvert_exporter": "python",
   "pygments_lexer": "ipython3",
   "version": "3.6.8"
  }
 },
 "nbformat": 4,
 "nbformat_minor": 5
}
