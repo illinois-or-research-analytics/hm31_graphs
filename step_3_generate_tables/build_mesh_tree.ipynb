{
 "cells": [
  {
   "cell_type": "markdown",
   "id": "d16a44a7",
   "metadata": {
    "ExecuteTime": {
     "end_time": "2023-09-28T13:08:08.215277147Z",
     "start_time": "2023-09-28T13:08:08.204401966Z"
    },
    "collapsed": true
   },
   "source": [
    "<h1>Get all mesh_terms from the Pubmed </h1>"
   ]
  },
  {
   "cell_type": "code",
   "execution_count": 1,
   "id": "75f7d894",
   "metadata": {
    "ExecuteTime": {
     "end_time": "2023-09-30T20:17:37.366822129Z",
     "start_time": "2023-09-30T20:17:37.297320687Z"
    }
   },
   "outputs": [],
   "source": [
    "import os\n",
    "from tqdm import tqdm \n",
    "import pickle\n",
    "\n",
    "# Set the PGDATABASE environment variable\n",
    "os.environ[\"PGDATABASE\"] = \"ernieplus\"\n",
    "import psycopg2\n",
    "\n",
    "def get_all_mesh_terms():\n",
    "    all_mesh_set = set()\n",
    "    \n",
    "    conn = psycopg2.connect(\"\")\n",
    "    print(\"Connected to Postgres successfully\")\n",
    "    cur = conn.cursor()\n",
    "    sql_query = \"select mesh_terms from hm31.pubmed_all_xmls_new am\"\n",
    "\n",
    "    cur.execute(sql_query)\n",
    "\n",
    "    result = cur.fetchall()\n",
    "    for idx, row in tqdm(enumerate(result), total = 34780700):\n",
    "        if len(row) == 0 or len(row[0]) == 0:\n",
    "            continue\n",
    "\n",
    "   \n",
    "        mesh_terms = row[0].split()[0].split(',')\n",
    "        #print(mesh_terms)\n",
    "        \n",
    "        for mesh in mesh_terms:\n",
    "            all_mesh_set.add(mesh)\n",
    "            \n",
    "    return all_mesh_set\n",
    "\n",
    "# all_mesh_set = get_all_mesh_terms()\n",
    "\n",
    "# with open('all_mesh.pkl', 'wb') as file:\n",
    "#     pickle.dump(all_mesh_set, file)"
   ]
  },
  {
   "cell_type": "code",
   "execution_count": 2,
   "id": "ec4e9f6c",
   "metadata": {
    "ExecuteTime": {
     "end_time": "2023-09-30T20:17:37.393592930Z",
     "start_time": "2023-09-30T20:17:37.389994619Z"
    }
   },
   "outputs": [
    {
     "name": "stdout",
     "output_type": "stream",
     "text": [
      "29944\n"
     ]
    }
   ],
   "source": [
    "with open('all_mesh.pkl', 'rb') as file:\n",
    "    all_mesh_set = pickle.load(file)\n",
    "    \n",
    "print(len(all_mesh_set))"
   ]
  },
  {
   "cell_type": "markdown",
   "id": "b3dd6498",
   "metadata": {},
   "source": [
    "<h1>Obtaining MeSH tree structure </h1>"
   ]
  },
  {
   "cell_type": "code",
   "execution_count": 3,
   "id": "146f6965",
   "metadata": {
    "ExecuteTime": {
     "end_time": "2023-09-30T20:17:53.883423932Z",
     "start_time": "2023-09-30T20:17:37.390525278Z"
    }
   },
   "outputs": [
    {
     "name": "stderr",
     "output_type": "stream",
     "text": [
      "  0%|          | 1/300 [00:15<1:14:45, 15.00s/it]\n"
     ]
    },
    {
     "ename": "ConnectionError",
     "evalue": "('Connection aborted.', ConnectionResetError(104, 'Connection reset by peer'))",
     "output_type": "error",
     "traceback": [
      "\u001B[0;31m---------------------------------------------------------------------------\u001B[0m",
      "\u001B[0;31mRemoteTraceback\u001B[0m                           Traceback (most recent call last)",
      "\u001B[0;31mRemoteTraceback\u001B[0m: \n\"\"\"\nTraceback (most recent call last):\n  File \"/home/hm31/.virtualenvs/step_1/lib/python3.6/site-packages/urllib3/connectionpool.py\", line 721, in urlopen\n    chunked=chunked,\n  File \"/home/hm31/.virtualenvs/step_1/lib/python3.6/site-packages/urllib3/connectionpool.py\", line 466, in _make_request\n    six.raise_from(e, None)\n  File \"<string>\", line 3, in raise_from\n  File \"/home/hm31/.virtualenvs/step_1/lib/python3.6/site-packages/urllib3/connectionpool.py\", line 461, in _make_request\n    httplib_response = conn.getresponse()\n  File \"/usr/lib64/python3.6/http/client.py\", line 1346, in getresponse\n    response.begin()\n  File \"/usr/lib64/python3.6/http/client.py\", line 307, in begin\n    version, status, reason = self._read_status()\n  File \"/usr/lib64/python3.6/http/client.py\", line 268, in _read_status\n    line = str(self.fp.readline(_MAXLINE + 1), \"iso-8859-1\")\n  File \"/usr/lib64/python3.6/socket.py\", line 586, in readinto\n    return self._sock.recv_into(b)\n  File \"/usr/lib64/python3.6/ssl.py\", line 971, in recv_into\n    return self.read(nbytes, buffer)\n  File \"/usr/lib64/python3.6/ssl.py\", line 833, in read\n    return self._sslobj.read(len, buffer)\n  File \"/usr/lib64/python3.6/ssl.py\", line 590, in read\n    v = self._sslobj.read(len, buffer)\nConnectionResetError: [Errno 104] Connection reset by peer\n\nDuring handling of the above exception, another exception occurred:\n\nTraceback (most recent call last):\n  File \"/home/hm31/.virtualenvs/step_1/lib/python3.6/site-packages/requests/adapters.py\", line 450, in send\n    timeout=timeout\n  File \"/home/hm31/.virtualenvs/step_1/lib/python3.6/site-packages/urllib3/connectionpool.py\", line 799, in urlopen\n    method, url, error=e, _pool=self, _stacktrace=sys.exc_info()[2]\n  File \"/home/hm31/.virtualenvs/step_1/lib/python3.6/site-packages/urllib3/util/retry.py\", line 550, in increment\n    raise six.reraise(type(error), error, _stacktrace)\n  File \"/home/hm31/.virtualenvs/step_1/lib/python3.6/site-packages/urllib3/packages/six.py\", line 769, in reraise\n    raise value.with_traceback(tb)\n  File \"/home/hm31/.virtualenvs/step_1/lib/python3.6/site-packages/urllib3/connectionpool.py\", line 721, in urlopen\n    chunked=chunked,\n  File \"/home/hm31/.virtualenvs/step_1/lib/python3.6/site-packages/urllib3/connectionpool.py\", line 466, in _make_request\n    six.raise_from(e, None)\n  File \"<string>\", line 3, in raise_from\n  File \"/home/hm31/.virtualenvs/step_1/lib/python3.6/site-packages/urllib3/connectionpool.py\", line 461, in _make_request\n    httplib_response = conn.getresponse()\n  File \"/usr/lib64/python3.6/http/client.py\", line 1346, in getresponse\n    response.begin()\n  File \"/usr/lib64/python3.6/http/client.py\", line 307, in begin\n    version, status, reason = self._read_status()\n  File \"/usr/lib64/python3.6/http/client.py\", line 268, in _read_status\n    line = str(self.fp.readline(_MAXLINE + 1), \"iso-8859-1\")\n  File \"/usr/lib64/python3.6/socket.py\", line 586, in readinto\n    return self._sock.recv_into(b)\n  File \"/usr/lib64/python3.6/ssl.py\", line 971, in recv_into\n    return self.read(nbytes, buffer)\n  File \"/usr/lib64/python3.6/ssl.py\", line 833, in read\n    return self._sslobj.read(len, buffer)\n  File \"/usr/lib64/python3.6/ssl.py\", line 590, in read\n    v = self._sslobj.read(len, buffer)\nurllib3.exceptions.ProtocolError: ('Connection aborted.', ConnectionResetError(104, 'Connection reset by peer'))\n\nDuring handling of the above exception, another exception occurred:\n\nTraceback (most recent call last):\n  File \"/usr/lib64/python3.6/multiprocessing/pool.py\", line 119, in worker\n    result = (True, func(*args, **kwds))\n  File \"/usr/lib64/python3.6/multiprocessing/pool.py\", line 47, in starmapstar\n    return list(itertools.starmap(args[0], args[1]))\n  File \"<ipython-input-3-6b492f23b78f>\", line 11, in retrieve_mesh_tree\n    response = session.get(url)\n  File \"/home/hm31/.virtualenvs/step_1/lib/python3.6/site-packages/requests/sessions.py\", line 542, in get\n    return self.request('GET', url, **kwargs)\n  File \"/home/hm31/.virtualenvs/step_1/lib/python3.6/site-packages/requests/sessions.py\", line 529, in request\n    resp = self.send(prep, **send_kwargs)\n  File \"/home/hm31/.virtualenvs/step_1/lib/python3.6/site-packages/requests/sessions.py\", line 645, in send\n    r = adapter.send(request, **kwargs)\n  File \"/home/hm31/.virtualenvs/step_1/lib/python3.6/site-packages/requests/adapters.py\", line 501, in send\n    raise ConnectionError(err, request=request)\nrequests.exceptions.ConnectionError: ('Connection aborted.', ConnectionResetError(104, 'Connection reset by peer'))\n\"\"\"",
      "\nThe above exception was the direct cause of the following exception:\n",
      "\u001B[0;31mConnectionError\u001B[0m                           Traceback (most recent call last)",
      "\u001B[0;32m<ipython-input-3-6b492f23b78f>\u001B[0m in \u001B[0;36m<module>\u001B[0;34m\u001B[0m\n\u001B[1;32m     56\u001B[0m     \u001B[0;32mif\u001B[0m \u001B[0mi\u001B[0m \u001B[0;34m!=\u001B[0m \u001B[0mSPLIT\u001B[0m \u001B[0;34m-\u001B[0m\u001B[0;36m1\u001B[0m\u001B[0;34m:\u001B[0m\u001B[0;34m\u001B[0m\u001B[0;34m\u001B[0m\u001B[0m\n\u001B[1;32m     57\u001B[0m         \u001B[0;32mwith\u001B[0m \u001B[0mmultiprocessing\u001B[0m\u001B[0;34m.\u001B[0m\u001B[0mPool\u001B[0m\u001B[0;34m(\u001B[0m\u001B[0mprocesses\u001B[0m\u001B[0;34m=\u001B[0m\u001B[0;36m10\u001B[0m\u001B[0;34m)\u001B[0m \u001B[0;32mas\u001B[0m \u001B[0mpool\u001B[0m\u001B[0;34m:\u001B[0m\u001B[0;34m\u001B[0m\u001B[0;34m\u001B[0m\u001B[0m\n\u001B[0;32m---> 58\u001B[0;31m                 \u001B[0mpool\u001B[0m\u001B[0;34m.\u001B[0m\u001B[0mstarmap\u001B[0m\u001B[0;34m(\u001B[0m\u001B[0mretrieve_mesh_tree\u001B[0m\u001B[0;34m,\u001B[0m \u001B[0mlst\u001B[0m\u001B[0;34m[\u001B[0m\u001B[0mi\u001B[0m\u001B[0;34m*\u001B[0m\u001B[0mCHUNK_SIZE\u001B[0m\u001B[0;34m:\u001B[0m \u001B[0;34m(\u001B[0m\u001B[0mi\u001B[0m\u001B[0;34m+\u001B[0m\u001B[0;36m1\u001B[0m\u001B[0;34m)\u001B[0m \u001B[0;34m*\u001B[0m \u001B[0mCHUNK_SIZE\u001B[0m\u001B[0;34m]\u001B[0m\u001B[0;34m)\u001B[0m\u001B[0;34m\u001B[0m\u001B[0;34m\u001B[0m\u001B[0m\n\u001B[0m\u001B[1;32m     59\u001B[0m \u001B[0;34m\u001B[0m\u001B[0m\n\u001B[1;32m     60\u001B[0m     \u001B[0;32melse\u001B[0m\u001B[0;34m:\u001B[0m\u001B[0;34m\u001B[0m\u001B[0;34m\u001B[0m\u001B[0m\n",
      "\u001B[0;32m/usr/lib64/python3.6/multiprocessing/pool.py\u001B[0m in \u001B[0;36mstarmap\u001B[0;34m(self, func, iterable, chunksize)\u001B[0m\n\u001B[1;32m    272\u001B[0m         \u001B[0;31m`\u001B[0m\u001B[0mfunc\u001B[0m\u001B[0;31m`\u001B[0m \u001B[0;32mand\u001B[0m \u001B[0;34m(\u001B[0m\u001B[0ma\u001B[0m\u001B[0;34m,\u001B[0m \u001B[0mb\u001B[0m\u001B[0;34m)\u001B[0m \u001B[0mbecomes\u001B[0m \u001B[0mfunc\u001B[0m\u001B[0;34m(\u001B[0m\u001B[0ma\u001B[0m\u001B[0;34m,\u001B[0m \u001B[0mb\u001B[0m\u001B[0;34m)\u001B[0m\u001B[0;34m.\u001B[0m\u001B[0;34m\u001B[0m\u001B[0;34m\u001B[0m\u001B[0m\n\u001B[1;32m    273\u001B[0m         '''\n\u001B[0;32m--> 274\u001B[0;31m         \u001B[0;32mreturn\u001B[0m \u001B[0mself\u001B[0m\u001B[0;34m.\u001B[0m\u001B[0m_map_async\u001B[0m\u001B[0;34m(\u001B[0m\u001B[0mfunc\u001B[0m\u001B[0;34m,\u001B[0m \u001B[0miterable\u001B[0m\u001B[0;34m,\u001B[0m \u001B[0mstarmapstar\u001B[0m\u001B[0;34m,\u001B[0m \u001B[0mchunksize\u001B[0m\u001B[0;34m)\u001B[0m\u001B[0;34m.\u001B[0m\u001B[0mget\u001B[0m\u001B[0;34m(\u001B[0m\u001B[0;34m)\u001B[0m\u001B[0;34m\u001B[0m\u001B[0;34m\u001B[0m\u001B[0m\n\u001B[0m\u001B[1;32m    275\u001B[0m \u001B[0;34m\u001B[0m\u001B[0m\n\u001B[1;32m    276\u001B[0m     def starmap_async(self, func, iterable, chunksize=None, callback=None,\n",
      "\u001B[0;32m/usr/lib64/python3.6/multiprocessing/pool.py\u001B[0m in \u001B[0;36mget\u001B[0;34m(self, timeout)\u001B[0m\n\u001B[1;32m    642\u001B[0m             \u001B[0;32mreturn\u001B[0m \u001B[0mself\u001B[0m\u001B[0;34m.\u001B[0m\u001B[0m_value\u001B[0m\u001B[0;34m\u001B[0m\u001B[0;34m\u001B[0m\u001B[0m\n\u001B[1;32m    643\u001B[0m         \u001B[0;32melse\u001B[0m\u001B[0;34m:\u001B[0m\u001B[0;34m\u001B[0m\u001B[0;34m\u001B[0m\u001B[0m\n\u001B[0;32m--> 644\u001B[0;31m             \u001B[0;32mraise\u001B[0m \u001B[0mself\u001B[0m\u001B[0;34m.\u001B[0m\u001B[0m_value\u001B[0m\u001B[0;34m\u001B[0m\u001B[0;34m\u001B[0m\u001B[0m\n\u001B[0m\u001B[1;32m    645\u001B[0m \u001B[0;34m\u001B[0m\u001B[0m\n\u001B[1;32m    646\u001B[0m     \u001B[0;32mdef\u001B[0m \u001B[0m_set\u001B[0m\u001B[0;34m(\u001B[0m\u001B[0mself\u001B[0m\u001B[0;34m,\u001B[0m \u001B[0mi\u001B[0m\u001B[0;34m,\u001B[0m \u001B[0mobj\u001B[0m\u001B[0;34m)\u001B[0m\u001B[0;34m:\u001B[0m\u001B[0;34m\u001B[0m\u001B[0;34m\u001B[0m\u001B[0m\n",
      "\u001B[0;31mConnectionError\u001B[0m: ('Connection aborted.', ConnectionResetError(104, 'Connection reset by peer'))"
     ]
    }
   ],
   "source": [
    "import requests\n",
    "import time\n",
    "import multiprocessing \n",
    "import json\n",
    "\n",
    "def retrieve_mesh_tree(UI, idx, shared_dict):\n",
    "    url = f\"https://meshb.nlm.nih.gov/record/ui?ui={UI}\"\n",
    "    with requests.Session() as session:\n",
    "        url = f\"https://meshb.nlm.nih.gov/record/ui?ui={UI}\"\n",
    "\n",
    "        response = session.get(url)\n",
    "\n",
    "    if response.status_code == 200:\n",
    "        text_of_interest = response.text\n",
    "        \n",
    "        try:\n",
    "            treeNumber_idx = text_of_interest.index('treeNumber_0')\n",
    "            uniqueID = text_of_interest.index('Unique ID')\n",
    "            limited_string = text_of_interest[treeNumber_idx:uniqueID]\n",
    "            end_index = limited_string.find('</a>')\n",
    "            counter = 1\n",
    "\n",
    "            while end_index-counter + 1 >= 0:\n",
    "                if limited_string[end_index-counter] == '>':\n",
    "                    shared_dict[UI] = limited_string[end_index-counter + 1:end_index]\n",
    "                    break\n",
    "                counter += 1\n",
    "            \n",
    "        except:\n",
    "            shared_dict[UI] = \"failed\"\n",
    "\n",
    "    else:\n",
    "        shared_dict[UI] = \"failed\"\n",
    "    \n",
    "\n",
    "temp_mesh = {}\n",
    "all_mesh_terms = multiprocessing.Manager().dict()\n",
    "\n",
    "lst = []\n",
    "\n",
    "\n",
    "for idx, mesh in enumerate(all_mesh_set):  \n",
    "        if not mesh in all_mesh_terms:\n",
    "            temp_mesh[mesh] = 1\n",
    "            \n",
    "\n",
    "for index, mesh in enumerate(temp_mesh.keys()):\n",
    "    lst.append((mesh, index, all_mesh_terms))\n",
    "\n",
    "    \n",
    "CHUNK_SIZE = 100\n",
    "SPLIT = len(lst) // CHUNK_SIZE + 1\n",
    "\n",
    "\n",
    "for i in tqdm(range(SPLIT)):\n",
    "    if i != SPLIT -1:\n",
    "        with multiprocessing.Pool(processes=10) as pool:\n",
    "                pool.starmap(retrieve_mesh_tree, lst[i*CHUNK_SIZE: (i+1) * CHUNK_SIZE])\n",
    "    \n",
    "    else:\n",
    "        with multiprocessing.Pool(multiprocessing.cpu_count()) as pool:\n",
    "            pool.starmap(retrieve_mesh_tree, lst[i*CHUNK_SIZE: ])  \n",
    "    \n",
    "    pool.close()\n",
    "    pool.join()\n",
    "\n",
    "\n",
    "        \n",
    "    time.sleep(10)\n",
    "    \n",
    "\n",
    "with open('all_mesh_retrieved', \"w\") as json_file:\n",
    "    json_file.write(all_mesh_terms)"
   ]
  },
  {
   "cell_type": "code",
   "execution_count": null,
   "id": "9993c550",
   "metadata": {
    "ExecuteTime": {
     "start_time": "2023-09-30T20:17:53.883147362Z"
    }
   },
   "outputs": [],
   "source": [
    "mesh_saved = {}\n",
    "\n",
    "for key,value in all_mesh_terms.items():\n",
    "    mesh_saved[key] = value\n",
    "    \n",
    "    \n",
    "json_data = json.dumps(mesh_saved, indent=4)  # You can use indent for pretty formatting\n",
    "\n",
    "# Write the JSON data to the file\n",
    "with open('all_mesh_retrieved.json', 'w') as json_file:\n",
    "    json_file.write(json_data)\n"
   ]
  },
  {
   "cell_type": "code",
   "execution_count": null,
   "id": "aabb3f08",
   "metadata": {
    "ExecuteTime": {
     "end_time": "2023-09-30T20:17:53.887219033Z",
     "start_time": "2023-09-30T20:17:53.884419916Z"
    }
   },
   "outputs": [],
   "source": [
    "!ls\n",
    "!rm all_mesh_retrieved"
   ]
  },
  {
   "cell_type": "code",
   "execution_count": null,
   "id": "e501751e",
   "metadata": {
    "ExecuteTime": {
     "start_time": "2023-09-30T20:17:53.886325992Z"
    }
   },
   "outputs": [],
   "source": []
  }
 ],
 "metadata": {
  "kernelspec": {
   "display_name": "Python 3",
   "language": "python",
   "name": "python3"
  },
  "language_info": {
   "codemirror_mode": {
    "name": "ipython",
    "version": 3
   },
   "file_extension": ".py",
   "mimetype": "text/x-python",
   "name": "python",
   "nbconvert_exporter": "python",
   "pygments_lexer": "ipython3",
   "version": "3.6.8"
  }
 },
 "nbformat": 4,
 "nbformat_minor": 5
}
