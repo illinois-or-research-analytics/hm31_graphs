{
 "cells": [
  {
   "cell_type": "code",
   "execution_count": 17,
   "id": "d9a99bd8",
   "metadata": {
    "ExecuteTime": {
     "end_time": "2023-11-14T17:20:57.411354099Z",
     "start_time": "2023-11-14T17:20:57.393634306Z"
    }
   },
   "outputs": [
    {
     "name": "stdout",
     "output_type": "stream",
     "text": [
      "vi\n"
     ]
    }
   ],
   "source": [
    "print(\"vi\")"
   ]
  },
  {
   "cell_type": "code",
   "execution_count": 29,
   "id": "d8315fc9",
   "metadata": {},
   "outputs": [
    {
     "name": "stdout",
     "output_type": "stream",
     "text": [
      "Collecting pyarrow\n",
      "  Downloading pyarrow-6.0.1-cp36-cp36m-manylinux_2_17_x86_64.manylinux2014_x86_64.whl (25.6 MB)\n",
      "     |████████████████████████████████| 25.6 MB 12.5 MB/s            \n",
      "\u001b[?25hRequirement already satisfied: numpy>=1.16.6 in /home/hm31/step_1/venv/lib64/python3.6/site-packages (from pyarrow) (1.19.5)\n",
      "Installing collected packages: pyarrow\n",
      "Successfully installed pyarrow-6.0.1\n"
     ]
    }
   ],
   "source": [
    "!pip install pyarrow"
   ]
  },
  {
   "cell_type": "code",
   "execution_count": 19,
   "id": "7a490ae5",
   "metadata": {
    "ExecuteTime": {
     "end_time": "2023-11-14T17:20:57.509259693Z",
     "start_time": "2023-11-14T17:20:57.401597831Z"
    }
   },
   "outputs": [
    {
     "name": "stdout",
     "output_type": "stream",
     "text": [
      "Error: relation \"hm31.pubmed_all_xmls_abstracts\" does not exist\n",
      "LINE 1: INSERT INTO hm31.pubmed_all_xmls_abstracts VALUES (123425,''...\n",
      "                    ^\n",
      "\n"
     ]
    }
   ],
   "source": [
    "import os\n",
    "import psycopg2\n",
    "from psycopg2 import sql\n",
    "\n",
    "# Set the PGDATABASE environment variable\n",
    "os.environ[\"PGDATABASE\"] = \"ernieplus\"\n",
    "\n",
    "def insert_values_into_table(values_list):\n",
    "    try:\n",
    "        # Connect to the PostgreSQL database\n",
    "        conn = psycopg2.connect(\"\")\n",
    "        cur = conn.cursor()\n",
    "\n",
    "        \n",
    "        args = ','.join(cur.mogrify(\"(%s,%s,%s, %s, %s, %s, %s, %s, %s, %s)\", i).decode('utf-8')\n",
    "                for i in values_list)\n",
    "        \n",
    "        cur.execute(\"INSERT INTO hm31.pubmed_all_xmls_abstracts VALUES \" + (args))\n",
    "\n",
    "        conn.commit()\n",
    "        print(\"Inserted values successfully\")\n",
    "\n",
    "    except Exception as e:\n",
    "        print(\"Error:\", e)\n",
    "\n",
    "    finally:\n",
    "        cur.close()\n",
    "        conn.close()\n",
    "\n",
    "# Example usage:\n",
    "values_to_insert = [\n",
    "    (123425, '', '', '', 0, 0, '', 'doi1','title1', 'abs1'),\n",
    "    (543251, '5678-1234', 'Grant3, Grant4', 'Chemical3, Chemical4', 2021, 2020, 'Term3, Term4','doi2','t1','a1')\n",
    "]\n",
    "\n",
    "insert_values_into_table(values_to_insert)\n"
   ]
  },
  {
   "cell_type": "code",
   "execution_count": 22,
   "id": "ba8ba960",
   "metadata": {
    "ExecuteTime": {
     "start_time": "2023-11-14T17:20:57.494536409Z"
    }
   },
   "outputs": [
    {
     "name": "stdout",
     "output_type": "stream",
     "text": [
      "read\n",
      "parsed\n"
     ]
    }
   ],
   "source": [
    "import xmltodict\n",
    "import pandas as pd\n",
    "\n",
    "def parse(file_path):\n",
    "    try:\n",
    "        # Open and read the XML file\n",
    "        with open(file_path, 'r', encoding='utf-8') as file:\n",
    "            xml_contents = file.read()\n",
    "        print(\"read\")\n",
    "        # Parse the XML content using xmltodict\n",
    "        xml_dict = xmltodict.parse(xml_contents)\n",
    "        print(\"parsed\")\n",
    "        # Print the parsed XML as a Python dictionary\n",
    "    except Exception as e:\n",
    "        print(\"Error:\", e)\n",
    "        \n",
    "    return xml_dict\n",
    "\n",
    "xml_dict = parse('/shared/hossein_hm31/xml_data/pubmed23n1439.xml')\n",
    "\n"
   ]
  },
  {
   "cell_type": "code",
   "execution_count": null,
   "id": "16cbb502",
   "metadata": {
    "ExecuteTime": {
     "start_time": "2023-11-14T17:20:57.494904271Z"
    }
   },
   "outputs": [],
   "source": [
    "import metapub\n",
    "\n",
    "!convert pmid2doi 10\n",
    "\n"
   ]
  },
  {
   "cell_type": "code",
   "execution_count": null,
   "id": "73ef3df4",
   "metadata": {
    "ExecuteTime": {
     "start_time": "2023-11-14T17:20:57.495169289Z"
    }
   },
   "outputs": [],
   "source": [
    "from dicttoxml import dicttoxml\n",
    "xml = dicttoxml(xml_dict['PubmedArticleSet']['PubmedArticle'][0])\n",
    "print(type(xml))\n",
    "# print(str(xml))"
   ]
  },
  {
   "cell_type": "code",
   "execution_count": 3,
   "id": "f0006f3d",
   "metadata": {
    "ExecuteTime": {
     "end_time": "2023-11-14T17:20:57.668184584Z",
     "start_time": "2023-11-14T17:20:57.510331289Z"
    }
   },
   "outputs": [
    {
     "ename": "NameError",
     "evalue": "name 'xml_dict' is not defined",
     "output_type": "error",
     "traceback": [
      "\u001b[0;31m---------------------------------------------------------------------------\u001b[0m",
      "\u001b[0;31mNameError\u001b[0m                                 Traceback (most recent call last)",
      "\u001b[0;32m<ipython-input-3-00dbc87022ff>\u001b[0m in \u001b[0;36m<module>\u001b[0;34m\u001b[0m\n\u001b[0;32m----> 1\u001b[0;31m \u001b[0mprint\u001b[0m\u001b[0;34m(\u001b[0m\u001b[0mlen\u001b[0m\u001b[0;34m(\u001b[0m\u001b[0mxml_dict\u001b[0m\u001b[0;34m[\u001b[0m\u001b[0;34m'PubmedArticleSet'\u001b[0m\u001b[0;34m]\u001b[0m\u001b[0;34m[\u001b[0m\u001b[0;34m'PubmedArticle'\u001b[0m\u001b[0;34m]\u001b[0m\u001b[0;34m)\u001b[0m\u001b[0;34m)\u001b[0m\u001b[0;34m\u001b[0m\u001b[0;34m\u001b[0m\u001b[0m\n\u001b[0m\u001b[1;32m      2\u001b[0m \u001b[0;31m# print(xml_dict['PubmedArticleSet']['PubmedArticle'][0])\u001b[0m\u001b[0;34m\u001b[0m\u001b[0;34m\u001b[0m\u001b[0;34m\u001b[0m\u001b[0m\n\u001b[1;32m      3\u001b[0m \u001b[0mprint\u001b[0m\u001b[0;34m(\u001b[0m\u001b[0mtype\u001b[0m\u001b[0;34m(\u001b[0m\u001b[0mxml_dict\u001b[0m\u001b[0;34m[\u001b[0m\u001b[0;34m'PubmedArticleSet'\u001b[0m\u001b[0;34m]\u001b[0m\u001b[0;34m[\u001b[0m\u001b[0;34m'PubmedArticle'\u001b[0m\u001b[0;34m]\u001b[0m\u001b[0;34m[\u001b[0m\u001b[0;36m0\u001b[0m\u001b[0;34m]\u001b[0m\u001b[0;34m)\u001b[0m\u001b[0;34m)\u001b[0m\u001b[0;34m\u001b[0m\u001b[0;34m\u001b[0m\u001b[0m\n\u001b[1;32m      4\u001b[0m \u001b[0;34m\u001b[0m\u001b[0m\n",
      "\u001b[0;31mNameError\u001b[0m: name 'xml_dict' is not defined"
     ]
    }
   ],
   "source": [
    "print(len(xml_dict['PubmedArticleSet']['PubmedArticle']))\n",
    "# print(xml_dict['PubmedArticleSet']['PubmedArticle'][0])\n",
    "print(type(xml_dict['PubmedArticleSet']['PubmedArticle'][0]))\n"
   ]
  },
  {
   "cell_type": "code",
   "execution_count": 4,
   "id": "58f257ed",
   "metadata": {
    "ExecuteTime": {
     "start_time": "2023-11-14T17:20:57.564258461Z"
    }
   },
   "outputs": [
    {
     "ename": "NameError",
     "evalue": "name 'temp' is not defined",
     "output_type": "error",
     "traceback": [
      "\u001b[0;31m---------------------------------------------------------------------------\u001b[0m",
      "\u001b[0;31mNameError\u001b[0m                                 Traceback (most recent call last)",
      "\u001b[0;32m<ipython-input-4-f720e5fa74f0>\u001b[0m in \u001b[0;36m<module>\u001b[0;34m\u001b[0m\n\u001b[0;32m----> 1\u001b[0;31m \u001b[0marticle_id_list\u001b[0m \u001b[0;34m=\u001b[0m \u001b[0mtemp\u001b[0m\u001b[0;34m[\u001b[0m\u001b[0;34m'PubmedData'\u001b[0m\u001b[0;34m]\u001b[0m\u001b[0;34m[\u001b[0m\u001b[0;34m'ArticleIdList'\u001b[0m\u001b[0;34m]\u001b[0m\u001b[0;34m[\u001b[0m\u001b[0;34m'ArticleId'\u001b[0m\u001b[0;34m]\u001b[0m\u001b[0;34m\u001b[0m\u001b[0;34m\u001b[0m\u001b[0m\n\u001b[0m\u001b[1;32m      2\u001b[0m \u001b[0mprint\u001b[0m\u001b[0;34m(\u001b[0m\u001b[0;34m'doi'\u001b[0m \u001b[0;32min\u001b[0m \u001b[0mstr\u001b[0m\u001b[0;34m(\u001b[0m\u001b[0marticle_id_list\u001b[0m\u001b[0;34m[\u001b[0m\u001b[0;36m1\u001b[0m\u001b[0;34m]\u001b[0m\u001b[0;34m)\u001b[0m\u001b[0;34m)\u001b[0m\u001b[0;34m\u001b[0m\u001b[0;34m\u001b[0m\u001b[0m\n\u001b[1;32m      3\u001b[0m \u001b[0;31m# print(article_id_list[1])\u001b[0m\u001b[0;34m\u001b[0m\u001b[0;34m\u001b[0m\u001b[0;34m\u001b[0m\u001b[0m\n\u001b[1;32m      4\u001b[0m \u001b[0mprint\u001b[0m\u001b[0;34m(\u001b[0m\u001b[0marticle_id_list\u001b[0m\u001b[0;34m[\u001b[0m\u001b[0;36m1\u001b[0m\u001b[0;34m]\u001b[0m\u001b[0;34m.\u001b[0m\u001b[0mkeys\u001b[0m\u001b[0;34m(\u001b[0m\u001b[0;34m)\u001b[0m\u001b[0;34m)\u001b[0m\u001b[0;34m\u001b[0m\u001b[0;34m\u001b[0m\u001b[0m\n\u001b[1;32m      5\u001b[0m \u001b[0mprint\u001b[0m\u001b[0;34m(\u001b[0m\u001b[0marticle_id_list\u001b[0m\u001b[0;34m[\u001b[0m\u001b[0;36m1\u001b[0m\u001b[0;34m]\u001b[0m\u001b[0;34m[\u001b[0m\u001b[0;34m'#text'\u001b[0m\u001b[0;34m]\u001b[0m\u001b[0;34m)\u001b[0m\u001b[0;34m\u001b[0m\u001b[0;34m\u001b[0m\u001b[0m\n",
      "\u001b[0;31mNameError\u001b[0m: name 'temp' is not defined"
     ]
    }
   ],
   "source": [
    "article_id_list = temp['PubmedData']['ArticleIdList']['ArticleId']\n",
    "print('doi' in str(article_id_list[1]))\n",
    "# print(article_id_list[1])\n",
    "print(article_id_list[1].keys())\n",
    "print(article_id_list[1]['#text'])\n",
    "\n",
    "\n",
    "# Iterate through the list of ArticleId entries\n",
    "# for article_id in article_id_list['ArticleId']:\n",
    "#     if article_id.get('@IdType') == 'doi':\n",
    "#         doi = article_id['#text']\n",
    "#         print(\"DOI:\", doi)\n",
    "#         break"
   ]
  },
  {
   "cell_type": "code",
   "execution_count": 5,
   "id": "ada5a03d",
   "metadata": {
    "ExecuteTime": {
     "end_time": "2023-11-14T17:20:57.736756933Z",
     "start_time": "2023-11-14T17:20:57.674321962Z"
    }
   },
   "outputs": [
    {
     "ename": "NameError",
     "evalue": "name 're' is not defined",
     "output_type": "error",
     "traceback": [
      "\u001b[0;31m---------------------------------------------------------------------------\u001b[0m",
      "\u001b[0;31mNameError\u001b[0m                                 Traceback (most recent call last)",
      "\u001b[0;32m<ipython-input-5-fd91ae1dc539>\u001b[0m in \u001b[0;36m<module>\u001b[0;34m\u001b[0m\n\u001b[1;32m     32\u001b[0m \u001b[0;34m\u001b[0m\u001b[0m\n\u001b[1;32m     33\u001b[0m \u001b[0;31m# Find all DOIs in the text\u001b[0m\u001b[0;34m\u001b[0m\u001b[0;34m\u001b[0m\u001b[0;34m\u001b[0m\u001b[0m\n\u001b[0;32m---> 34\u001b[0;31m \u001b[0mdois\u001b[0m \u001b[0;34m=\u001b[0m \u001b[0mre\u001b[0m\u001b[0;34m.\u001b[0m\u001b[0mfindall\u001b[0m\u001b[0;34m(\u001b[0m\u001b[0mdoi_pattern\u001b[0m\u001b[0;34m,\u001b[0m \u001b[0mtext\u001b[0m\u001b[0;34m)\u001b[0m\u001b[0;34m\u001b[0m\u001b[0;34m\u001b[0m\u001b[0m\n\u001b[0m\u001b[1;32m     35\u001b[0m \u001b[0;34m\u001b[0m\u001b[0m\n\u001b[1;32m     36\u001b[0m \u001b[0;31m# Print the found DOIs\u001b[0m\u001b[0;34m\u001b[0m\u001b[0;34m\u001b[0m\u001b[0;34m\u001b[0m\u001b[0m\n",
      "\u001b[0;31mNameError\u001b[0m: name 're' is not defined"
     ]
    }
   ],
   "source": [
    "\n",
    "\n",
    "text = \"\"\"\n",
    "<Day>16</Day>\n",
    "</PubMedPubDate>\n",
    "<PubMedPubDate PubStatus=\"medline\">\n",
    "<Year>1976</Year>\n",
    "<Month>3</Month>\n",
    "<Day>16</Day>\n",
    "<Hour>0</Hour>\n",
    "<Minute>1</Minute>\n",
    "</PubMedPubDate>\n",
    "<PubMedPubDate PubStatus=\"entrez\">\n",
    "<Year>1976</Year>\n",
    "<Month>3</Month>\n",
    "<Day>16</Day>\n",
    "<Hour>0</Hour>\n",
    "<Minute>0</Minute>\n",
    "</PubMedPubDate>\n",
    "</History>\n",
    "<PublicationStatus>ppublish</PublicationStatus>\n",
    "<ArticleIdList>\n",
    "<ArticleId IdType=\"pubmed\">4311</ArticleId>\n",
    "<ArticleId IdType=\"doi\">10.1111/j.1432-1033.1976.tb10218.x</ArticleId>\n",
    "</ArticleIdList>\n",
    "</PubmedData>\n",
    "</PubmedArticle>\n",
    "</PubmedArticleSet>\n",
    "\"\"\"\n",
    "\n",
    "doi_pattern = r'\\b10\\.\\d{4,}/\\S+'\n",
    "doi_pattern = r'\\b10\\.\\d{4,}(?:\\.\\d+)*\\/[^\\s]+'\n",
    "\n",
    "\n",
    "# Find all DOIs in the text\n",
    "dois = re.findall(doi_pattern, text)\n",
    "\n",
    "# Print the found DOIs\n",
    "for doi in dois:\n",
    "    print(\"Found DOI:\", doi)"
   ]
  },
  {
   "cell_type": "code",
   "execution_count": 6,
   "id": "b886dbc6",
   "metadata": {
    "ExecuteTime": {
     "end_time": "2023-11-14T17:20:57.839223920Z",
     "start_time": "2023-11-14T17:20:57.735893539Z"
    }
   },
   "outputs": [],
   "source": [
    "import re\n",
    "def find_doi(string):\n",
    "    doi_pattern = r'\\b10\\.\\d{4,}(?:\\.\\d+)*\\/[^\\s]+'\n",
    "    dois = re.findall(doi_pattern, string)\n",
    "    return dois\n",
    "\n",
    "    "
   ]
  },
  {
   "cell_type": "code",
   "execution_count": 23,
   "id": "7afa0a21",
   "metadata": {
    "ExecuteTime": {
     "end_time": "2023-11-14T17:20:57.874174174Z",
     "start_time": "2023-11-14T17:20:57.811736408Z"
    }
   },
   "outputs": [],
   "source": [
    "def clean_abstract(abstract):\n",
    "    overhauled = ''\n",
    "    \n",
    "    if type(abstract) != str:    \n",
    "      for a in abstract:\n",
    "        if type(a) != str:\n",
    "            if a != None and '#text' in a:\n",
    "                overhauled += a['#text']\n",
    " \n",
    "        else:\n",
    "            overhauled += a\n",
    "        \n",
    "      return overhauled\n",
    "\n",
    "    return abstract "
   ]
  },
  {
   "cell_type": "code",
   "execution_count": 26,
   "id": "3620b8e6",
   "metadata": {
    "ExecuteTime": {
     "end_time": "2023-11-14T17:20:57.927567993Z",
     "start_time": "2023-11-14T17:20:57.859420343Z"
    }
   },
   "outputs": [
    {
     "name": "stderr",
     "output_type": "stream",
     "text": [
      "100%|██████████| 17763/17763 [00:00<00:00, 24235.57it/s]\n"
     ]
    }
   ],
   "source": [
    "from tqdm import tqdm\n",
    "\n",
    "def parse_single_record(xml_dict, originial_dict,i=0):\n",
    "    mesh_headings = []\n",
    "    grants = []\n",
    "    year = \"\"\n",
    "    journal_ISSN = \"\"\n",
    "    chemical_list = []\n",
    "    meta_data = {}\n",
    "    pub_year = \"\"\n",
    "    PMID = \"\"\n",
    "    doi = \"\"\n",
    "    title = \"\"\n",
    "    abstract = \"\"\n",
    "    \n",
    "    year_revised = \"\"\n",
    "    month_revised = \"\"\n",
    "    day_revised = \"\"\n",
    "    date_revised = \"\"\n",
    "    \n",
    "\n",
    "    try:\n",
    "        xml_dict = dict(xml_dict)\n",
    "        \n",
    "        \n",
    "#         print(xml_dict)\n",
    "        \n",
    "        try:\n",
    "            if 'PMID' in xml_dict:\n",
    "                PMID = xml_dict['PMID']['#text']\n",
    "        except:\n",
    "            pass\n",
    "        \n",
    "        \n",
    "        try:\n",
    "            if 'DateRevised' in xml_dict:\n",
    "                new_dic = dict(xml_dict['DateRevised'])\n",
    "                \n",
    "                if 'Year' in new_dic:\n",
    "                     year_revised = new_dic['Year']\n",
    "                    \n",
    "                if 'Month' in new_dic:\n",
    "                     month_revised = new_dic['Month']\n",
    "                      \n",
    "                    \n",
    "                if 'Day' in new_dic:\n",
    "                     day_revised = new_dic['Day']\n",
    "                \n",
    "        except:\n",
    "            pass\n",
    "        \n",
    "        \n",
    "#         try:\n",
    "#             if 'DateCompleted' in xml_dict:\n",
    "#                 new_dic = dict(xml_dict['DateCompleted'])\n",
    "#                 if 'Year' in new_dic:\n",
    "#                     year = new_dic['Year']\n",
    "                    \n",
    "#                 if 'Month' in new_dic:\n",
    "#                     month = new_dic['Month']\n",
    "                      \n",
    "                    \n",
    "#                 if 'Day' in new_dic:\n",
    "#                     day = new_dic['Day']\n",
    "                \n",
    "                \n",
    "                \n",
    "\n",
    "#             else:\n",
    "#                   pass\n",
    "    \n",
    "#         except:\n",
    "#             pass\n",
    "\n",
    "        \n",
    "        try:\n",
    "            if 'Article' in xml_dict:\n",
    "                new_dic = dict(xml_dict['Article'])\n",
    "                journal_ISSN = new_dic['Journal']['ISSN']['#text']\n",
    "                \n",
    "        except:\n",
    "            pass\n",
    "    \n",
    "        try:\n",
    "            if 'Article' in xml_dict:\n",
    "                new_dic = dict(xml_dict['Article'])\n",
    "                pub_year = new_dic['Journal']['JournalIssue']['PubDate']['Year']\n",
    "\n",
    "        except:\n",
    "            pass\n",
    "        \n",
    "        \n",
    "        try:\n",
    "\n",
    "                article_id_list = originial_dict['PubmedData']['ArticleIdList']['ArticleId']\n",
    "                \n",
    "                for element in article_id_list:\n",
    "                    if 'doi' in str(element).lower():\n",
    "                        doi = element['#text']\n",
    "                        break\n",
    "#                 print('doi' in str(article_id_list[1]))\n",
    "#                 # print(article_id_list[1])\n",
    "#                 print(article_id_list[1].keys())\n",
    "#                 print(article_id_list[1]['#text'])\n",
    "#                 #print('doi' in str(article_id_list[1]))\n",
    "\n",
    "        except:\n",
    "            pass\n",
    "     \n",
    "        \n",
    "\n",
    "        try:\n",
    "            if 'Article' in xml_dict: \n",
    "                new_dic = dict(xml_dict['Article'])\n",
    "                \n",
    "            if 'Title' in  new_dic['Journal'].keys():\n",
    "                journal_title = new_dic['Journal']['Title']\n",
    "        \n",
    "        except:\n",
    "            pass\n",
    "        \n",
    "        \n",
    "        try:\n",
    "            if 'Article' in xml_dict: \n",
    "                new_dic = dict(xml_dict['Article'])\n",
    "            \n",
    "\n",
    "                title = new_dic['ArticleTitle']\n",
    "                \n",
    "                \n",
    "#                 if i == 10844:\n",
    "#                     print(title,'AAA \\n')\n",
    "                    \n",
    "                if '#text' in title:\n",
    "                    title = title['#text']\n",
    "                    \n",
    "#                     if i == 10844:\n",
    "#                         print(title,'BBB \\n')\n",
    "                        \n",
    "                elif 'b' in title:\n",
    "                    title = title['b']\n",
    "                    if '#text' in title:\n",
    "                        title = title['#text']\n",
    "                        \n",
    "                        \n",
    "                elif 'sup' in title:\n",
    "                    title = title ['sup']\n",
    "                    \n",
    "                    \n",
    "                        \n",
    "                if 'i' in title:\n",
    "                    title = title ['i']\n",
    "                    \n",
    "                if type(title) == list:\n",
    "                    title = ' '.join(title)\n",
    "                    \n",
    "   \n",
    "                    \n",
    "                  \n",
    "        except:\n",
    "            pass\n",
    "        \n",
    "        \n",
    "                \n",
    "        try:\n",
    "\n",
    "            if 'Article' in xml_dict: \n",
    "                new_dic = dict(xml_dict['Article'])\n",
    "                abstract = new_dic['Abstract']['AbstractText']\n",
    "                \n",
    "                while '#text' in abstract:\n",
    "                    abstract = abstract['#text']\n",
    "                                        \n",
    "        \n",
    "        except:\n",
    "            pass\n",
    "\n",
    "\n",
    "        try:\n",
    "            if 'Article' in xml_dict: \n",
    "                new_dic = dict(xml_dict['Article'])\n",
    "\n",
    "            if 'GrantList' in new_dic:\n",
    "                if type(new_dic['GrantList']['Grant']) == list:\n",
    "                    for grant in new_dic['GrantList']['Grant']:\n",
    "                        if 'GrantID' in grant:\n",
    "                            grants.append((grant['GrantID']))\n",
    "                            \n",
    "                else:\n",
    "                     grants.append(new_dic['GrantList']['Grant']['GrantID'])\n",
    "                     pass   \n",
    "        except:\n",
    "            pass\n",
    "        \n",
    "        \n",
    "        try:\n",
    "            if 'MeshHeadingList' in xml_dict:  \n",
    "                if type(xml_dict['MeshHeadingList']['MeshHeading']) == list:\n",
    "                    for mesh in xml_dict['MeshHeadingList']['MeshHeading']:\n",
    "                        if '@Type' in mesh['DescriptorName'].keys() and mesh['DescriptorName']['@Type'] == 'Geographic':\n",
    "                            continue\n",
    "                \n",
    "                \n",
    "                        mesh_headings.append((mesh['DescriptorName']['@UI']))\n",
    "            \n",
    "                else:\n",
    "                    \n",
    "                    mesh = xml_dict['MeshHeadingList']['MeshHeading']['DescriptorName']\n",
    "                    if  (not '@Type' in mesh.keys() or mesh['@Type'] != 'Geographic'):\n",
    "                        mesh_headings.append(xml_dict['MeshHeadingList']['MeshHeading']['DescriptorName']['@UI'])\n",
    "                    \n",
    "        except:\n",
    "            pass\n",
    "        \n",
    "        \n",
    "        try:\n",
    "        \n",
    "            if 'ChemicalList' in xml_dict:\n",
    "               if type(xml_dict['ChemicalList']['Chemical']) == list:\n",
    "                   for substance in xml_dict['ChemicalList']['Chemical']:\n",
    "                        if substance['NameOfSubstance']['@UI'][0].lower() == 'c':\n",
    "                           chemical_list.append(substance['NameOfSubstance']['@UI'])\n",
    "                        \n",
    "               else:\n",
    "                    \n",
    "                    if xml_dict['ChemicalList']['Chemical']['NameOfSubstance']['@UI'][0].lower() == 'c':\n",
    "                           chemical_list.append(xml_dict['ChemicalList']['Chemical']['NameOfSubstance']['@UI'])\n",
    "\n",
    "                            \n",
    "        except Exception as e:\n",
    "            print(e)\n",
    "            print(\"ERR\")\n",
    "            pass\n",
    "        \n",
    "    except:\n",
    "        pass\n",
    "\n",
    "\n",
    "    if len(year) == 0:\n",
    "        year = pub_year\n",
    "        \n",
    "    if title == None:\n",
    "        title = ''\n",
    "        \n",
    "    if abstract == None:\n",
    "        abstract = ''\n",
    "        \n",
    "    abstract = clean_abstract(abstract)\n",
    "\n",
    "    if year_revised == '':\n",
    "        date_revised = '0000-00-00'\n",
    "        \n",
    "    else:\n",
    "        date_revised = f'{year_revised}-{month_revised}-{day_revised}'\n",
    "        #print(date_revised)\n",
    "        \n",
    "    meta_data = {'PMID': int(PMID), 'mesh': str(mesh_headings), 'grants': str(grants), 'year': str(year), \n",
    "                 'journal_ISSN': str(journal_ISSN),'journal_title': str(journal_title),\n",
    "                 'chemical' : str(chemical_list), 'pub_year': str(pub_year), 'doi': doi.lower(), \n",
    "                 'title': str(title), 'abstract': str(abstract), \n",
    "                 'date_revised': date_revised } \n",
    "    \n",
    "    return meta_data\n",
    "\n",
    "meta_data_array = []\n",
    "\n",
    "counter = 0\n",
    "for i in tqdm(range(len(xml_dict['PubmedArticleSet']['PubmedArticle']))):\n",
    "    rec = xml_dict['PubmedArticleSet']['PubmedArticle'][i]['MedlineCitation']\n",
    "    total = xml_dict['PubmedArticleSet']['PubmedArticle'][i]\n",
    "    x=parse_single_record(rec, total,i)\n",
    "    meta_data_array.append(x)\n",
    "    \n",
    "    if type(x['title']) != str:\n",
    "        print(x['title'])\n",
    "        print(type(x['title']))\n",
    "        print(i)"
   ]
  },
  {
   "cell_type": "code",
   "execution_count": 27,
   "id": "41279912",
   "metadata": {
    "ExecuteTime": {
     "start_time": "2023-11-14T17:20:57.903386652Z"
    }
   },
   "outputs": [
    {
     "name": "stdout",
     "output_type": "stream",
     "text": [
      "[{'PMID': 15730469, 'mesh': \"['D000368', 'D000369', 'D018567', 'D018270', 'D002285', 'D006801', 'D008297', 'D009367', 'D009378', 'D016896']\", 'grants': '[]', 'year': '', 'journal_ISSN': '1075-122X', 'journal_title': 'The breast journal', 'chemical': '[]', 'pub_year': '', 'doi': '10.1111/j.1075-122x.2005.21570.x', 'title': 'Synchronous bilateral breast cancer in an elderly man.', 'abstract': '', 'date_revised': '2023-08-11'}, {'PMID': 11307951, 'mesh': \"['D016948', 'D004396', 'D006859', 'D006864', 'D009591', 'D010084']\", 'grants': '[]', 'year': '2000', 'journal_ISSN': '0277-8033', 'journal_title': 'Journal of protein chemistry', 'chemical': '[]', 'pub_year': '2000', 'doi': '10.1023/a:1007100319108', 'title': 'Effect of redox mediators on nitrogenase and hydrogenase activities in Azotobacter vinelandii.', 'abstract': 'In bioelectrochemical studies, redox mediators such as methylene blue, natural red, and thionine are used to studying the redox characteristics of enzymes in the living cell. Here we show that nitrogenase activity in Azotobacter vinelandii is completely inhibited by oxidized methylene blue (MBo) when the concentration of this mediator in the medium is increased up to 72 microM. This activity in A. vinelandii is somewhat inhibited by a coenzyme, ascorbic acid (AA). However, the nitrogenase activity within the A. vinelandii cell is unchanged even for a high concentration of oxidized natural red (NRo) alone. Interestingly, these mediators and AA do not have the capacity to inhibit the H2 uptake activity of the hydrogenase in A. vinelandii. Average active rates of 66 nM H2 evolved/mg cell protein/min from the nitrogenase and 160 nM H2-uptake/mg cell protein/min from the hydrogenase in A. vinelandii are found in aid of the activities of the enzymes for H2 evolution and for H2 uptake are compared. The activities of both enzymes in A. vinelandii are strongly inhibited by thionine having high oxidative potential. Mechanisms of various mediators acting in vivo for both enzymes in A. vinelandii are discussed.', 'date_revised': '2023-08-11'}, {'PMID': 11307954, 'mesh': \"['D000595', 'D000818', 'D002850', 'D002851', 'D004591', 'D006023', 'D008297', 'D008562', 'D008969', 'D020033', 'D051381', 'D017208', 'D017386', 'D014360']\", 'grants': '[]', 'year': '2000', 'journal_ISSN': '0277-8033', 'journal_title': 'Journal of protein chemistry', 'chemical': \"['C109148', 'C028665']\", 'pub_year': '2000', 'doi': '10.1023/a:1007156503082', 'title': 'Purification, characterization, and relation to bikunin of rat urinary trypsin inhibitors.', 'abstract': 'Two forms of urinary trypsin inhibitor (UTI-1 and UTI-2) were purified from pooled urine of normal male rats to apparent homogeneity by salting out, affinity chromatography, gel filtration, and reverse-phase HPLC. UTIs-1 and 2 were shown to be thermostable glycoproteins with the respective molecular weights of 22,000 and 18,000 estimated by SDS-PAGE. These inhibitors combined with bovine trypsin in a 1:1 molar ratio: the Kd values were 2.5 x 10(-10) and 2.3 x 10(-10) M, respectively. Amino acid composition and sequence analysis indicated that UTI-1 corresponded to rat bikunin of which the amino acid sequence was deduced from a rat liver cDNA clone encoding alpha1-microglobulin [Lindqvist et al. (1992), Biochim. Biophys. Acta 1130, 63-67] except that the protein sequence seemed to lack C-terminal serine, and UTI-2 corresponded to UTI-1 lacking N-terminal 21 amino acid residues.', 'date_revised': '2023-08-11'}, {'PMID': 11307946, 'mesh': \"['D000906', 'D002240', 'D004921', 'D005779', 'D008969', 'D009844', 'D011994']\", 'grants': '[]', 'year': '2000', 'journal_ISSN': '0277-8033', 'journal_title': 'Journal of protein chemistry', 'chemical': '[]', 'pub_year': '2000', 'doi': '10.1023/a:1007181600453', 'title': 'Oligosaccharides as immunodeterminants of erythropoietin for two sets of anti-carbohydrate antibodies.', 'abstract': \"Antibodies directed against recombinant erythropoietin have been obtained by immunization of rabbits with the hormone in Freund's complete adjuvant. Two sets of antibodies are present in the serum of the immunized rabbits. The results of oxidation of the erythropoietin with periodate, inhibition of the antibodies with the structural monosaccharide residues of the hormone, and reaction of the antibodies with lectins of known carbohydrate specificity have established the antibodies to be anti-carbohydrate antibodies. These antibodies may be of value as tracking agents for some diseases and should be useful for detecting abuses of the hormone in enhancing performance in athletic competitions.\", 'date_revised': '2023-08-11'}, {'PMID': 11662192, 'mesh': \"['D001926', 'D003643', 'D006801', 'D007603', 'D007878', 'D008020', 'D016377', 'D012015']\", 'grants': '[]', 'year': '1975', 'journal_ISSN': '0028-8373', 'journal_title': 'The New Zealand law journal : NZLJ', 'chemical': '[]', 'pub_year': '1975', 'doi': '', 'title': 'Do we need a legal definition of death?', 'abstract': '', 'date_revised': '2023-08-10'}, {'PMID': 11307956, 'mesh': \"['D000150', 'D019817', 'D002384', 'D050548', 'D002850', 'D049308', 'D004591', 'D004791', 'D007527', 'D007700', 'D008970', 'D010105', 'D013379']\", 'grants': '[]', 'year': '2000', 'journal_ISSN': '0277-8033', 'journal_title': 'Journal of protein chemistry', 'chemical': '[]', 'pub_year': '2000', 'doi': '10.1023/a:1007116703991', 'title': 'Purification and catalytic properties of two catechol 1,2-dioxygenase isozymes from benzoate-grown cells of Acinetobacter radioresistens.', 'abstract': 'Two catechol 1,2-dioxygenase (C1,2O) isozymes (IsoA and IsoB) have been purified to homogeneity from a strain of Acinetobacter radioresistens grown on benzoate as the sole carbon and energy source. IsoA and IsoB are both homodimers composed of a single type of subunit with molecular mass of 38,600 and 37,700, Da respectively. In conditions of low ionic strength, IsoA can aggregate as a trimer, in contrast to IsoB, which maintains the dimeric structure, as also supported by the kinetic parameters (Hill numbers). IsoA is identical to the enzyme previously purified from the same bacterium grown on phenol, whereas the IsoB is selectively expressed using benzoate as carbon source. This is the first evidence of the presence of differently expressed C1,2O isozymes in A. radioresistens or more generally of multiple C1,2O isozymes in benzoate-grown Acinetobacter cells. Purified IsoA and IsoB contain approximately 1 iron(III) ion per subunit and both show electronic absorbance and EPR features typical of Fe(III) intradiol dioxygenases. The kinetic properties of the two enzymes such as the specificities toward substituted catechols, the main catalytic parameters, and their behavior in the presence of different kind of inhibitors are, unexpectedly, very similar, in contrast to most of the previously known dioxygenase isozymes.', 'date_revised': '2023-08-11'}, {'PMID': 17903294, 'mesh': \"['D000328', 'D001779', 'D002318', 'D015331', 'D005260', 'D005819', 'D015894', 'D006487', 'D006801', 'D008297', 'D008875', 'D015999', 'D010641', 'D020641']\", 'grants': \"['1S10RR163736-01A1', 'N01-HC-25195']\", 'year': '2007', 'journal_ISSN': '1471-2350', 'journal_title': 'BMC medical genetics', 'chemical': '[]', 'pub_year': '2007', 'doi': '10.1186/1471-2350-8-s1-s12', 'title': 'Genome-wide association and linkage analyses of hemostatic factors and hematological phenotypes in the Framingham Heart Study.', 'abstract': 'Increased circulating levels of hemostatic factors as well as anemia have been associated with increased risk of cardiovascular disease (CVD). Known associations between hemostatic factors and sequence variants at genes encoding these factors explain only a small proportion of total phenotypic variation. We sought to confirm known putative loci and identify novel loci that may influence either trait in genome-wide association and linkage analyses using the Affymetrix GeneChip 100K single nucleotide polymorphism (SNP) set.Plasma levels of circulating hemostatic factors (fibrinogen, factor VII, plasminogen activator inhibitor-1, von Willebrand factor, tissue plasminogen activator, D-dimer) and hematological phenotypes (platelet aggregation, viscosity, hemoglobin, red blood cell count, mean corpuscular volume, mean corpuscular hemoglobin concentration) were obtained in approximately 1000 Framingham Heart Study (FHS) participants from 310 families. Population-based association analyses using the generalized estimating equations (GEE), family-based association test (FBAT), and multipoint variance components linkage analyses were performed on the multivariable adjusted residuals of hemostatic and hematological phenotypes.In association analysis, the lowest GEE p-value for hemostatic factors was p = 4.5*10(-16) for factor VII at SNP rs561241, a variant located near the F7 gene and in complete linkage disequilibrium (LD) (r2 = 1) with the Arg353Gln F7 SNP previously shown to account for 9% of total phenotypic variance. The lowest GEE p-value for hematological phenotypes was 7*10(-8) at SNP rs2412522 on chromosome 4 for mean corpuscular hemoglobin concentration. We presented top 25 most significant GEE results with p-values in the range of 10(-6) to 10(-5) for hemostatic or hematological phenotypes. In relating 100K SNPs to known candidate genes, we identified two SNPs (rs1582055, rs4897475) in erythrocyte membrane protein band 4.1-like 2 (EPB41L2) associated with hematological phenotypes (GEE p < 10(-3)). In linkage analyses, the highest linkage LOD score for hemostatic factors was 3.3 for factor VII on chromosome 10 around 15 Mb, and for hematological phenotypes, LOD 3.4 for hemoglobin on chromosome 4 around 55 Mb. All GEE and FBAT association and variance components linkage results can be found at http://www.ncbi.nlm.nih.gov/projects/gap/cgi-bin/study.cgi?id=phs000007 webcite.Using genome-wide association methodology, we have successfully identified a SNP in complete LD with a sequence variant previously shown to be strongly associated with factor VII, providing proof of principle for this approach. Further study of additional strongly associated SNPs and linked regions may identify novel variants that influence the inter-individual variability in hemostatic factors and hematological phenotypes.', 'date_revised': '2023-08-11'}, {'PMID': 11307952, 'mesh': \"['D000596', 'D000818', 'D002850', 'D002851', 'D003435', 'D017839', 'D003439', 'D004591', 'D004791', 'D010741', 'D054467']\", 'grants': '[]', 'year': '2000', 'journal_ISSN': '0277-8033', 'journal_title': 'Journal of protein chemistry', 'chemical': '[]', 'pub_year': '2000', 'doi': '10.1023/a:1007152303179', 'title': 'Enzymatic characterization of a novel phospholipase A2 from Crotalus durissus cascavella rattlesnake (Maracambóia) venom.', 'abstract': 'The PLA2 and crotapotin subunits of crotoxin from Crotalus durissus cascavella venom were purified by a combination of high-performance liquid chromatography (HPLC) molecular exclusion (Protein Pack 300SW column) and reverse-phase HPLC (RP-HPLC). Tricine SDS-PAGE showed that the PLA2 and crotapotins migrated as single bands with estimated molecular masses of 15 and 9 kDa, respectively. The amino acid composition of the PLA2 showed the presence of 14 half-cysteines and a high content of basic residues (Lys, Arg, His), whereas the crotapotins were rich in hydrophobic, negatively charged residues and half-cysteines. The PLA2 showed allosteric behavior, with maximal activity at pH 8.3 and 35-40 degrees C. C. d. cascavella PLA2 required Ca2+ for activity but was inhibited by Cu2+ and Zn2+ and by Cu2+ and Mg2+ in the presence and absence of Ca2+, respectively. Crotapotin (F3) and heparin inhibited the catalytic activity of the PLA2 by acting as allosteric inhibitors.', 'date_revised': '2023-08-11'}, {'PMID': 11307948, 'mesh': \"['D000595', 'D004789', 'D005456', 'D019255', 'D010750', 'D011487', 'D013050']\", 'grants': '[]', 'year': '2000', 'journal_ISSN': '0277-8033', 'journal_title': 'Journal of protein chemistry', 'chemical': \"['C060505']\", 'pub_year': '2000', 'doi': '10.1023/a:1007144101361', 'title': 'Conformational changes in truncated p47phox proteins monitored by fluorescent labeling.', 'abstract': \"The leukocyte NADPH oxidase of neutrophils is a membrane-bound enzyme that catalyzes the reduction of oxygen to O2- at the expense of NADPH. During activation, the cytosolic oxidase components p47phox and p67phox, each containing two Src homology 3 (SH3) domains, migrate to the plasma membrane. p47phox and p67phox associate with cytochrome b558, a membrane-integrated flavohemoprotein, to assemble the active oxidase. Oxidase activation can be mimicked in a cell-free system using an anionic amphiphile, such as sodium dodecyl sulfate or arachidonic acid, as an activating agent. Activators of the oxidase in vitro cause exposure of the SH3 domains of p47phox, which has probably been masked by the C-terminal region of this protein in a resting state. We show here that the fluorescence exhibited by the covalently labeled N,N'-di-methyl-N(iodoacetyl)-N'-(7-nitrobenz-2-oxa-1,3-diazol-4-yl) ethyleneamine (IANBD) was increased when N-terminal-truncated p47Phox-(SH3)2-C was treated with anionic amphiphiles. This finding was similar to the results obtained with the full-length p47phox. However, the fluorescence of C-terminal-truncated p47Phox-N-(SH3)2 and that of both C-terminal and N-terminal truncated p47Phox-(SH3)2 were not altered by the activators. These results indicate that the C-terminal region of p47phox is a primary target of the conformational change during the activation of NADPH oxidase.\", 'date_revised': '2023-08-11'}, {'PMID': 11233172, 'mesh': \"['D001059', 'D001665', 'D019281', 'D006427', 'D006454', 'D006801', 'D007700', 'D008024', 'D008958', 'D011485', 'D020836', 'D017433', 'D021122', 'D013057']\", 'grants': \"['HL 38456']\", 'year': '2000', 'journal_ISSN': '0277-8033', 'journal_title': 'Journal of protein chemistry', 'chemical': \"['C023478', 'C083499', 'C011219']\", 'pub_year': '2000', 'doi': '10.1023/a:1007150318854', 'title': 'Wavelength-dependent spectral changes accompany CN-hemin binding to human apohemoglobin.', 'abstract': 'The interaction of apohemoglobin with two heme derivatives, CN-protohemin and CN-deutero-hemin, was monitored at multiple Soret wavelengths (417-423 and 406-412 nm, respectively) in 0.05 M potassium phosphate buffer, pH 7.0, at 10 degrees C and revealed, as previously reported, a multiphasic kinetic reaction. Wavelength-dependent reactions were observed for both CN-protohemin and CN-deuterohemin derivatives with the alpha chain (bathochromic entity) displaying faster (4- to 7-fold) rates throughout the courses of both heme-binding reactions. The basis of this spectrally heterogeneous kinetic phenomenon could be deduced from molecular modeling studies of alpha- and beta-chain structures. Key differences in the number of stabilizing contacts of the two chains with the peripheral alpha propionyl 45(CE3); 58(E7); 61(E10) as well as the beta vinyl 38(C4); 71(E15); 106(G8) groups were found. Furthermore, RMS plots comparing apo- and heme-containing subunits reveal substantial structural disparities in the C-CD-F-FG helical regions of the alphabeta dimer interface.', 'date_revised': '2023-08-11'}]\n"
     ]
    }
   ],
   "source": [
    "print(meta_data_array[0:10])"
   ]
  },
  {
   "cell_type": "markdown",
   "id": "cdd946cf",
   "metadata": {},
   "source": [
    "<h2>Saving into parquet </h2>\n",
    "<p> We will convert the metadata array to dataframe, write it to parquet and read it and inspect the saved file against the original array as a cross-check mechanism</p>"
   ]
  },
  {
   "cell_type": "code",
   "execution_count": 34,
   "id": "2e657615",
   "metadata": {
    "ExecuteTime": {
     "end_time": "2023-11-14T17:20:57.972403437Z",
     "start_time": "2023-11-14T17:20:57.927909565Z"
    }
   },
   "outputs": [
    {
     "name": "stdout",
     "output_type": "stream",
     "text": [
      "                                                                                        mesh  \\\n",
      "PMID     doi                                                                                   \n",
      "15730469 10.1111/j.1075-122x.2005.21570.x  ['D000368', 'D000369', 'D018567', 'D018270', '...   \n",
      "11307951 10.1023/a:1007100319108           ['D016948', 'D004396', 'D006859', 'D006864', '...   \n",
      "\n",
      "                                          grants  year journal_ISSN  \\\n",
      "PMID     doi                                                          \n",
      "15730469 10.1111/j.1075-122x.2005.21570.x     []          1075-122X   \n",
      "11307951 10.1023/a:1007100319108              []  2000    0277-8033   \n",
      "\n",
      "                                                          journal_title  \\\n",
      "PMID     doi                                                              \n",
      "15730469 10.1111/j.1075-122x.2005.21570.x            The breast journal   \n",
      "11307951 10.1023/a:1007100319108           Journal of protein chemistry   \n",
      "\n",
      "                                          chemical pub_year  \\\n",
      "PMID     doi                                                  \n",
      "15730469 10.1111/j.1075-122x.2005.21570.x       []            \n",
      "11307951 10.1023/a:1007100319108                []     2000   \n",
      "\n",
      "                                                                                       title  \\\n",
      "PMID     doi                                                                                   \n",
      "15730469 10.1111/j.1075-122x.2005.21570.x  Synchronous bilateral breast cancer in an elde...   \n",
      "11307951 10.1023/a:1007100319108           Effect of redox mediators on nitrogenase and h...   \n",
      "\n",
      "                                                                                    abstract  \\\n",
      "PMID     doi                                                                                   \n",
      "15730469 10.1111/j.1075-122x.2005.21570.x                                                      \n",
      "11307951 10.1023/a:1007100319108           In bioelectrochemical studies, redox mediators...   \n",
      "\n",
      "                                          date_revised  \n",
      "PMID     doi                                            \n",
      "15730469 10.1111/j.1075-122x.2005.21570.x   2023-08-11  \n",
      "11307951 10.1023/a:1007100319108            2023-08-11  \n"
     ]
    }
   ],
   "source": [
    "df = pd.DataFrame(meta_data_array)\n",
    "df.set_index(['PMID', 'doi'], inplace=True)\n",
    "df.head()\n",
    "df.to_parquet('myfile.parquet')\n",
    "print(df.head(2))"
   ]
  },
  {
   "cell_type": "code",
   "execution_count": 35,
   "id": "b476b193",
   "metadata": {
    "ExecuteTime": {
     "start_time": "2023-11-14T17:20:57.966764246Z"
    }
   },
   "outputs": [
    {
     "name": "stdout",
     "output_type": "stream",
     "text": [
      "all_mesh.pkl\t\t\t CEN_intersection.py\t parallel_ins.py\n",
      "all_mesh_retrieved\t\t compare_with_george.py  parallel.py\n",
      "all_mesh_retrieved.json\t\t insert_mesh_pyspark.py  postgresql-42.5.2.jar\n",
      "build_mesh_tree.ipynb\t\t myfile.parquet\t\t pyspark_parquet.py\n",
      "build_tables_for_all_xmls.ipynb  old_nohup.out\n",
      "                                                                                        mesh  \\\n",
      "PMID     doi                                                                                   \n",
      "15730469 10.1111/j.1075-122x.2005.21570.x  ['D000368', 'D000369', 'D018567', 'D018270', '...   \n",
      "11307951 10.1023/a:1007100319108           ['D016948', 'D004396', 'D006859', 'D006864', '...   \n",
      "\n",
      "                                          grants  year journal_ISSN  \\\n",
      "PMID     doi                                                          \n",
      "15730469 10.1111/j.1075-122x.2005.21570.x     []          1075-122X   \n",
      "11307951 10.1023/a:1007100319108              []  2000    0277-8033   \n",
      "\n",
      "                                                          journal_title  \\\n",
      "PMID     doi                                                              \n",
      "15730469 10.1111/j.1075-122x.2005.21570.x            The breast journal   \n",
      "11307951 10.1023/a:1007100319108           Journal of protein chemistry   \n",
      "\n",
      "                                          chemical pub_year  \\\n",
      "PMID     doi                                                  \n",
      "15730469 10.1111/j.1075-122x.2005.21570.x       []            \n",
      "11307951 10.1023/a:1007100319108                []     2000   \n",
      "\n",
      "                                                                                       title  \\\n",
      "PMID     doi                                                                                   \n",
      "15730469 10.1111/j.1075-122x.2005.21570.x  Synchronous bilateral breast cancer in an elde...   \n",
      "11307951 10.1023/a:1007100319108           Effect of redox mediators on nitrogenase and h...   \n",
      "\n",
      "                                                                                    abstract  \\\n",
      "PMID     doi                                                                                   \n",
      "15730469 10.1111/j.1075-122x.2005.21570.x                                                      \n",
      "11307951 10.1023/a:1007100319108           In bioelectrochemical studies, redox mediators...   \n",
      "\n",
      "                                          date_revised  \n",
      "PMID     doi                                            \n",
      "15730469 10.1111/j.1075-122x.2005.21570.x   2023-08-11  \n",
      "11307951 10.1023/a:1007100319108            2023-08-11  \n"
     ]
    }
   ],
   "source": [
    "!ls\n",
    "read_df = pd.read_parquet('myfile.parquet')\n",
    "print(read_df.head(2))"
   ]
  },
  {
   "cell_type": "markdown",
   "id": "0a97cbbc",
   "metadata": {},
   "source": [
    "<h2>As we see here, very few dois is available in the XMLS. This is cross checked with looking for 'doi' occurence in the string</h2>"
   ]
  },
  {
   "cell_type": "code",
   "execution_count": 11,
   "id": "2675ae1d",
   "metadata": {
    "ExecuteTime": {
     "start_time": "2023-11-14T17:20:57.972337153Z"
    }
   },
   "outputs": [
    {
     "ename": "NameError",
     "evalue": "name 'tqdm' is not defined",
     "output_type": "error",
     "traceback": [
      "\u001b[0;31m---------------------------------------------------------------------------\u001b[0m",
      "\u001b[0;31mNameError\u001b[0m                                 Traceback (most recent call last)",
      "\u001b[0;32m<ipython-input-11-59d3c227262c>\u001b[0m in \u001b[0;36m<module>\u001b[0;34m\u001b[0m\n\u001b[1;32m      4\u001b[0m \u001b[0;34m\u001b[0m\u001b[0m\n\u001b[1;32m      5\u001b[0m \u001b[0mtotal_doi\u001b[0m \u001b[0;34m=\u001b[0m \u001b[0;36m0\u001b[0m\u001b[0;34m\u001b[0m\u001b[0;34m\u001b[0m\u001b[0m\n\u001b[0;32m----> 6\u001b[0;31m \u001b[0;32mfor\u001b[0m \u001b[0midx\u001b[0m\u001b[0;34m,\u001b[0m \u001b[0mmeta\u001b[0m \u001b[0;32min\u001b[0m \u001b[0mtqdm\u001b[0m\u001b[0;34m(\u001b[0m\u001b[0menumerate\u001b[0m\u001b[0;34m(\u001b[0m\u001b[0mmeta_data_array\u001b[0m\u001b[0;34m)\u001b[0m\u001b[0;34m,\u001b[0m  \u001b[0mtotal\u001b[0m \u001b[0;34m=\u001b[0m \u001b[0mlen\u001b[0m\u001b[0;34m(\u001b[0m\u001b[0mmeta_data_array\u001b[0m\u001b[0;34m)\u001b[0m\u001b[0;34m)\u001b[0m\u001b[0;34m:\u001b[0m\u001b[0;34m\u001b[0m\u001b[0;34m\u001b[0m\u001b[0m\n\u001b[0m\u001b[1;32m      7\u001b[0m     \u001b[0;32mif\u001b[0m \u001b[0mmeta\u001b[0m\u001b[0;34m[\u001b[0m\u001b[0;34m'doi'\u001b[0m\u001b[0;34m]\u001b[0m \u001b[0;34m!=\u001b[0m \u001b[0;34m''\u001b[0m\u001b[0;34m:\u001b[0m\u001b[0;34m\u001b[0m\u001b[0;34m\u001b[0m\u001b[0m\n\u001b[1;32m      8\u001b[0m         \u001b[0mtotal_doi\u001b[0m \u001b[0;34m+=\u001b[0m \u001b[0;36m1\u001b[0m\u001b[0;34m\u001b[0m\u001b[0;34m\u001b[0m\u001b[0m\n",
      "\u001b[0;31mNameError\u001b[0m: name 'tqdm' is not defined"
     ]
    }
   ],
   "source": [
    "def investigate_for_doi_manually(xml_dict):\n",
    "    xml = str(dicttoxml(xml_dict))\n",
    "    return 'doi' in xml\n",
    " \n",
    "total_doi = 0\n",
    "for idx, meta in tqdm(enumerate(meta_data_array),  total = len(meta_data_array)):\n",
    "    if meta['doi'] != '':\n",
    "        total_doi += 1\n",
    "\n",
    "print(f'totaly {total_doi} dois available from {len(meta_data_array)}')"
   ]
  },
  {
   "cell_type": "code",
   "execution_count": 12,
   "id": "0d694450",
   "metadata": {
    "ExecuteTime": {
     "end_time": "2023-11-14T17:20:58.136055784Z",
     "start_time": "2023-11-14T17:20:58.043914947Z"
    }
   },
   "outputs": [
    {
     "ename": "NameError",
     "evalue": "name 'tqdm' is not defined",
     "output_type": "error",
     "traceback": [
      "\u001b[0;31m---------------------------------------------------------------------------\u001b[0m",
      "\u001b[0;31mNameError\u001b[0m                                 Traceback (most recent call last)",
      "\u001b[0;32m<ipython-input-12-9f65e6088058>\u001b[0m in \u001b[0;36m<module>\u001b[0;34m\u001b[0m\n\u001b[1;32m      1\u001b[0m \u001b[0;31m# total_doi = 0\u001b[0m\u001b[0;34m\u001b[0m\u001b[0;34m\u001b[0m\u001b[0;34m\u001b[0m\u001b[0m\n\u001b[0;32m----> 2\u001b[0;31m \u001b[0;32mfor\u001b[0m \u001b[0midx\u001b[0m\u001b[0;34m,\u001b[0m \u001b[0mmeta\u001b[0m \u001b[0;32min\u001b[0m \u001b[0mtqdm\u001b[0m\u001b[0;34m(\u001b[0m\u001b[0menumerate\u001b[0m\u001b[0;34m(\u001b[0m\u001b[0mmeta_data_array\u001b[0m\u001b[0;34m)\u001b[0m\u001b[0;34m,\u001b[0m  \u001b[0mtotal\u001b[0m \u001b[0;34m=\u001b[0m \u001b[0mlen\u001b[0m\u001b[0;34m(\u001b[0m\u001b[0mmeta_data_array\u001b[0m\u001b[0;34m)\u001b[0m\u001b[0;34m)\u001b[0m\u001b[0;34m:\u001b[0m\u001b[0;34m\u001b[0m\u001b[0;34m\u001b[0m\u001b[0m\n\u001b[0m\u001b[1;32m      3\u001b[0m     \u001b[0;32mif\u001b[0m \u001b[0mmeta\u001b[0m\u001b[0;34m[\u001b[0m\u001b[0;34m'doi'\u001b[0m\u001b[0;34m]\u001b[0m \u001b[0;34m!=\u001b[0m \u001b[0;34m''\u001b[0m\u001b[0;34m:\u001b[0m\u001b[0;34m\u001b[0m\u001b[0;34m\u001b[0m\u001b[0m\n\u001b[1;32m      4\u001b[0m         \u001b[0mtotal_doi\u001b[0m \u001b[0;34m+=\u001b[0m \u001b[0;36m1\u001b[0m\u001b[0;34m\u001b[0m\u001b[0;34m\u001b[0m\u001b[0m\n\u001b[1;32m      5\u001b[0m \u001b[0;34m\u001b[0m\u001b[0m\n",
      "\u001b[0;31mNameError\u001b[0m: name 'tqdm' is not defined"
     ]
    }
   ],
   "source": [
    "# total_doi = 0\n",
    "for idx, meta in tqdm(enumerate(meta_data_array),  total = len(meta_data_array)):\n",
    "    if meta['doi'] != '':\n",
    "        total_doi += 1\n",
    "    \n",
    "    else:\n",
    "        exist = investigate_for_doi_manually( xml_dict['PubmedArticleSet']['PubmedArticle'][i])\n",
    "        if exist:\n",
    "            print(meta['PMID'])\n",
    "            break\n"
   ]
  },
  {
   "cell_type": "code",
   "execution_count": 13,
   "id": "8782088a",
   "metadata": {
    "ExecuteTime": {
     "end_time": "2023-11-14T17:20:58.222675001Z",
     "start_time": "2023-11-14T17:20:58.101124856Z"
    }
   },
   "outputs": [],
   "source": [
    "#Convert dict to query\n",
    "def convert_dict_to_query(dic):\n",
    "    if dic['year'] == '':\n",
    "        year = 0\n",
    "    \n",
    "    else:\n",
    "        year = dic['year']\n",
    "        \n",
    "    \n",
    "    if dic['pub_year'] == '':\n",
    "        pub_year = 0\n",
    "    \n",
    "    else:\n",
    "        pub_year = dic['pub_year']\n",
    "        \n",
    "        \n",
    "    query = (int(dic['PMID']), dic['journal_ISSN'], ' '.join(dic['grants']), ' '.join(dic['chemical']), \n",
    "            pub_year, year, ' '.join(dic['mesh']), dic['doi'], dic['abstract'], dic['title'] )\n",
    "        \n",
    "    return query"
   ]
  },
  {
   "cell_type": "code",
   "execution_count": 13,
   "id": "c812e5b0",
   "metadata": {
    "ExecuteTime": {
     "end_time": "2023-11-14T17:20:58.244370354Z",
     "start_time": "2023-11-14T17:20:58.149318089Z"
    }
   },
   "outputs": [],
   "source": []
  },
  {
   "cell_type": "code",
   "execution_count": 14,
   "id": "d3959329",
   "metadata": {
    "ExecuteTime": {
     "end_time": "2023-11-14T17:20:58.255423452Z",
     "start_time": "2023-11-14T17:20:58.237655038Z"
    }
   },
   "outputs": [
    {
     "ename": "NameError",
     "evalue": "name 'meta_data_array' is not defined",
     "output_type": "error",
     "traceback": [
      "\u001b[0;31m---------------------------------------------------------------------------\u001b[0m",
      "\u001b[0;31mNameError\u001b[0m                                 Traceback (most recent call last)",
      "\u001b[0;32m<ipython-input-14-5a57bbc95898>\u001b[0m in \u001b[0;36m<module>\u001b[0;34m\u001b[0m\n\u001b[1;32m      2\u001b[0m \u001b[0mna\u001b[0m \u001b[0;34m=\u001b[0m \u001b[0;36m0\u001b[0m\u001b[0;34m\u001b[0m\u001b[0;34m\u001b[0m\u001b[0m\n\u001b[1;32m      3\u001b[0m \u001b[0mnt\u001b[0m \u001b[0;34m=\u001b[0m \u001b[0;36m0\u001b[0m\u001b[0;34m\u001b[0m\u001b[0;34m\u001b[0m\u001b[0m\n\u001b[0;32m----> 4\u001b[0;31m \u001b[0;32mfor\u001b[0m \u001b[0mi\u001b[0m \u001b[0;32min\u001b[0m \u001b[0mmeta_data_array\u001b[0m\u001b[0;34m:\u001b[0m\u001b[0;34m\u001b[0m\u001b[0;34m\u001b[0m\u001b[0m\n\u001b[0m\u001b[1;32m      5\u001b[0m     \u001b[0mquery_array\u001b[0m\u001b[0;34m.\u001b[0m\u001b[0mappend\u001b[0m\u001b[0;34m(\u001b[0m\u001b[0mconvert_dict_to_query\u001b[0m\u001b[0;34m(\u001b[0m\u001b[0mi\u001b[0m\u001b[0;34m)\u001b[0m\u001b[0;34m)\u001b[0m\u001b[0;34m\u001b[0m\u001b[0;34m\u001b[0m\u001b[0m\n\u001b[1;32m      6\u001b[0m \u001b[0;34m\u001b[0m\u001b[0m\n",
      "\u001b[0;31mNameError\u001b[0m: name 'meta_data_array' is not defined"
     ]
    }
   ],
   "source": [
    "query_array = []\n",
    "na = 0\n",
    "nt = 0\n",
    "for i in meta_data_array:\n",
    "    query_array.append(convert_dict_to_query(i))\n",
    "    \n",
    "#     print(i['title'])\n",
    "    if len (i['title']) > 0:\n",
    "        na +=1 \n",
    "    \n",
    "    if len (i['abstract']) > 0:\n",
    "        nt += 1\n",
    "\n",
    "print(na)\n",
    "print(nt)\n",
    "\n",
    "for query in query_array:\n",
    "    if type(query[-1]) != str:\n",
    "        print(query[-1])\n",
    "\n",
    "# insert_values_into_table(query_array)"
   ]
  },
  {
   "cell_type": "code",
   "execution_count": 37,
   "id": "6da10bae",
   "metadata": {
    "ExecuteTime": {
     "end_time": "2023-11-14T17:20:58.336849167Z",
     "start_time": "2023-11-14T17:20:58.260682818Z"
    }
   },
   "outputs": [],
   "source": [
    "def parallelize(file_path, mode='parquet', dump_address = '/shared/hossein_hm31/pubmed_parquet/' ):\n",
    "    xml_dict = parse(file_path)\n",
    "    \n",
    "    meta_data_array = []\n",
    "\n",
    "    for i in range(len(xml_dict['PubmedArticleSet']['PubmedArticle'])):\n",
    "        rec = xml_dict['PubmedArticleSet']['PubmedArticle'][i]['MedlineCitation']\n",
    "        total = xml_dict['PubmedArticleSet']['PubmedArticle'][i]\n",
    "        x=parse_single_record(rec, total)\n",
    "        meta_data_array.append(x)\n",
    "        \n",
    "    if mode == 'postgres':\n",
    "        query_array = []\n",
    "\n",
    "        for i in meta_data_array:\n",
    "            query_array.append(convert_dict_to_query(i))\n",
    "\n",
    "\n",
    "        insert_values_into_table(query_array)\n",
    "        \n",
    "    elif mode == 'parquet':\n",
    "        try:\n",
    "            xml_name = file_path.split('/')[-1].split('.')[0] #Example '/shared/hossein_hm31/xml_data/pubmed23n0933.xml' -> pubmed23n0933.xml\n",
    "            df = pd.DataFrame(meta_data_array)\n",
    "            df.set_index(['PMID', 'doi'], inplace=True)\n",
    "            df.to_parquet(f'{dump_address+xml_name}.parquet')\n",
    "            print('saved')\n",
    "        except Exception as e: # work on python 3.x\n",
    "            print(str(e)+'\\n')\n",
    "\n",
    "\n",
    "#23 Mb vs 230 Mb single file"
   ]
  },
  {
   "cell_type": "code",
   "execution_count": 38,
   "id": "fc91576d",
   "metadata": {
    "ExecuteTime": {
     "end_time": "2023-11-14T17:20:58.927455762Z",
     "start_time": "2023-11-14T17:20:58.333718736Z"
    }
   },
   "outputs": [
    {
     "name": "stdout",
     "output_type": "stream",
     "text": [
      "read\n",
      "read\n",
      "read\n",
      "read\n",
      "read\n",
      "parsed\n",
      "saved\n",
      "parsed\n",
      "saved\n",
      "parsed\n",
      "parsed\n",
      "parsed\n",
      "saved\n",
      "saved\n",
      "saved\n",
      "elapsed 88.28768587112427\n"
     ]
    }
   ],
   "source": [
    "import multiprocessing\n",
    "import time\n",
    "\n",
    "start = time.time()\n",
    "\n",
    "nest_dir = '/shared/hossein_hm31/xml_data/'\n",
    "files = os.listdir(nest_dir)\n",
    "\n",
    "lst = []\n",
    "\n",
    "for file in files:\n",
    "    lst.append((nest_dir+file,))\n",
    "    \n",
    "lst = lst[0:5]\n",
    "\n",
    "with multiprocessing.Pool(processes=80) as pool:\n",
    "    results = pool.starmap(parallelize, lst)\n",
    "    \n",
    "end = time.time()\n",
    "print(f'elapsed {end - start}')\n"
   ]
  },
  {
   "cell_type": "markdown",
   "id": "3e3e2dd9",
   "metadata": {
    "is_executing": true
   },
   "source": [
    "<h2> Finishing the unfinished ones </h2>\n",
    "<p> Get the incomplete files </p>"
   ]
  },
  {
   "cell_type": "code",
   "execution_count": null,
   "id": "9d10db2a",
   "metadata": {
    "ExecuteTime": {
     "start_time": "2023-11-14T17:20:58.900226095Z"
    }
   },
   "outputs": [],
   "source": [
    "import multiprocessing\n",
    "import time\n",
    "import os\n",
    "\n",
    "obtained_files = os.listdir('/shared/hossein_hm31/pubmed_parquet/')\n",
    "all_files = os.listdir('/shared/hossein_hm31/xml_data/')\n",
    "\n",
    "all_xml_files = [file.split('.')[0] for file in all_files if '.xml' in file]\n",
    "all_parquet_files = [file.split('.')[0] for file in obtained_files]\n",
    "\n",
    "files_left = [file for file in all_xml_files if not file in all_parquet_files]\n",
    "print(files_left)\n",
    "print(len(files_left))\n",
    "\n",
    "lst = []\n",
    "start = time.time()\n",
    "\n",
    "\n",
    "for file in files_left:\n",
    "    lst.append((f'/shared/hossein_hm31/xml_data/{file}.xml',))\n",
    "\n",
    "\n",
    "with multiprocessing.Pool(processes=60) as pool:\n",
    "    results = pool.starmap(parallelize, lst)\n",
    "    \n",
    "end = time.time()\n",
    "print(f'elapsed {end - start}')\n"
   ]
  },
  {
   "cell_type": "code",
   "execution_count": null,
   "id": "8e29feca",
   "metadata": {
    "ExecuteTime": {
     "start_time": "2023-11-14T17:20:58.900670491Z"
    }
   },
   "outputs": [],
   "source": []
  }
 ],
 "metadata": {
  "kernelspec": {
   "display_name": "Python 3",
   "language": "python",
   "name": "python3"
  },
  "language_info": {
   "codemirror_mode": {
    "name": "ipython",
    "version": 3
   },
   "file_extension": ".py",
   "mimetype": "text/x-python",
   "name": "python",
   "nbconvert_exporter": "python",
   "pygments_lexer": "ipython3",
   "version": "3.6.8"
  }
 },
 "nbformat": 4,
 "nbformat_minor": 5
}
