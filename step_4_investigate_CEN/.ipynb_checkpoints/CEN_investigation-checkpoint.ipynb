{
 "cells": [
  {
   "cell_type": "markdown",
   "id": "9535e685",
   "metadata": {},
   "source": [
    "<h1>Ensuring we take correct nodes</h1>\n",
    "<p>From the files we have. Ensure their length is meaningful. As we will see, we shall proceed with the nodes in reformated.tsv</p>"
   ]
  },
  {
   "cell_type": "code",
   "execution_count": 11,
   "id": "fc687a56",
   "metadata": {
    "ExecuteTime": {
     "start_time": "2023-10-04T22:51:11.139215364Z"
    },
    "is_executing": true
   },
   "outputs": [
    {
     "name": "stdout",
     "output_type": "stream",
     "text": [
      "Number of lines in 'CEN.tsv': 92051051\n",
      "Number of lines in 'exosome.csv': 14695476\n",
      "Number of lines in 'raw.tsv': 13989436\n",
      "Number of lines in 'reformatted.tsv': 13989436\n",
      "Number of lines in 'first_cluster_edges.tsv': 98753\n",
      "Number of lines in 'first_cluster_nodes.tsv': 2004\n"
     ]
    }
   ],
   "source": [
    "import os\n",
    "\n",
    "# Specify the file path\n",
    "files = os.listdir(\"../data/\")\n",
    "\n",
    "for a_ile in files:\n",
    "    file_path = f\"../data/{a_ile}\"\n",
    "\n",
    "    # Initialize a line counter\n",
    "    line_count = 0\n",
    "\n",
    "    # Open the file in read mode\n",
    "    with open(file_path, \"r\") as file:\n",
    "        # Iterate through each line in the file\n",
    "        for line in file:\n",
    "            # Increment the line counter for each line\n",
    "            line_count += 1\n",
    "\n",
    "    # Print the total number of lines in the file\n",
    "    print(f\"Number of lines in '{a_ile}': {line_count}\")\n"
   ]
  },
  {
   "cell_type": "markdown",
   "id": "423dfff9",
   "metadata": {},
   "source": [
    "<p>We ended up using reformatted clustering result, and bellow we ensure nodes are unique</p>"
   ]
  },
  {
   "cell_type": "code",
   "execution_count": 12,
   "id": "c2bbdd81",
   "metadata": {
    "is_executing": true
   },
   "outputs": [
    {
     "name": "stderr",
     "output_type": "stream",
     "text": [
      "100%|██████████| 13989436/13989436 [00:15<00:00, 892517.56it/s]\n"
     ]
    }
   ],
   "source": [
    "from tqdm import tqdm\n",
    "import csv\n",
    "\n",
    "def open_nodes(file='../data/reformatted.tsv'):\n",
    "    data = []\n",
    "    with open(file, 'r', newline='') as csv_file:\n",
    "        csv_reader = csv.reader(csv_file)\n",
    "        for row in tqdm(csv_reader, total = 13989436):\n",
    "            data.append(int(row[0].split()[0]))\n",
    "\n",
    "    return data\n",
    "\n",
    "data = open_nodes()\n",
    "data.sort()\n",
    "\n",
    "for i in range(len(data)-1):\n",
    "    assert data[i] != data[i+1]\n",
    "    "
   ]
  },
  {
   "cell_type": "code",
   "execution_count": 13,
   "id": "0d9df3ac",
   "metadata": {},
   "outputs": [
    {
     "name": "stdout",
     "output_type": "stream",
     "text": [
      "[0, 1, 2, 3, 4, 5, 6, 7, 8, 9]\n"
     ]
    }
   ],
   "source": [
    "print(data[0:10])"
   ]
  },
  {
   "cell_type": "code",
   "execution_count": 14,
   "id": "be96ead8",
   "metadata": {
    "is_executing": true
   },
   "outputs": [
    {
     "name": "stderr",
     "output_type": "stream",
     "text": [
      "100%|██████████| 13989436/13989436 [11:52<00:00, 19640.79it/s]\n",
      "IOPub data rate exceeded.\n",
      "The notebook server will temporarily stop sending output\n",
      "to the client in order to avoid crashing it.\n",
      "To change this limit, set the config variable\n",
      "`--NotebookApp.iopub_data_rate_limit`.\n",
      "\n",
      "Current values:\n",
      "NotebookApp.iopub_data_rate_limit=1000000.0 (bytes/sec)\n",
      "NotebookApp.rate_limit_window=3.0 (secs)\n",
      "\n"
     ]
    }
   ],
   "source": [
    "import os\n",
    "import psycopg2\n",
    "import json\n",
    "\n",
    "os.environ[\"PGDATABASE\"] = \"ernieplus\"\n",
    "\n",
    "conn = psycopg2.connect(\"\")\n",
    "cur = conn.cursor()\n",
    "\n",
    "#number stats and missing stats\n",
    "stats = {}\n",
    "\n",
    "\n",
    "def return_single_record(PMID, cur):\n",
    "    sql_query = f\"select * from hm31.pubmed_all_xmls_new an where pmid = {PMID}\"\n",
    "    cur.execute(sql_query)\n",
    "    result = cur.fetchall()\n",
    "    \n",
    "    return result\n",
    "    \n",
    "\n",
    "missed = 0\n",
    "missing_numbers = []\n",
    "\n",
    "for _, pmid in tqdm(enumerate(data), total = 13989436):\n",
    "    result = return_single_record(pmid,cur)\n",
    "    \n",
    "    if len(result) > 1:\n",
    "        stats[pmid] = 'multi'\n",
    "    \n",
    "    elif len(result) == 0:\n",
    "        missed += 1\n",
    "        missing_numbers.append(pmid)\n",
    "        \n",
    "\n",
    "stats['missed'] = missed\n",
    "\n",
    "print(missing_numbers)\n",
    "        \n",
    "        \n",
    "with open('CEN_stats.json', \"w\") as json_file:\n",
    "    json.dump(stats, json_file)\n",
    "\n",
    "    \n",
    " \n",
    "\n",
    "    \n",
    " "
   ]
  },
  {
   "cell_type": "code",
   "execution_count": 15,
   "id": "f856ab83",
   "metadata": {},
   "outputs": [
    {
     "name": "stdout",
     "output_type": "stream",
     "text": [
      "316108\n"
     ]
    }
   ],
   "source": [
    "print(missed)"
   ]
  },
  {
   "cell_type": "code",
   "execution_count": 17,
   "id": "6d7ea855",
   "metadata": {},
   "outputs": [
    {
     "name": "stdout",
     "output_type": "stream",
     "text": [
      "13989436\n"
     ]
    }
   ],
   "source": [
    "print(len(data))"
   ]
  },
  {
   "cell_type": "code",
   "execution_count": 19,
   "id": "7f151d49",
   "metadata": {},
   "outputs": [
    {
     "name": "stdout",
     "output_type": "stream",
     "text": [
      "[0, 1054, 1055, 1056, 1057, 1058, 1059, 1060, 1061, 1062]\n",
      "True\n",
      "True\n",
      "True\n",
      "True\n",
      "True\n",
      "True\n",
      "True\n",
      "True\n",
      "True\n",
      "True\n"
     ]
    }
   ],
   "source": [
    "print(missing_numbers[0:10])\n",
    "for i in missing_numbers[0:10]:\n",
    "    print(i in data)"
   ]
  },
  {
   "cell_type": "code",
   "execution_count": null,
   "id": "c877d6df",
   "metadata": {
    "is_executing": true
   },
   "outputs": [],
   "source": [
    "import os\n",
    "\n",
    "# Set the PGDATABASE environment variable\n",
    "os.environ[\"PGDATABASE\"] = \"ernieplus\"\n",
    "\n",
    "import psycopg2\n",
    "\n",
    "conn = psycopg2.connect(\"\")\n",
    "print(\"Connected to Postgres successfully\")\n",
    "# conn.close()\n",
    "\n",
    "# Create a cursor object to interact with the database\n",
    "cur = conn.cursor()\n",
    "\n",
    "# Define your SQL query\n",
    "sql_query = \"select * from hm31.aligned_musicians am limit 10\"\n",
    "\n",
    "# Execute the SQL query\n",
    "cur.execute(sql_query)\n",
    "\n",
    "# Fetch and print the result (you can modify this part based on your query)\n",
    "result = cur.fetchall()\n",
    "for row in result:\n",
    "    print(row)"
   ]
  },
  {
   "cell_type": "markdown",
   "id": "f82e8a7b",
   "metadata": {},
   "source": [
    "<h1> Sample nodes </h1>\n",
    "<p> Sample random nodes for studying distance </p>"
   ]
  },
  {
   "cell_type": "code",
   "execution_count": null,
   "id": "e3cca977",
   "metadata": {
    "is_executing": true
   },
   "outputs": [],
   "source": [
    "import json\n",
    "import random\n",
    "import os\n",
    "import psycopg2\n",
    "random.seed(4311)\n",
    "\n",
    "\n",
    "with open('../step_1_sample_study/first_cluster_pmid.json', 'r') as file:\n",
    "    # Load the JSON data into a dictionary\n",
    "    meta_data_dict = json.load(file)\n",
    "    \n",
    "first_pmids = list(meta_data_dict.keys())"
   ]
  },
  {
   "cell_type": "code",
   "execution_count": null,
   "id": "3252b0f3",
   "metadata": {
    "is_executing": true
   },
   "outputs": [],
   "source": [
    "os.environ[\"PGDATABASE\"] = \"ernieplus\"\n",
    "\n",
    "conn = psycopg2.connect(\"\")\n",
    "cur = conn.cursor()\n",
    "\n",
    "random_selection = random.sample(data, 3000)\n",
    "\n",
    "final_selected = []\n",
    "\n",
    "for index, pmid in tqdm(enumerate(random_selection)):\n",
    "    result = return_single_record(pmid,cur)\n",
    "    #print(result, len(result))\n",
    "    if len(result) > 0 and (not pmid in first_pmids):\n",
    "        final_selected.append(pmid)\n",
    "    \n",
    "    if len(final_selected) == 2004:\n",
    "        break"
   ]
  },
  {
   "cell_type": "code",
   "execution_count": null,
   "id": "ef44038f",
   "metadata": {
    "is_executing": true
   },
   "outputs": [],
   "source": [
    "salvo = {'random': final_selected, 'first_cluster': [int(f) for f in first_pmids] }\n",
    "# print(salvo)\n",
    "\n",
    "file_path = 'pmids.json'\n",
    "\n",
    "# Open the file for writing\n",
    "with open(file_path, 'w') as json_file:\n",
    "    # Write the 'salvo' dictionary to the JSON file\n",
    "    json.dump(salvo, json_file, indent=4)\n",
    "    \n",
    "!ls"
   ]
  },
  {
   "cell_type": "code",
   "execution_count": null,
   "id": "3d1bf3bc",
   "metadata": {
    "is_executing": true
   },
   "outputs": [],
   "source": [
    "print(len(salvo['random']), len(salvo['first_cluster']))"
   ]
  }
 ],
 "metadata": {
  "kernelspec": {
   "display_name": "Python 3",
   "language": "python",
   "name": "python3"
  },
  "language_info": {
   "codemirror_mode": {
    "name": "ipython",
    "version": 3
   },
   "file_extension": ".py",
   "mimetype": "text/x-python",
   "name": "python",
   "nbconvert_exporter": "python",
   "pygments_lexer": "ipython3",
   "version": "3.6.8"
  }
 },
 "nbformat": 4,
 "nbformat_minor": 5
}
