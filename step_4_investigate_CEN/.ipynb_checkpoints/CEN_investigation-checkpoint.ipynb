{
 "cells": [
  {
   "cell_type": "markdown",
   "id": "9535e685",
   "metadata": {},
   "source": [
    "<h1>Ensuring we take correct nodes</h1>\n",
    "<p>From the files we have. Ensure their length is meaningful. As we will see, we shall proceed with the nodes in reformated.tsv</p>"
   ]
  },
  {
   "cell_type": "code",
   "execution_count": 6,
   "id": "fc687a56",
   "metadata": {},
   "outputs": [
    {
     "name": "stdout",
     "output_type": "stream",
     "text": [
      "Number of lines in 'CEN.tsv': 92051051\n",
      "Number of lines in 'exosome.csv': 14695476\n",
      "Number of lines in 'raw.tsv': 13989436\n",
      "Number of lines in 'reformatted.tsv': 13989436\n",
      "Number of lines in 'first_cluster_edges.tsv': 98753\n",
      "Number of lines in 'first_cluster_nodes.tsv': 2004\n"
     ]
    }
   ],
   "source": [
    "import os\n",
    "\n",
    "# Specify the file path\n",
    "files = os.listdir(\"../data/\")\n",
    "\n",
    "for a_ile in files:\n",
    "    file_path = f\"../data/{a_ile}\"\n",
    "\n",
    "    # Initialize a line counter\n",
    "    line_count = 0\n",
    "\n",
    "    # Open the file in read mode\n",
    "    with open(file_path, \"r\") as file:\n",
    "        # Iterate through each line in the file\n",
    "        for line in file:\n",
    "            # Increment the line counter for each line\n",
    "            line_count += 1\n",
    "\n",
    "    # Print the total number of lines in the file\n",
    "    print(f\"Number of lines in '{a_ile}': {line_count}\")\n"
   ]
  },
  {
   "cell_type": "markdown",
   "id": "423dfff9",
   "metadata": {},
   "source": [
    "<p>We ended up using reformatted clustering result, and bellow we ensure nodes are unique</p>"
   ]
  },
  {
   "cell_type": "code",
   "execution_count": 43,
   "id": "c2bbdd81",
   "metadata": {},
   "outputs": [
    {
     "name": "stderr",
     "output_type": "stream",
     "text": [
      "100%|██████████| 13989436/13989436 [00:15<00:00, 875981.48it/s]\n"
     ]
    }
   ],
   "source": [
    "from tqdm import tqdm\n",
    "import csv\n",
    "\n",
    "def open_nodes(file='../data/reformatted.tsv'):\n",
    "    data = []\n",
    "    with open(file, 'r', newline='') as csv_file:\n",
    "        csv_reader = csv.reader(csv_file)\n",
    "        for row in tqdm(csv_reader, total = 13989436):\n",
    "            data.append(int(row[0].split()[0]))\n",
    "\n",
    "    return data\n",
    "\n",
    "data = open_nodes()\n",
    "data.sort()\n",
    "\n",
    "for i in range(len(data)-1):\n",
    "    assert data[i] != data[i+1]\n",
    "    "
   ]
  },
  {
   "cell_type": "code",
   "execution_count": 45,
   "id": "be96ead8",
   "metadata": {},
   "outputs": [
    {
     "name": "stderr",
     "output_type": "stream",
     "text": [
      "100%|██████████| 13989436/13989436 [12:00<00:00, 19408.39it/s]\n"
     ]
    }
   ],
   "source": [
    "import os\n",
    "import psycopg2\n",
    "import json\n",
    "\n",
    "os.environ[\"PGDATABASE\"] = \"ernieplus\"\n",
    "\n",
    "conn = psycopg2.connect(\"\")\n",
    "cur = conn.cursor()\n",
    "\n",
    "#number stats and missing stats\n",
    "stats = {}\n",
    "\n",
    "\n",
    "def return_single_record(PMID, cur):\n",
    "    sql_query = f\"select * from hm31.pubmed_all_xmls_new an where pmid = {PMID}\"\n",
    "    cur.execute(sql_query)\n",
    "    result = cur.fetchall()\n",
    "    \n",
    "    return result\n",
    "    \n",
    "\n",
    "missed = 0\n",
    "\n",
    "for index, pmid in tqdm(enumerate(data), total = 13989436):\n",
    "    result = return_single_record(pmid,cur)\n",
    "    \n",
    "    if len(result) > 1:\n",
    "        stats[pmid] = result\n",
    "    \n",
    "    elif len(result) == 0:\n",
    "        missed += 1\n",
    "        \n",
    "\n",
    "stats['missed'] = missed\n",
    "        \n",
    "        \n",
    "with open('CEN_stats.json', \"w\") as json_file:\n",
    "    json.dump(stats, json_file)\n",
    "\n",
    "    \n",
    " \n",
    "\n",
    "    \n",
    " "
   ]
  },
  {
   "cell_type": "code",
   "execution_count": 25,
   "id": "c877d6df",
   "metadata": {},
   "outputs": [
    {
     "name": "stdout",
     "output_type": "stream",
     "text": [
      "Connected to Postgres successfully\n",
      "(11233, 11233)\n",
      "(26264, 26264)\n",
      "(24416, 24416)\n",
      "(4790, 4790)\n",
      "(26745, 26745)\n",
      "(18803, 18803)\n",
      "(12502, 12502)\n",
      "(5468, 5468)\n",
      "(29089, 29089)\n",
      "(4326, 4326)\n"
     ]
    }
   ],
   "source": [
    "import os\n",
    "\n",
    "# Set the PGDATABASE environment variable\n",
    "os.environ[\"PGDATABASE\"] = \"ernieplus\"\n",
    "\n",
    "import psycopg2\n",
    "\n",
    "conn = psycopg2.connect(\"\")\n",
    "print(\"Connected to Postgres successfully\")\n",
    "# conn.close()\n",
    "\n",
    "# Create a cursor object to interact with the database\n",
    "cur = conn.cursor()\n",
    "\n",
    "# Define your SQL query\n",
    "sql_query = \"select * from hm31.aligned_musicians am limit 10\"\n",
    "\n",
    "# Execute the SQL query\n",
    "cur.execute(sql_query)\n",
    "\n",
    "# Fetch and print the result (you can modify this part based on your query)\n",
    "result = cur.fetchall()\n",
    "for row in result:\n",
    "    print(row)"
   ]
  },
  {
   "cell_type": "code",
   "execution_count": null,
   "id": "bad9f2d8",
   "metadata": {},
   "outputs": [],
   "source": []
  }
 ],
 "metadata": {
  "kernelspec": {
   "display_name": "Python 3",
   "language": "python",
   "name": "python3"
  },
  "language_info": {
   "codemirror_mode": {
    "name": "ipython",
    "version": 3
   },
   "file_extension": ".py",
   "mimetype": "text/x-python",
   "name": "python",
   "nbconvert_exporter": "python",
   "pygments_lexer": "ipython3",
   "version": "3.6.8"
  }
 },
 "nbformat": 4,
 "nbformat_minor": 5
}
