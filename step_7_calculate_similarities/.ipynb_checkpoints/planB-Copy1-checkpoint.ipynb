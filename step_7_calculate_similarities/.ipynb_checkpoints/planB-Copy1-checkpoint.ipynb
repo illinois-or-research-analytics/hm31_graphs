{
 "cells": [
  {
   "cell_type": "code",
   "execution_count": 50,
   "id": "initial_id",
   "metadata": {
    "ExecuteTime": {
     "end_time": "2023-12-27T00:55:36.719839957Z",
     "start_time": "2023-12-27T00:55:36.613395488Z"
    }
   },
   "outputs": [
    {
     "name": "stdout",
     "output_type": "stream",
     "text": [
      "<class 'list'> 9\n"
     ]
    }
   ],
   "source": [
    "import os\n",
    "import psycopg2\n",
    "from psycopg2 import sql\n",
    "import multiprocessing\n",
    "import numpy as np\n",
    "\n",
    "os.environ[\"PGDATABASE\"] = \"ernieplus\"\n",
    "\n",
    "\n",
    "def select_rows_with_range(start_index, end_index):\n",
    "    try:\n",
    "        # Connect to the PostgreSQL database\n",
    "        conn = psycopg2.connect(\"\")  # Replace with your connection parameters\n",
    "        cur = conn.cursor()\n",
    "\n",
    "        # Execute the SELECT query to obtain rows within the specified range\n",
    "        # cur.execute(\"SELECT * FROM hm31.in_edges_features_cert  ORDER BY id OFFSET %s LIMIT %s\", (start_index, end_index - start_index))\n",
    "        cur.execute(\"SELECT * FROM hm31.embedding_edge_features_dev WHERE id >= %s AND id < %s\", (start_index, end_index))\n",
    "\n",
    "    # Fetch the results\n",
    "        results = cur.fetchall()\n",
    "\n",
    "        # Print the results\n",
    "        #         for row in results:\n",
    "        #             print(\"Row:\", type(row))\n",
    "\n",
    "        return results\n",
    "\n",
    "    except Exception as e:\n",
    "        print(\"Error:\", e)\n",
    "        print(f\"start {start_index} end {end_index}\")\n",
    "\n",
    "    finally:\n",
    "        cur.close()\n",
    "        conn.close()\n",
    "        \n",
    "        \n",
    "rows = select_rows_with_range(0, 10);\n",
    "print(type(rows), len(rows))"
   ]
  },
  {
   "cell_type": "code",
   "execution_count": 51,
   "id": "ba7eb49a",
   "metadata": {
    "ExecuteTime": {
     "start_time": "2023-12-27T00:55:36.718179333Z"
    }
   },
   "outputs": [],
   "source": [
    "def process_embedding(row):\n",
    "    first_emb = row[3]\n",
    "    second_emb = row[4]\n",
    "\n",
    "    if type(first_emb) == list and len(first_emb) > 100:\n",
    "        f = np.asarray(first_emb)\n",
    "        \n",
    "        if type(second_emb) == list and len(second_emb) > 100:\n",
    "            s = np.asarray(second_emb)\n",
    "            return np.dot(f,s)/(np.linalg.norm(f)*np.linalg.norm(s))\n",
    "    \n",
    "    return 0.5"
   ]
  },
  {
   "cell_type": "code",
   "execution_count": 52,
   "id": "79c8eb7d",
   "metadata": {
    "ExecuteTime": {
     "start_time": "2023-12-27T00:55:36.718428321Z"
    }
   },
   "outputs": [
    {
     "data": {
      "text/plain": [
       "[(8355366, 2850621, 0.6374324396418246),\n",
       " (331900, 736325, 0.8036565537253293),\n",
       " (7987469, 1752549, 0.6906632200399174),\n",
       " (1285882, 509191, 0.7826393349096715),\n",
       " (442707, 319767, 0.8312524571505582),\n",
       " (115231, 505007, 0.8237135141774974),\n",
       " (6809889, 47786, 0.723653635601731),\n",
       " (567435, 708907, 0.7453958169641854),\n",
       " (6737207, 427521, 0.7322285380521133)]"
      ]
     },
     "execution_count": 52,
     "metadata": {},
     "output_type": "execute_result"
    }
   ],
   "source": [
    "def process_batch(rows):\n",
    "    results = []\n",
    "    for row in rows:\n",
    "        first_node = row[1]\n",
    "        second_node = row[2]\n",
    "        \n",
    "        cosine = process_embedding(row)\n",
    "        \n",
    "        results.append((first_node, second_node, cosine))\n",
    "    \n",
    "    return results     \n",
    "process_batch(rows)"
   ]
  },
  {
   "cell_type": "code",
   "execution_count": 53,
   "id": "59fe1b32",
   "metadata": {
    "ExecuteTime": {
     "start_time": "2023-12-27T00:55:36.718728105Z"
    }
   },
   "outputs": [],
   "source": [
    "# Set the PGDATABASE environment variable\n",
    "os.environ[\"PGDATABASE\"] = \"ernieplus\"\n",
    "\n",
    "\n",
    "# Set the PGDATABASE environment variable\n",
    "os.environ[\"PGDATABASE\"] = \"ernieplus\"\n",
    "\n",
    "def insert_values_into_table(values_list):\n",
    "    try:\n",
    "        # Connect to the PostgreSQL database\n",
    "        conn = psycopg2.connect(\"\")\n",
    "        cur = conn.cursor()\n",
    "\n",
    "        \n",
    "        args = ','.join(cur.mogrify(\"(%s, %s, %s)\", i).decode('utf-8') for i in values_list)\n",
    "                \n",
    "        cur.execute(\"INSERT INTO hm31.embedding_edge_weights_cert VALUES \" + (args))\n",
    "\n",
    "        conn.commit()\n",
    "#         print('success')\n",
    "\n",
    "    except Exception as e:\n",
    "        print(\"Error:\", e)\n",
    "\n",
    "    finally:\n",
    "        cur.close()\n",
    "        conn.close()"
   ]
  },
  {
   "cell_type": "code",
   "execution_count": 54,
   "id": "25ea1384",
   "metadata": {
    "ExecuteTime": {
     "start_time": "2023-12-27T00:55:36.718886223Z"
    }
   },
   "outputs": [
    {
     "name": "stdout",
     "output_type": "stream",
     "text": [
      "10000\n"
     ]
    }
   ],
   "source": [
    "def get_table_count():\n",
    "    try:\n",
    "        # Connect to the PostgreSQL database\n",
    "        conn = psycopg2.connect(\"\")  # Replace with your connection parameters\n",
    "        cur = conn.cursor()\n",
    "\n",
    "        # Execute the SELECT COUNT(*) query\n",
    "        cur.execute(\"SELECT COUNT(*) FROM hm31.embedding_edge_features_dev\")\n",
    "        \n",
    "        # Fetch the result\n",
    "        result = cur.fetchone()\n",
    "\n",
    "        # Print the result\n",
    "        return result[0]\n",
    "\n",
    "    except Exception as e:\n",
    "        print(\"Error:\", e)\n",
    "\n",
    "    finally:\n",
    "        cur.close()\n",
    "        conn.close()\n",
    "count = int(get_table_count())\n",
    "print(count)"
   ]
  },
  {
   "cell_type": "code",
   "execution_count": 55,
   "id": "5d297bc3",
   "metadata": {
    "ExecuteTime": {
     "start_time": "2023-12-27T00:55:36.719476303Z"
    }
   },
   "outputs": [],
   "source": [
    "def insert_wrapper(start_index, end_index):\n",
    "    rows = select_rows_with_range(start_index, end_index)\n",
    "    results = process_batch(rows)\n",
    "    insert_values_into_table(results)\n",
    "    "
   ]
  },
  {
   "cell_type": "code",
   "execution_count": null,
   "id": "78e1fe7f",
   "metadata": {
    "ExecuteTime": {
     "start_time": "2023-12-27T00:55:36.719617158Z"
    }
   },
   "outputs": [
    {
     "name": "stderr",
     "output_type": "stream",
     "text": [
      " 52%|█████▏    | 52/100 [00:05<00:03, 13.57it/s]"
     ]
    }
   ],
   "source": [
    "from tqdm import tqdm\n",
    "\n",
    "SPLIT_LENGTH = 100\n",
    "count = 9919\n",
    "CHUNCKS = count // SPLIT_LENGTH + 1\n",
    "\n",
    "for i in tqdm(range(CHUNCKS)):\n",
    "    rows = select_rows_with_range(i*SPLIT_LENGTH, min((i+1)* SPLIT_LENGTH, count + 1))\n",
    "    results = process_batch(rows)\n",
    "    insert_values_into_table(results)\n",
    "    \n"
   ]
  },
  {
   "cell_type": "code",
   "execution_count": null,
   "id": "d4c9cef4",
   "metadata": {
    "ExecuteTime": {
     "start_time": "2023-12-27T00:55:36.719754747Z"
    }
   },
   "outputs": [],
   "source": [
    "from tqdm import tqdm\n",
    "\n",
    "\n",
    "\n",
    "for i in tqdm(range(44500000, count)):\n",
    "    rows = select_rows_with_range(i,i+1)\n",
    "    results = process_batch(rows)\n",
    "    insert_values_into_table(results)"
   ]
  },
  {
   "cell_type": "code",
   "execution_count": null,
   "id": "5eb9e641",
   "metadata": {
    "ExecuteTime": {
     "end_time": "2023-12-27T00:55:36.724602238Z",
     "start_time": "2023-12-27T00:55:36.721105559Z"
    }
   },
   "outputs": [],
   "source": [
    "import multiprocessing\n",
    "\n",
    "lst = []\n",
    "\n",
    "SPLIT_LENGTH = 1000\n",
    "CHUNCKS = count // SPLIT_LENGTH\n",
    "\n",
    "for i in range(CHUNCKS):\n",
    "    lst.append((i*SPLIT_LENGTH, min((i+1)* SPLIT_LENGTH, count)))\n",
    "    \n",
    "with multiprocessing.Pool(processes=50) as pool:\n",
    "    results = pool.starmap(insert_wrapper, lst)"
   ]
  }
 ],
 "metadata": {
  "kernelspec": {
   "display_name": "Python 3",
   "language": "python",
   "name": "python3"
  },
  "language_info": {
   "codemirror_mode": {
    "name": "ipython",
    "version": 3
   },
   "file_extension": ".py",
   "mimetype": "text/x-python",
   "name": "python",
   "nbconvert_exporter": "python",
   "pygments_lexer": "ipython3",
   "version": "3.6.8"
  }
 },
 "nbformat": 4,
 "nbformat_minor": 5
}
