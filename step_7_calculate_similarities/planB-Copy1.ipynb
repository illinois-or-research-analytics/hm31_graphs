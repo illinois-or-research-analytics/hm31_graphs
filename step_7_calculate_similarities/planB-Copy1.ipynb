{
 "cells": [
  {
   "cell_type": "code",
   "execution_count": 1,
   "id": "initial_id",
   "metadata": {
    "ExecuteTime": {
     "end_time": "2023-12-27T03:26:48.405737442Z",
     "start_time": "2023-12-27T03:26:48.082201210Z"
    }
   },
   "outputs": [
    {
     "name": "stdout",
     "output_type": "stream",
     "text": [
      "<class 'list'> 9\n"
     ]
    }
   ],
   "source": [
    "import os\n",
    "import psycopg2\n",
    "from psycopg2 import sql\n",
    "import multiprocessing\n",
    "import numpy as np\n",
    "\n",
    "os.environ[\"PGDATABASE\"] = \"ernieplus\"\n",
    "\n",
    "\n",
    "def select_rows_with_range(start_index, end_index):\n",
    "    try:\n",
    "        # Connect to the PostgreSQL database\n",
    "        conn = psycopg2.connect(\"\")  # Replace with your connection parameters\n",
    "        cur = conn.cursor()\n",
    "\n",
    "        # Execute the SELECT query to obtain rows within the specified range\n",
    "        # cur.execute(\"SELECT * FROM hm31.in_edges_features_cert  ORDER BY id OFFSET %s LIMIT %s\", (start_index, end_index - start_index))\n",
    "        cur.execute(\"SELECT * FROM hm31.embedding_edge_features_dev WHERE id >= %s AND id < %s\", (start_index, end_index))\n",
    "\n",
    "    # Fetch the results\n",
    "        results = cur.fetchall()\n",
    "\n",
    "        # Print the results\n",
    "        #         for row in results:\n",
    "        #             print(\"Row:\", type(row))\n",
    "\n",
    "        return results\n",
    "\n",
    "    except Exception as e:\n",
    "        print(\"Error:\", e)\n",
    "        print(f\"start {start_index} end {end_index}\")\n",
    "\n",
    "    finally:\n",
    "        cur.close()\n",
    "        conn.close()\n",
    "        \n",
    "        \n",
    "rows = select_rows_with_range(0, 10);\n",
    "print(type(rows), len(rows))"
   ]
  },
  {
   "cell_type": "code",
   "execution_count": 2,
   "id": "ba7eb49a",
   "metadata": {
    "ExecuteTime": {
     "end_time": "2023-12-27T03:26:48.407330449Z",
     "start_time": "2023-12-27T03:26:48.338829170Z"
    }
   },
   "outputs": [],
   "source": [
    "def process_embedding(row):\n",
    "    first_emb = row[3]\n",
    "    second_emb = row[4]\n",
    "\n",
    "    if type(first_emb) == list and len(first_emb) > 100:\n",
    "        f = np.asarray(first_emb)\n",
    "        \n",
    "        if type(second_emb) == list and len(second_emb) > 100:\n",
    "            s = np.asarray(second_emb)\n",
    "            return np.dot(f,s)/(np.linalg.norm(f)*np.linalg.norm(s))\n",
    "    \n",
    "    return 0.5"
   ]
  },
  {
   "cell_type": "code",
   "execution_count": 3,
   "id": "79c8eb7d",
   "metadata": {
    "ExecuteTime": {
     "end_time": "2023-12-27T03:26:48.408795526Z",
     "start_time": "2023-12-27T03:26:48.339620729Z"
    }
   },
   "outputs": [
    {
     "data": {
      "text/plain": "[(8355366, 2850621, 0.6374324396418246),\n (331900, 736325, 0.8036565537253293),\n (7987469, 1752549, 0.6906632200399174),\n (1285882, 509191, 0.7826393349096715),\n (442707, 319767, 0.8312524571505582),\n (115231, 505007, 0.8237135141774974),\n (6809889, 47786, 0.723653635601731),\n (567435, 708907, 0.7453958169641854),\n (6737207, 427521, 0.7322285380521133)]"
     },
     "execution_count": 3,
     "metadata": {},
     "output_type": "execute_result"
    }
   ],
   "source": [
    "def process_batch(rows):\n",
    "    results = []\n",
    "    for row in rows:\n",
    "        first_node = row[1]\n",
    "        second_node = row[2]\n",
    "        \n",
    "        cosine = process_embedding(row)\n",
    "        \n",
    "        results.append((first_node, second_node, cosine))\n",
    "    \n",
    "    return results     \n",
    "process_batch(rows)"
   ]
  },
  {
   "cell_type": "code",
   "execution_count": 4,
   "id": "59fe1b32",
   "metadata": {
    "ExecuteTime": {
     "end_time": "2023-12-27T03:26:48.409512796Z",
     "start_time": "2023-12-27T03:26:48.340004942Z"
    }
   },
   "outputs": [],
   "source": [
    "# Set the PGDATABASE environment variable\n",
    "os.environ[\"PGDATABASE\"] = \"ernieplus\"\n",
    "\n",
    "\n",
    "# Set the PGDATABASE environment variable\n",
    "os.environ[\"PGDATABASE\"] = \"ernieplus\"\n",
    "\n",
    "def insert_values_into_table(values_list):\n",
    "    try:\n",
    "        # Connect to the PostgreSQL database\n",
    "        conn = psycopg2.connect(\"\")\n",
    "        cur = conn.cursor()\n",
    "\n",
    "        \n",
    "        args = ','.join(cur.mogrify(\"(%s, %s, %s)\", i).decode('utf-8') for i in values_list)\n",
    "                \n",
    "        cur.execute(\"INSERT INTO hm31.embedding_edge_weights_cert VALUES \" + (args))\n",
    "\n",
    "        conn.commit()\n",
    "#         print('success')\n",
    "\n",
    "    except Exception as e:\n",
    "        print(\"Error:\", e)\n",
    "\n",
    "    finally:\n",
    "        cur.close()\n",
    "        conn.close()"
   ]
  },
  {
   "cell_type": "code",
   "execution_count": 5,
   "id": "25ea1384",
   "metadata": {
    "ExecuteTime": {
     "end_time": "2023-12-27T03:26:48.410543315Z",
     "start_time": "2023-12-27T03:26:48.340343439Z"
    }
   },
   "outputs": [
    {
     "name": "stdout",
     "output_type": "stream",
     "text": [
      "10000\n"
     ]
    }
   ],
   "source": [
    "def get_table_count():\n",
    "    try:\n",
    "        # Connect to the PostgreSQL database\n",
    "        conn = psycopg2.connect(\"\")  # Replace with your connection parameters\n",
    "        cur = conn.cursor()\n",
    "\n",
    "        # Execute the SELECT COUNT(*) query\n",
    "        cur.execute(\"SELECT COUNT(*) FROM hm31.embedding_edge_features_dev\")\n",
    "        \n",
    "        # Fetch the result\n",
    "        result = cur.fetchone()\n",
    "\n",
    "        # Print the result\n",
    "        return result[0]\n",
    "\n",
    "    except Exception as e:\n",
    "        print(\"Error:\", e)\n",
    "\n",
    "    finally:\n",
    "        cur.close()\n",
    "        conn.close()\n",
    "count = int(get_table_count())\n",
    "print(count)"
   ]
  },
  {
   "cell_type": "code",
   "execution_count": 6,
   "id": "5d297bc3",
   "metadata": {
    "ExecuteTime": {
     "end_time": "2023-12-27T03:26:48.411645459Z",
     "start_time": "2023-12-27T03:26:48.340702264Z"
    }
   },
   "outputs": [],
   "source": [
    "def insert_wrapper(start_index, end_index):\n",
    "    rows = select_rows_with_range(start_index, end_index)\n",
    "    results = process_batch(rows)\n",
    "    insert_values_into_table(results)\n",
    "    "
   ]
  },
  {
   "cell_type": "code",
   "execution_count": 7,
   "id": "78e1fe7f",
   "metadata": {
    "ExecuteTime": {
     "end_time": "2023-12-27T03:26:55.355544265Z",
     "start_time": "2023-12-27T03:26:48.341325086Z"
    }
   },
   "outputs": [
    {
     "name": "stderr",
     "output_type": "stream",
     "text": [
      "  0%|          | 0/100 [00:00<?, ?it/s]"
     ]
    },
    {
     "name": "stdout",
     "output_type": "stream",
     "text": [
      "Error: duplicate key value violates unique constraint \"idx_unique_pair\"\n",
      "DETAIL:  Key (first, second)=(8355366, 2850621) already exists.\n"
     ]
    },
    {
     "name": "stderr",
     "output_type": "stream",
     "text": [
      "  2%|▏         | 2/100 [00:00<00:06, 14.18it/s]"
     ]
    },
    {
     "name": "stdout",
     "output_type": "stream",
     "text": [
      "Error: duplicate key value violates unique constraint \"idx_unique_pair\"\n",
      "DETAIL:  Key (first, second)=(6814646, 361487) already exists.\n",
      "Error: duplicate key value violates unique constraint \"idx_unique_pair\"\n",
      "DETAIL:  Key (first, second)=(7387432, 2047912) already exists.\n"
     ]
    },
    {
     "name": "stderr",
     "output_type": "stream",
     "text": [
      "  4%|▍         | 4/100 [00:00<00:06, 13.89it/s]"
     ]
    },
    {
     "name": "stdout",
     "output_type": "stream",
     "text": [
      "Error: duplicate key value violates unique constraint \"idx_unique_pair\"\n",
      "DETAIL:  Key (first, second)=(78918, 308466) already exists.\n",
      "Error: duplicate key value violates unique constraint \"idx_unique_pair\"\n",
      "DETAIL:  Key (first, second)=(1568614, 535810) already exists.\n"
     ]
    },
    {
     "name": "stderr",
     "output_type": "stream",
     "text": [
      "  6%|▌         | 6/100 [00:00<00:06, 13.94it/s]"
     ]
    },
    {
     "name": "stdout",
     "output_type": "stream",
     "text": [
      "Error: duplicate key value violates unique constraint \"idx_unique_pair\"\n",
      "DETAIL:  Key (first, second)=(317104, 635194) already exists.\n",
      "Error: duplicate key value violates unique constraint \"idx_unique_pair\"\n",
      "DETAIL:  Key (first, second)=(829292, 560310) already exists.\n"
     ]
    },
    {
     "name": "stderr",
     "output_type": "stream",
     "text": [
      "  8%|▊         | 8/100 [00:00<00:06, 14.06it/s]"
     ]
    },
    {
     "name": "stdout",
     "output_type": "stream",
     "text": [
      "Error: duplicate key value violates unique constraint \"idx_unique_pair\"\n",
      "DETAIL:  Key (first, second)=(7569713, 627175) already exists.\n",
      "Error: duplicate key value violates unique constraint \"idx_unique_pair\"\n",
      "DETAIL:  Key (first, second)=(126683, 24237) already exists.\n"
     ]
    },
    {
     "name": "stderr",
     "output_type": "stream",
     "text": [
      " 10%|█         | 10/100 [00:00<00:06, 14.13it/s]"
     ]
    },
    {
     "name": "stdout",
     "output_type": "stream",
     "text": [
      "Error: duplicate key value violates unique constraint \"idx_unique_pair\"\n",
      "DETAIL:  Key (first, second)=(62832, 3386301) already exists.\n",
      "Error: duplicate key value violates unique constraint \"idx_unique_pair\"\n",
      "DETAIL:  Key (first, second)=(112993, 400611) already exists.\n"
     ]
    },
    {
     "name": "stderr",
     "output_type": "stream",
     "text": [
      " 12%|█▏        | 12/100 [00:00<00:06, 14.15it/s]"
     ]
    },
    {
     "name": "stdout",
     "output_type": "stream",
     "text": [
      "Error: duplicate key value violates unique constraint \"idx_unique_pair\"\n",
      "DETAIL:  Key (first, second)=(1424731, 14065060) already exists.\n",
      "Error: duplicate key value violates unique constraint \"idx_unique_pair\"\n",
      "DETAIL:  Key (first, second)=(1626158, 2047912) already exists.\n"
     ]
    },
    {
     "name": "stderr",
     "output_type": "stream",
     "text": [
      " 14%|█▍        | 14/100 [00:00<00:06, 14.20it/s]"
     ]
    },
    {
     "name": "stdout",
     "output_type": "stream",
     "text": [
      "Error: duplicate key value violates unique constraint \"idx_unique_pair\"\n",
      "DETAIL:  Key (first, second)=(8467477, 272753) already exists.\n",
      "Error: duplicate key value violates unique constraint \"idx_unique_pair\"\n",
      "DETAIL:  Key (first, second)=(8137106, 157705) already exists.\n"
     ]
    },
    {
     "name": "stderr",
     "output_type": "stream",
     "text": [
      " 16%|█▌        | 16/100 [00:01<00:05, 14.15it/s]"
     ]
    },
    {
     "name": "stdout",
     "output_type": "stream",
     "text": [
      "Error: duplicate key value violates unique constraint \"idx_unique_pair\"\n",
      "DETAIL:  Key (first, second)=(8508285, 123038) already exists.\n",
      "Error: duplicate key value violates unique constraint \"idx_unique_pair\"\n",
      "DETAIL:  Key (first, second)=(8394183, 682603) already exists.\n"
     ]
    },
    {
     "name": "stderr",
     "output_type": "stream",
     "text": [
      " 18%|█▊        | 18/100 [00:01<00:05, 14.17it/s]"
     ]
    },
    {
     "name": "stdout",
     "output_type": "stream",
     "text": [
      "Error: duplicate key value violates unique constraint \"idx_unique_pair\"\n",
      "DETAIL:  Key (first, second)=(884953, 733621) already exists.\n",
      "Error: duplicate key value violates unique constraint \"idx_unique_pair\"\n",
      "DETAIL:  Key (first, second)=(1234035, 14054502) already exists.\n"
     ]
    },
    {
     "name": "stderr",
     "output_type": "stream",
     "text": [
      " 20%|██        | 20/100 [00:01<00:05, 14.09it/s]"
     ]
    },
    {
     "name": "stdout",
     "output_type": "stream",
     "text": [
      "Error: duplicate key value violates unique constraint \"idx_unique_pair\"\n",
      "DETAIL:  Key (first, second)=(1606970, 2047912) already exists.\n",
      "Error: duplicate key value violates unique constraint \"idx_unique_pair\"\n",
      "DETAIL:  Key (first, second)=(8476728, 272753) already exists.\n"
     ]
    },
    {
     "name": "stderr",
     "output_type": "stream",
     "text": [
      " 22%|██▏       | 22/100 [00:01<00:05, 14.20it/s]"
     ]
    },
    {
     "name": "stdout",
     "output_type": "stream",
     "text": [
      "Error: duplicate key value violates unique constraint \"idx_unique_pair\"\n",
      "DETAIL:  Key (first, second)=(8115982, 661554) already exists.\n",
      "\n",
      "Error: duplicate key value violates unique constraint \"idx_unique_pair\"\n",
      "DETAIL:  Key (first, second)=(943165, 129601) already exists.\n"
     ]
    },
    {
     "name": "stderr",
     "output_type": "stream",
     "text": [
      " 24%|██▍       | 24/100 [00:01<00:05, 13.59it/s]"
     ]
    },
    {
     "name": "stdout",
     "output_type": "stream",
     "text": [
      "Error: duplicate key value violates unique constraint \"idx_unique_pair\"\n",
      "DETAIL:  Key (first, second)=(2450585, 623084) already exists.\n",
      "Error: duplicate key value violates unique constraint \"idx_unique_pair\"\n",
      "DETAIL:  Key (first, second)=(2317548, 352657) already exists.\n"
     ]
    },
    {
     "name": "stderr",
     "output_type": "stream",
     "text": [
      " 26%|██▌       | 26/100 [00:01<00:05, 13.80it/s]"
     ]
    },
    {
     "name": "stdout",
     "output_type": "stream",
     "text": [
      "Error: duplicate key value violates unique constraint \"idx_unique_pair\"\n",
      "DETAIL:  Key (first, second)=(8622091, 14083663) already exists.\n",
      "Error: duplicate key value violates unique constraint \"idx_unique_pair\"\n",
      "DETAIL:  Key (first, second)=(2428583, 318390) already exists.\n"
     ]
    },
    {
     "name": "stderr",
     "output_type": "stream",
     "text": [
      " 28%|██▊       | 28/100 [00:01<00:05, 13.96it/s]"
     ]
    },
    {
     "name": "stdout",
     "output_type": "stream",
     "text": [
      "Error: duplicate key value violates unique constraint \"idx_unique_pair\"\n",
      "DETAIL:  Key (first, second)=(9330121, 507208) already exists.\n",
      "Error: duplicate key value violates unique constraint \"idx_unique_pair\"\n",
      "DETAIL:  Key (first, second)=(2173624, 13271) already exists.\n"
     ]
    },
    {
     "name": "stderr",
     "output_type": "stream",
     "text": [
      " 30%|███       | 30/100 [00:02<00:04, 14.08it/s]"
     ]
    },
    {
     "name": "stdout",
     "output_type": "stream",
     "text": [
      "Error: duplicate key value violates unique constraint \"idx_unique_pair\"\n",
      "DETAIL:  Key (first, second)=(1401348, 166493) already exists.\n",
      "Error: duplicate key value violates unique constraint \"idx_unique_pair\"\n",
      "DETAIL:  Key (first, second)=(8723950, 420339) already exists.\n"
     ]
    },
    {
     "name": "stderr",
     "output_type": "stream",
     "text": [
      " 32%|███▏      | 32/100 [00:02<00:04, 13.97it/s]"
     ]
    },
    {
     "name": "stdout",
     "output_type": "stream",
     "text": [
      "Error: duplicate key value violates unique constraint \"idx_unique_pair\"\n",
      "DETAIL:  Key (first, second)=(2381321, 246732) already exists.\n",
      "Error: duplicate key value violates unique constraint \"idx_unique_pair\"\n",
      "DETAIL:  Key (first, second)=(9415959, 3867905) already exists.\n"
     ]
    },
    {
     "name": "stderr",
     "output_type": "stream",
     "text": [
      " 34%|███▍      | 34/100 [00:02<00:04, 13.90it/s]"
     ]
    },
    {
     "name": "stdout",
     "output_type": "stream",
     "text": [
      "Error: duplicate key value violates unique constraint \"idx_unique_pair\"\n",
      "DETAIL:  Key (first, second)=(2419294, 178446) already exists.\n",
      "Error: duplicate key value violates unique constraint \"idx_unique_pair\"\n",
      "DETAIL:  Key (first, second)=(2814534, 3867905) already exists.\n"
     ]
    },
    {
     "name": "stderr",
     "output_type": "stream",
     "text": [
      " 36%|███▌      | 36/100 [00:02<00:04, 14.00it/s]"
     ]
    },
    {
     "name": "stdout",
     "output_type": "stream",
     "text": [
      "Error: duplicate key value violates unique constraint \"idx_unique_pair\"\n",
      "DETAIL:  Key (first, second)=(3276640, 585329) already exists.\n",
      "Error: duplicate key value violates unique constraint \"idx_unique_pair\"\n",
      "DETAIL:  Key (first, second)=(3121264, 92079) already exists.\n"
     ]
    },
    {
     "name": "stderr",
     "output_type": "stream",
     "text": [
      " 38%|███▊      | 38/100 [00:02<00:04, 14.18it/s]"
     ]
    },
    {
     "name": "stdout",
     "output_type": "stream",
     "text": [
      "Error: duplicate key value violates unique constraint \"idx_unique_pair\"\n",
      "DETAIL:  Key (first, second)=(9224494, 349411) already exists.\n",
      "\n",
      "Error: duplicate key value violates unique constraint \"idx_unique_pair\"\n",
      "DETAIL:  Key (first, second)=(1700219, 3386301) already exists.\n"
     ]
    },
    {
     "name": "stderr",
     "output_type": "stream",
     "text": [
      " 40%|████      | 40/100 [00:02<00:04, 14.33it/s]"
     ]
    },
    {
     "name": "stdout",
     "output_type": "stream",
     "text": [
      "Error: duplicate key value violates unique constraint \"idx_unique_pair\"\n",
      "DETAIL:  Key (first, second)=(2257360, 558467) already exists.\n",
      "\n",
      "Error: duplicate key value violates unique constraint \"idx_unique_pair\"\n",
      "DETAIL:  Key (first, second)=(1751576, 145533) already exists.\n"
     ]
    },
    {
     "name": "stderr",
     "output_type": "stream",
     "text": [
      " 42%|████▏     | 42/100 [00:02<00:04, 14.31it/s]"
     ]
    },
    {
     "name": "stdout",
     "output_type": "stream",
     "text": [
      "Error: duplicate key value violates unique constraint \"idx_unique_pair\"\n",
      "DETAIL:  Key (first, second)=(9970808, 1752549) already exists.\n",
      "\n",
      "Error: duplicate key value violates unique constraint \"idx_unique_pair\"\n",
      "DETAIL:  Key (first, second)=(1931986, 273242) already exists.\n"
     ]
    },
    {
     "name": "stderr",
     "output_type": "stream",
     "text": [
      " 44%|████▍     | 44/100 [00:03<00:03, 14.24it/s]"
     ]
    },
    {
     "name": "stdout",
     "output_type": "stream",
     "text": [
      "Error: duplicate key value violates unique constraint \"idx_unique_pair\"\n",
      "DETAIL:  Key (first, second)=(3219202, 393048) already exists.\n",
      "Error: duplicate key value violates unique constraint \"idx_unique_pair\"\n",
      "DETAIL:  Key (first, second)=(3002220, 133974) already exists.\n"
     ]
    },
    {
     "name": "stderr",
     "output_type": "stream",
     "text": [
      " 46%|████▌     | 46/100 [00:03<00:03, 14.21it/s]"
     ]
    },
    {
     "name": "stdout",
     "output_type": "stream",
     "text": [
      "Error: duplicate key value violates unique constraint \"idx_unique_pair\"\n",
      "DETAIL:  Key (first, second)=(2881870, 3867905) already exists.\n",
      "Error: duplicate key value violates unique constraint \"idx_unique_pair\"\n",
      "DETAIL:  Key (first, second)=(9624920, 3386301) already exists.\n"
     ]
    },
    {
     "name": "stderr",
     "output_type": "stream",
     "text": [
      " 48%|████▊     | 48/100 [00:03<00:03, 14.30it/s]"
     ]
    },
    {
     "name": "stdout",
     "output_type": "stream",
     "text": [
      "Error: duplicate key value violates unique constraint \"idx_unique_pair\"\n",
      "DETAIL:  Key (first, second)=(10141091, 466421) already exists.\n",
      "Error: duplicate key value violates unique constraint \"idx_unique_pair\"\n",
      "DETAIL:  Key (first, second)=(2844796, 301749) already exists.\n"
     ]
    },
    {
     "name": "stderr",
     "output_type": "stream",
     "text": [
      " 50%|█████     | 50/100 [00:03<00:03, 14.34it/s]"
     ]
    },
    {
     "name": "stdout",
     "output_type": "stream",
     "text": [
      "Error: duplicate key value violates unique constraint \"idx_unique_pair\"\n",
      "DETAIL:  Key (first, second)=(3190327, 172340) already exists.\n",
      "Error: duplicate key value violates unique constraint \"idx_unique_pair\"\n",
      "DETAIL:  Key (first, second)=(2970448, 51058) already exists.\n"
     ]
    },
    {
     "name": "stderr",
     "output_type": "stream",
     "text": [
      " 52%|█████▏    | 52/100 [00:03<00:03, 14.35it/s]"
     ]
    },
    {
     "name": "stdout",
     "output_type": "stream",
     "text": [
      "Error: duplicate key value violates unique constraint \"idx_unique_pair\"\n",
      "DETAIL:  Key (first, second)=(2999040, 451565) already exists.\n",
      "Error: duplicate key value violates unique constraint \"idx_unique_pair\"\n",
      "DETAIL:  Key (first, second)=(2923442, 309057) already exists.\n"
     ]
    },
    {
     "name": "stderr",
     "output_type": "stream",
     "text": [
      " 54%|█████▍    | 54/100 [00:03<00:03, 14.30it/s]"
     ]
    },
    {
     "name": "stdout",
     "output_type": "stream",
     "text": [
      "Error: duplicate key value violates unique constraint \"idx_unique_pair\"\n",
      "DETAIL:  Key (first, second)=(10127407, 1752549) already exists.\n",
      "Error: duplicate key value violates unique constraint \"idx_unique_pair\"\n",
      "DETAIL:  Key (first, second)=(2992139, 109688) already exists.\n"
     ]
    },
    {
     "name": "stderr",
     "output_type": "stream",
     "text": [
      " 56%|█████▌    | 56/100 [00:03<00:03, 14.05it/s]"
     ]
    },
    {
     "name": "stdout",
     "output_type": "stream",
     "text": [
      "Error: duplicate key value violates unique constraint \"idx_unique_pair\"\n",
      "DETAIL:  Key (first, second)=(4159671, 206456) already exists.\n",
      "Error: duplicate key value violates unique constraint \"idx_unique_pair\"\n",
      "DETAIL:  Key (first, second)=(4150920, 343992) already exists.\n"
     ]
    },
    {
     "name": "stderr",
     "output_type": "stream",
     "text": [
      " 58%|█████▊    | 58/100 [00:04<00:02, 14.07it/s]"
     ]
    },
    {
     "name": "stdout",
     "output_type": "stream",
     "text": [
      "Error: duplicate key value violates unique constraint \"idx_unique_pair\"\n",
      "DETAIL:  Key (first, second)=(10408910, 3867905) already exists.\n",
      "Error: duplicate key value violates unique constraint \"idx_unique_pair\"\n",
      "DETAIL:  Key (first, second)=(3881088, 574128) already exists.\n"
     ]
    },
    {
     "name": "stderr",
     "output_type": "stream",
     "text": [
      " 60%|██████    | 60/100 [00:04<00:02, 14.08it/s]"
     ]
    },
    {
     "name": "stdout",
     "output_type": "stream",
     "text": [
      "Error: duplicate key value violates unique constraint \"idx_unique_pair\"\n",
      "DETAIL:  Key (first, second)=(11291394, 272753) already exists.\n",
      "Error: duplicate key value violates unique constraint \"idx_unique_pair\"\n",
      "DETAIL:  Key (first, second)=(3662343, 2047912) already exists.\n"
     ]
    },
    {
     "name": "stderr",
     "output_type": "stream",
     "text": [
      " 62%|██████▏   | 62/100 [00:04<00:02, 14.11it/s]"
     ]
    },
    {
     "name": "stdout",
     "output_type": "stream",
     "text": [
      "Error: duplicate key value violates unique constraint \"idx_unique_pair\"\n",
      "DETAIL:  Key (first, second)=(10757983, 741025) already exists.\n",
      "Error: duplicate key value violates unique constraint \"idx_unique_pair\"\n",
      "DETAIL:  Key (first, second)=(3835480, 63021) already exists.\n"
     ]
    },
    {
     "name": "stderr",
     "output_type": "stream",
     "text": [
      " 64%|██████▍   | 64/100 [00:04<00:02, 14.12it/s]"
     ]
    },
    {
     "name": "stdout",
     "output_type": "stream",
     "text": [
      "Error: duplicate key value violates unique constraint \"idx_unique_pair\"\n",
      "DETAIL:  Key (first, second)=(4039443, 3867905) already exists.\n",
      "Error: duplicate key value violates unique constraint \"idx_unique_pair\"\n",
      "DETAIL:  Key (first, second)=(4155552, 627175) already exists.\n"
     ]
    },
    {
     "name": "stderr",
     "output_type": "stream",
     "text": [
      " 66%|██████▌   | 66/100 [00:04<00:02, 14.13it/s]"
     ]
    },
    {
     "name": "stdout",
     "output_type": "stream",
     "text": [
      "Error: duplicate key value violates unique constraint \"idx_unique_pair\"\n",
      "DETAIL:  Key (first, second)=(4381055, 578080) already exists.\n",
      "Error: duplicate key value violates unique constraint \"idx_unique_pair\"\n",
      "DETAIL:  Key (first, second)=(4244146, 106888) already exists.\n"
     ]
    },
    {
     "name": "stderr",
     "output_type": "stream",
     "text": [
      " 68%|██████▊   | 68/100 [00:04<00:02, 14.12it/s]"
     ]
    },
    {
     "name": "stdout",
     "output_type": "stream",
     "text": [
      "Error: duplicate key value violates unique constraint \"idx_unique_pair\"\n",
      "DETAIL:  Key (first, second)=(4070757, 206456) already exists.\n",
      "Error: duplicate key value violates unique constraint \"idx_unique_pair\"\n",
      "DETAIL:  Key (first, second)=(5019588, 129601) already exists.\n"
     ]
    },
    {
     "name": "stderr",
     "output_type": "stream",
     "text": [
      " 70%|███████   | 70/100 [00:04<00:02, 14.16it/s]"
     ]
    },
    {
     "name": "stdout",
     "output_type": "stream",
     "text": [
      "Error: duplicate key value violates unique constraint \"idx_unique_pair\"\n",
      "DETAIL:  Key (first, second)=(4684944, 297722) already exists.\n",
      "Error: duplicate key value violates unique constraint \"idx_unique_pair\"\n",
      "DETAIL:  Key (first, second)=(3690918, 575962) already exists.\n"
     ]
    },
    {
     "name": "stderr",
     "output_type": "stream",
     "text": [
      " 72%|███████▏  | 72/100 [00:05<00:01, 14.22it/s]"
     ]
    },
    {
     "name": "stdout",
     "output_type": "stream",
     "text": [
      "Error: duplicate key value violates unique constraint \"idx_unique_pair\"\n",
      "DETAIL:  Key (first, second)=(4873406, 178831) already exists.\n",
      "Error: duplicate key value violates unique constraint \"idx_unique_pair\"\n",
      "DETAIL:  Key (first, second)=(11581755, 404499) already exists.\n"
     ]
    },
    {
     "name": "stderr",
     "output_type": "stream",
     "text": [
      " 74%|███████▍  | 74/100 [00:05<00:01, 14.37it/s]"
     ]
    },
    {
     "name": "stdout",
     "output_type": "stream",
     "text": [
      "Error: duplicate key value violates unique constraint \"idx_unique_pair\"\n",
      "DETAIL:  Key (first, second)=(11572087, 107748) already exists.\n",
      "Error: duplicate key value violates unique constraint \"idx_unique_pair\"\n",
      "DETAIL:  Key (first, second)=(4993263, 494761) already exists.\n"
     ]
    },
    {
     "name": "stderr",
     "output_type": "stream",
     "text": [
      " 76%|███████▌  | 76/100 [00:05<00:01, 14.41it/s]"
     ]
    },
    {
     "name": "stdout",
     "output_type": "stream",
     "text": [
      "Error: duplicate key value violates unique constraint \"idx_unique_pair\"\n",
      "DETAIL:  Key (first, second)=(4743057, 167553) already exists.\n",
      "Error: duplicate key value violates unique constraint \"idx_unique_pair\"\n",
      "DETAIL:  Key (first, second)=(4847455, 1752549) already exists.\n"
     ]
    },
    {
     "name": "stderr",
     "output_type": "stream",
     "text": [
      " 78%|███████▊  | 78/100 [00:05<00:01, 14.35it/s]"
     ]
    },
    {
     "name": "stdout",
     "output_type": "stream",
     "text": [
      "Error: duplicate key value violates unique constraint \"idx_unique_pair\"\n",
      "DETAIL:  Key (first, second)=(11579083, 505007) already exists.\n",
      "Error: duplicate key value violates unique constraint \"idx_unique_pair\"\n",
      "DETAIL:  Key (first, second)=(5874577, 778432) already exists.\n"
     ]
    },
    {
     "name": "stderr",
     "output_type": "stream",
     "text": [
      " 80%|████████  | 80/100 [00:05<00:01, 14.32it/s]"
     ]
    },
    {
     "name": "stdout",
     "output_type": "stream",
     "text": [
      "Error: duplicate key value violates unique constraint \"idx_unique_pair\"\n",
      "DETAIL:  Key (first, second)=(5277516, 1464921) already exists.\n",
      "Error: duplicate key value violates unique constraint \"idx_unique_pair\"\n",
      "DETAIL:  Key (first, second)=(4466413, 3867905) already exists.\n"
     ]
    },
    {
     "name": "stderr",
     "output_type": "stream",
     "text": [
      " 82%|████████▏ | 82/100 [00:05<00:01, 14.33it/s]"
     ]
    },
    {
     "name": "stdout",
     "output_type": "stream",
     "text": [
      "Error: duplicate key value violates unique constraint \"idx_unique_pair\"\n",
      "DETAIL:  Key (first, second)=(4894538, 183456) already exists.\n",
      "Error: duplicate key value violates unique constraint \"idx_unique_pair\"\n",
      "DETAIL:  Key (first, second)=(4897768, 619766) already exists.\n"
     ]
    },
    {
     "name": "stderr",
     "output_type": "stream",
     "text": [
      " 84%|████████▍ | 84/100 [00:05<00:01, 14.32it/s]"
     ]
    },
    {
     "name": "stdout",
     "output_type": "stream",
     "text": [
      "Error: duplicate key value violates unique constraint \"idx_unique_pair\"\n",
      "DETAIL:  Key (first, second)=(4317263, 561504) already exists.\n",
      "Error: duplicate key value violates unique constraint \"idx_unique_pair\"\n",
      "DETAIL:  Key (first, second)=(4618879, 465401) already exists.\n"
     ]
    },
    {
     "name": "stderr",
     "output_type": "stream",
     "text": [
      " 86%|████████▌ | 86/100 [00:06<00:00, 14.33it/s]"
     ]
    },
    {
     "name": "stdout",
     "output_type": "stream",
     "text": [
      "Error: duplicate key value violates unique constraint \"idx_unique_pair\"\n",
      "DETAIL:  Key (first, second)=(5879510, 797867) already exists.\n",
      "Error: duplicate key value violates unique constraint \"idx_unique_pair\"\n",
      "DETAIL:  Key (first, second)=(5156019, 268511) already exists.\n"
     ]
    },
    {
     "name": "stderr",
     "output_type": "stream",
     "text": [
      " 88%|████████▊ | 88/100 [00:06<00:00, 14.38it/s]"
     ]
    },
    {
     "name": "stdout",
     "output_type": "stream",
     "text": [
      "Error: duplicate key value violates unique constraint \"idx_unique_pair\"\n",
      "DETAIL:  Key (first, second)=(13101221, 63021) already exists.\n",
      "Error: duplicate key value violates unique constraint \"idx_unique_pair\"\n",
      "DETAIL:  Key (first, second)=(4971388, 272753) already exists.\n"
     ]
    },
    {
     "name": "stderr",
     "output_type": "stream",
     "text": [
      " 90%|█████████ | 90/100 [00:06<00:00, 14.36it/s]"
     ]
    },
    {
     "name": "stdout",
     "output_type": "stream",
     "text": [
      "Error: duplicate key value violates unique constraint \"idx_unique_pair\"\n",
      "DETAIL:  Key (first, second)=(5583410, 128473) already exists.\n",
      "Error: duplicate key value violates unique constraint \"idx_unique_pair\"\n",
      "DETAIL:  Key (first, second)=(5879219, 1464921) already exists.\n"
     ]
    },
    {
     "name": "stderr",
     "output_type": "stream",
     "text": [
      " 92%|█████████▏| 92/100 [00:06<00:00, 14.40it/s]"
     ]
    },
    {
     "name": "stdout",
     "output_type": "stream",
     "text": [
      "Error: duplicate key value violates unique constraint \"idx_unique_pair\"\n",
      "DETAIL:  Key (first, second)=(5833329, 22803) already exists.\n",
      "Error: duplicate key value violates unique constraint \"idx_unique_pair\"\n",
      "DETAIL:  Key (first, second)=(12522748, 3867905) already exists.\n"
     ]
    },
    {
     "name": "stderr",
     "output_type": "stream",
     "text": [
      " 94%|█████████▍| 94/100 [00:06<00:00, 14.47it/s]"
     ]
    },
    {
     "name": "stdout",
     "output_type": "stream",
     "text": [
      "Error: duplicate key value violates unique constraint \"idx_unique_pair\"\n",
      "DETAIL:  Key (first, second)=(12800826, 272753) already exists.\n",
      "Error: duplicate key value violates unique constraint \"idx_unique_pair\"\n",
      "DETAIL:  Key (first, second)=(12732144, 432868) already exists.\n"
     ]
    },
    {
     "name": "stderr",
     "output_type": "stream",
     "text": [
      " 96%|█████████▌| 96/100 [00:06<00:00, 14.47it/s]"
     ]
    },
    {
     "name": "stdout",
     "output_type": "stream",
     "text": [
      "Error: duplicate key value violates unique constraint \"idx_unique_pair\"\n",
      "DETAIL:  Key (first, second)=(6121415, 319780) already exists.\n",
      "Error: duplicate key value violates unique constraint \"idx_unique_pair\"\n",
      "DETAIL:  Key (first, second)=(14044464, 446839) already exists.\n"
     ]
    },
    {
     "name": "stderr",
     "output_type": "stream",
     "text": [
      " 98%|█████████▊| 98/100 [00:06<00:00, 14.40it/s]"
     ]
    },
    {
     "name": "stdout",
     "output_type": "stream",
     "text": [
      "Error: duplicate key value violates unique constraint \"idx_unique_pair\"\n",
      "DETAIL:  Key (first, second)=(12949184, 387260) already exists.\n"
     ]
    },
    {
     "name": "stderr",
     "output_type": "stream",
     "text": [
      "100%|██████████| 100/100 [00:06<00:00, 14.30it/s]"
     ]
    },
    {
     "name": "stdout",
     "output_type": "stream",
     "text": [
      "Error: duplicate key value violates unique constraint \"idx_unique_pair\"\n",
      "DETAIL:  Key (first, second)=(5426920, 242878) already exists.\n",
      "\n",
      "Error: duplicate key value violates unique constraint \"idx_unique_pair\"\n",
      "DETAIL:  Key (first, second)=(5174450, 593944) already exists.\n"
     ]
    },
    {
     "name": "stderr",
     "output_type": "stream",
     "text": [
      "\n"
     ]
    }
   ],
   "source": [
    "from tqdm import tqdm\n",
    "\n",
    "SPLIT_LENGTH = 100\n",
    "count = 9919\n",
    "CHUNCKS = count // SPLIT_LENGTH + 1\n",
    "\n",
    "for i in tqdm(range(CHUNCKS)):\n",
    "    rows = select_rows_with_range(i*SPLIT_LENGTH, min((i+1)* SPLIT_LENGTH, count + 1))\n",
    "    results = process_batch(rows)\n",
    "    insert_values_into_table(results)\n",
    "    \n"
   ]
  },
  {
   "cell_type": "code",
   "execution_count": 8,
   "id": "d4c9cef4",
   "metadata": {
    "ExecuteTime": {
     "end_time": "2023-12-27T03:26:55.404022817Z",
     "start_time": "2023-12-27T03:26:55.333813113Z"
    }
   },
   "outputs": [
    {
     "name": "stderr",
     "output_type": "stream",
     "text": [
      "0it [00:00, ?it/s]\n"
     ]
    }
   ],
   "source": [
    "from tqdm import tqdm\n",
    "\n",
    "\n",
    "\n",
    "for i in tqdm(range(44500000, count)):\n",
    "    rows = select_rows_with_range(i,i+1)\n",
    "    results = process_batch(rows)\n",
    "    insert_values_into_table(results)"
   ]
  },
  {
   "cell_type": "code",
   "execution_count": 9,
   "id": "5eb9e641",
   "metadata": {
    "ExecuteTime": {
     "end_time": "2023-12-27T03:26:56.312660890Z",
     "start_time": "2023-12-27T03:26:55.373755133Z"
    }
   },
   "outputs": [
    {
     "name": "stdout",
     "output_type": "stream",
     "text": [
      "Error: Error:duplicate key value violates unique constraint \"idx_unique_pair\"\n",
      "DETAIL:  Key (first, second)=(3690918, 575962) already exists.\n",
      "\n",
      " duplicate key value violates unique constraint \"idx_unique_pair\"\n",
      "DETAIL:  Key (first, second)=(2970448, 51058) already exists.\n",
      "Error:\n",
      " duplicate key value violates unique constraint \"idx_unique_pair\"\n",
      "DETAIL:  Key (first, second)=(4466413, 3867905) already exists.\n",
      "\n",
      "Error: Error:duplicate key value violates unique constraint \"idx_unique_pair\"\n",
      "DETAIL:  Key (first, second)=(1751576, 145533) already exists.\n",
      " \n",
      "duplicate key value violates unique constraint \"idx_unique_pair\"\n",
      "DETAIL:  Key (first, second)=(8723950, 420339) already exists.\n",
      "\n",
      "Error: Error:duplicate key value violates unique constraint \"idx_unique_pair\"\n",
      "DETAIL:  Key (first, second)=(3662343, 2047912) already exists.\n",
      " Error:\n",
      "duplicate key value violates unique constraint \"idx_unique_pair\"\n",
      "DETAIL:  Key (first, second)=(8355366, 2850621) already exists.\n",
      " \n",
      "duplicate key value violates unique constraint \"idx_unique_pair\"\n",
      "DETAIL:  Key (first, second)=(112993, 400611) already exists.\n",
      "\n",
      "Error: duplicate key value violates unique constraint \"idx_unique_pair\"\n",
      "DETAIL:  Key (first, second)=(8476728, 272753) already exists.\n"
     ]
    }
   ],
   "source": [
    "import multiprocessing\n",
    "\n",
    "lst = []\n",
    "\n",
    "SPLIT_LENGTH = 1000\n",
    "CHUNCKS = count // SPLIT_LENGTH\n",
    "\n",
    "for i in range(CHUNCKS):\n",
    "    lst.append((i*SPLIT_LENGTH, min((i+1)* SPLIT_LENGTH, count)))\n",
    "    \n",
    "with multiprocessing.Pool(processes=50) as pool:\n",
    "    results = pool.starmap(insert_wrapper, lst)"
   ]
  }
 ],
 "metadata": {
  "kernelspec": {
   "display_name": "Python 3",
   "language": "python",
   "name": "python3"
  },
  "language_info": {
   "codemirror_mode": {
    "name": "ipython",
    "version": 3
   },
   "file_extension": ".py",
   "mimetype": "text/x-python",
   "name": "python",
   "nbconvert_exporter": "python",
   "pygments_lexer": "ipython3",
   "version": "3.6.8"
  }
 },
 "nbformat": 4,
 "nbformat_minor": 5
}
