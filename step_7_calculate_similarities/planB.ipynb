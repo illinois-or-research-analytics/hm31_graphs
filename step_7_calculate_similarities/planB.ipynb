{
 "cells": [
  {
   "cell_type": "code",
   "execution_count": 18,
   "id": "initial_id",
   "metadata": {
    "ExecuteTime": {
     "end_time": "2023-12-25T23:19:29.818438591Z",
     "start_time": "2023-12-25T23:19:29.725652102Z"
    }
   },
   "outputs": [
    {
     "name": "stdout",
     "output_type": "stream",
     "text": [
      "100\n"
     ]
    }
   ],
   "source": [
    "import os\n",
    "import psycopg2\n",
    "from psycopg2 import sql\n",
    "\n",
    "os.environ[\"PGDATABASE\"] = \"ernieplus\"\n",
    "\n",
    "def select_rows_with_range(start_index, end_index):\n",
    "    try:\n",
    "        # Connect to the PostgreSQL database\n",
    "        conn = psycopg2.connect(\"\")  # Replace with your connection parameters\n",
    "        cur = conn.cursor()\n",
    "\n",
    "        # Execute the SELECT query to obtain rows within the specified range\n",
    "        cur.execute(\"SELECT * FROM hm31.in_edges_features_cert  ORDER BY first, second OFFSET %s LIMIT %s\", (start_index, end_index - start_index))\n",
    "        \n",
    "        # Fetch the results\n",
    "        results = cur.fetchall()\n",
    "\n",
    "        # Print the results\n",
    "#         for row in results:\n",
    "#             print(\"Row:\", type(row))\n",
    "\n",
    "        return results\n",
    "\n",
    "    except Exception as e:\n",
    "        print(\"Error:\", e)\n",
    "\n",
    "    finally:\n",
    "        cur.close()\n",
    "        conn.close()\n",
    "\n",
    "# Example usage: Read rows from index 1000 to 2000\n",
    "res = select_rows_with_range(100, 200)\n",
    "print(len(res))"
   ]
  },
  {
   "cell_type": "code",
   "execution_count": 2,
   "id": "58bd1ce1",
   "metadata": {},
   "outputs": [],
   "source": [
    "def find_common_count(arr1, arr2):\n",
    "    size1, size2 = len(arr1), len(arr2)\n",
    "    i, j, count = 0, 0, 0\n",
    "\n",
    "    while i < size1 and j < size2:\n",
    "        if arr1[i] == arr2[j]:\n",
    "            # Found an element in the intersection\n",
    "            count += 1\n",
    "            i += 1\n",
    "            j += 1\n",
    "        elif arr1[i] < arr2[j]:\n",
    "            # Move the pointer in the first array\n",
    "            i += 1\n",
    "        else:\n",
    "            # Move the pointer in the second array\n",
    "            j += 1\n",
    "\n",
    "    return count"
   ]
  },
  {
   "cell_type": "code",
   "execution_count": 3,
   "id": "ba7eb49a",
   "metadata": {},
   "outputs": [
    {
     "name": "stdout",
     "output_type": "stream",
     "text": [
      "(0.0, 0)\n",
      "(0.0, 0)\n",
      "(0.0, 0)\n",
      "(0.0026690391459074734, 3)\n",
      "(0.0, 0)\n",
      "(0.0, 0)\n",
      "(0.0, 0)\n",
      "(0.0031308703819661866, 10)\n",
      "(0.0, 0)\n",
      "(0.0, 0)\n",
      "(0.0, 0)\n",
      "(0.0, 0)\n",
      "(0.0, 0)\n",
      "(0.0009517766497461929, 9)\n",
      "(1.2624349845982932e-05, 1)\n",
      "(0.0, 0)\n",
      "(6.565988181221274e-05, 3)\n",
      "(0.02981651376146789, 13)\n",
      "(0.01, 1)\n",
      "(0.0, 0)\n",
      "(0.0, 0)\n",
      "(0.0, 0)\n",
      "(0.0, 0)\n",
      "(0.0, 0)\n",
      "(0.0, 0)\n",
      "(5.5008526321579844e-05, 1)\n",
      "(0.0, 0)\n",
      "(0.0, 0)\n",
      "(0.010526315789473684, 2)\n",
      "(0.0, 0)\n",
      "(0.0, 0)\n",
      "(1.2624509222203986e-05, 1)\n",
      "(0.0, 0)\n",
      "(0.0, 0)\n",
      "(0.016722408026755852, 5)\n",
      "(0.0, 0)\n",
      "(0.0, 0)\n",
      "(0.0, 0)\n",
      "(0.0, 0)\n",
      "(0.0, 0)\n",
      "(0.0, 0)\n",
      "(0.04310344827586207, 5)\n",
      "(0.17509025270758122, 97)\n",
      "(0.0, 0)\n",
      "(0.0, 0)\n",
      "(0.005136986301369863, 3)\n",
      "(0.0, 0)\n",
      "(0.0, 0)\n",
      "(0.0, 0)\n",
      "(0.0, 0)\n",
      "(0.01680672268907563, 6)\n",
      "(0.0, 0)\n",
      "(0.00010595465140919687, 1)\n",
      "(0.0, 0)\n",
      "(0.0, 0)\n",
      "(0.0024875621890547263, 1)\n",
      "(0.0, 0)\n",
      "(0.0, 0)\n",
      "(0.0009715025906735751, 3)\n",
      "(0.0, 0)\n",
      "(0.004405286343612335, 1)\n",
      "(0.0, 0)\n",
      "(0.0, 0)\n",
      "(0.0, 0)\n",
      "(0.0, 0)\n",
      "(0.0, 0)\n",
      "(0.0013774104683195593, 2)\n",
      "(0.0, 0)\n",
      "(0.0, 0)\n",
      "(0.0, 0)\n",
      "(0.0, 0)\n",
      "(0.0, 0)\n",
      "(0.00017041581458759374, 2)\n",
      "(0.0, 0)\n",
      "(0.0, 0)\n",
      "(0.0, 0)\n",
      "(0.0, 0)\n",
      "(0.0, 0)\n",
      "(0.005263157894736842, 1)\n",
      "(0.011954992967651195, 17)\n",
      "(0.04081632653061224, 4)\n",
      "(0.0, 0)\n",
      "(0.0, 0)\n",
      "(0.007532956685499058, 4)\n",
      "(0.0, 0)\n",
      "(0.0047169811320754715, 1)\n",
      "(0.0, 0)\n",
      "(0.0, 0)\n",
      "(0.0, 0)\n",
      "(0.0, 0)\n",
      "(0.0, 0)\n",
      "(0.0, 0)\n",
      "(0.0, 0)\n",
      "(0.0, 0)\n",
      "(0.0, 0)\n",
      "(0.0, 0)\n",
      "(2.1848372296263928e-05, 1)\n",
      "(0.007246376811594203, 1)\n",
      "(0.0, 0)\n",
      "(0.0, 0)\n"
     ]
    }
   ],
   "source": [
    "def process_cocitation_row(row):\n",
    "    first_in = row[1]\n",
    "    \n",
    "    second_in = row[3]\n",
    "\n",
    "    first_in_nodes = first_in.split(',')\n",
    "    second_in_nodes = second_in.split(',')\n",
    "\n",
    "    first_in_nodes.sort()\n",
    "    second_in_nodes.sort()\n",
    "\n",
    "    intersection_count = find_common_count(first_in_nodes, second_in_nodes)\n",
    "    \n",
    "    jaccard = 0.0\n",
    "    \n",
    "    if len(first_in_nodes) + len(second_in_nodes) == 0:\n",
    "        jaccard = 0.0\n",
    "        \n",
    "    else:\n",
    "        jaccard = float(intersection_count/(len(first_in_nodes) + len(second_in_nodes) - intersection_count))\n",
    "\n",
    "    return jaccard, intersection_count\n",
    "\n",
    "for row in res:\n",
    "    print(process_cocitation_row(row))"
   ]
  },
  {
   "cell_type": "code",
   "execution_count": 13,
   "id": "79c8eb7d",
   "metadata": {},
   "outputs": [],
   "source": [
    "def process_batch(rows):\n",
    "    results = []\n",
    "    for row in rows:\n",
    "        first_node = row[0]\n",
    "        second_node = row[2]\n",
    "        \n",
    "        jaccard, intersection_count = process_cocitation_row(row)\n",
    "        results.append((first_node, second_node, jaccard, intersection_count))\n",
    "    \n",
    "    return results     "
   ]
  },
  {
   "cell_type": "code",
   "execution_count": 5,
   "id": "59fe1b32",
   "metadata": {},
   "outputs": [],
   "source": [
    "# Set the PGDATABASE environment variable\n",
    "os.environ[\"PGDATABASE\"] = \"ernieplus\"\n",
    "\n",
    "\n",
    "# Set the PGDATABASE environment variable\n",
    "os.environ[\"PGDATABASE\"] = \"ernieplus\"\n",
    "\n",
    "def insert_values_into_table(values_list):\n",
    "    try:\n",
    "        # Connect to the PostgreSQL database\n",
    "        conn = psycopg2.connect(\"\")\n",
    "        cur = conn.cursor()\n",
    "\n",
    "        \n",
    "        args = ','.join(cur.mogrify(\"(%s, %s, %s, %s)\", i).decode('utf-8') for i in values_list)\n",
    "                \n",
    "        cur.execute(\"INSERT INTO hm31.cocitation_edge_weights_cert VALUES \" + (args))\n",
    "\n",
    "        conn.commit()\n",
    "        print('success')\n",
    "\n",
    "    except Exception as e:\n",
    "        print(\"Error:\", e)\n",
    "\n",
    "    finally:\n",
    "        cur.close()\n",
    "        conn.close()"
   ]
  },
  {
   "cell_type": "code",
   "execution_count": 6,
   "id": "25ea1384",
   "metadata": {},
   "outputs": [
    {
     "name": "stdout",
     "output_type": "stream",
     "text": [
      "44509707\n"
     ]
    }
   ],
   "source": [
    "def get_table_count():\n",
    "    try:\n",
    "        # Connect to the PostgreSQL database\n",
    "        conn = psycopg2.connect(\"\")  # Replace with your connection parameters\n",
    "        cur = conn.cursor()\n",
    "\n",
    "        # Execute the SELECT COUNT(*) query\n",
    "        cur.execute(\"SELECT COUNT(*) FROM hm31.in_edges_features_cert\")\n",
    "        \n",
    "        # Fetch the result\n",
    "        result = cur.fetchone()\n",
    "\n",
    "        # Print the result\n",
    "        return result[0]\n",
    "\n",
    "    except Exception as e:\n",
    "        print(\"Error:\", e)\n",
    "\n",
    "    finally:\n",
    "        cur.close()\n",
    "        conn.close()\n",
    "count = int(get_table_count())\n",
    "print(count)"
   ]
  },
  {
   "cell_type": "code",
   "execution_count": null,
   "id": "5d297bc3",
   "metadata": {},
   "outputs": [],
   "source": [
    "def insert_wrapper(start_index, end_index):\n",
    "    rows = select_rows_with_range(start_index, end_index)\n",
    "    results = process_batch(rows)\n",
    "    insert_values_into_table(results)\n",
    "    "
   ]
  },
  {
   "cell_type": "code",
   "execution_count": 20,
   "id": "78e1fe7f",
   "metadata": {},
   "outputs": [
    {
     "name": "stderr",
     "output_type": "stream",
     "text": [
      "\r",
      "  0%|          | 0/44509 [00:00<?, ?it/s]"
     ]
    },
    {
     "name": "stdout",
     "output_type": "stream",
     "text": [
      "a\n",
      "b\n"
     ]
    },
    {
     "name": "stderr",
     "output_type": "stream",
     "text": [
      "\r",
      "  0%|          | 1/44509 [00:00<7:18:53,  1.69it/s]"
     ]
    },
    {
     "name": "stdout",
     "output_type": "stream",
     "text": [
      "c\n",
      "Error: duplicate key value violates unique constraint \"idx_unique_first_second\"\n",
      "DETAIL:  Key (first, second)=(0, 3803148) already exists.\n",
      "\n",
      "d\n",
      "\n",
      "a\n",
      "b\n"
     ]
    },
    {
     "name": "stderr",
     "output_type": "stream",
     "text": [
      "\r",
      "  0%|          | 2/44509 [00:01<6:00:18,  2.06it/s]"
     ]
    },
    {
     "name": "stdout",
     "output_type": "stream",
     "text": [
      "c\n",
      "Error: duplicate key value violates unique constraint \"idx_unique_first_second\"\n",
      "DETAIL:  Key (first, second)=(136, 1078154) already exists.\n",
      "\n",
      "d\n",
      "\n",
      "a\n",
      "b\n"
     ]
    },
    {
     "name": "stderr",
     "output_type": "stream",
     "text": [
      "\r",
      "  0%|          | 3/44509 [00:01<6:12:29,  1.99it/s]"
     ]
    },
    {
     "name": "stdout",
     "output_type": "stream",
     "text": [
      "c\n",
      "Error: duplicate key value violates unique constraint \"idx_unique_first_second\"\n",
      "DETAIL:  Key (first, second)=(345, 14145954) already exists.\n",
      "\n",
      "d\n",
      "\n",
      "a\n",
      "b\n"
     ]
    },
    {
     "name": "stderr",
     "output_type": "stream",
     "text": [
      "\r",
      "  0%|          | 4/44509 [00:02<6:22:27,  1.94it/s]"
     ]
    },
    {
     "name": "stdout",
     "output_type": "stream",
     "text": [
      "c\n",
      "Error: duplicate key value violates unique constraint \"idx_unique_first_second\"\n",
      "DETAIL:  Key (first, second)=(487, 3471564) already exists.\n",
      "\n",
      "d\n",
      "\n",
      "a\n",
      "b\n"
     ]
    },
    {
     "name": "stderr",
     "output_type": "stream",
     "text": [
      "\r",
      "  0%|          | 5/44509 [00:02<5:56:37,  2.08it/s]"
     ]
    },
    {
     "name": "stdout",
     "output_type": "stream",
     "text": [
      "c\n",
      "Error: duplicate key value violates unique constraint \"idx_unique_first_second\"\n",
      "DETAIL:  Key (first, second)=(612, 4043664) already exists.\n",
      "\n",
      "d\n",
      "\n",
      "a\n",
      "b\n"
     ]
    },
    {
     "name": "stderr",
     "output_type": "stream",
     "text": [
      "\r",
      "  0%|          | 6/44509 [00:02<5:44:40,  2.15it/s]"
     ]
    },
    {
     "name": "stdout",
     "output_type": "stream",
     "text": [
      "c\n",
      "Error: duplicate key value violates unique constraint \"idx_unique_first_second\"\n",
      "DETAIL:  Key (first, second)=(778, 4391488) already exists.\n",
      "\n",
      "d\n",
      "\n",
      "a\n",
      "b\n"
     ]
    },
    {
     "name": "stderr",
     "output_type": "stream",
     "text": [
      "\r",
      "  0%|          | 7/44509 [00:03<6:35:49,  1.87it/s]"
     ]
    },
    {
     "name": "stdout",
     "output_type": "stream",
     "text": [
      "c\n",
      "Error: duplicate key value violates unique constraint \"idx_unique_first_second\"\n",
      "DETAIL:  Key (first, second)=(944, 2825120) already exists.\n",
      "\n",
      "d\n",
      "\n",
      "a\n",
      "b\n"
     ]
    },
    {
     "name": "stderr",
     "output_type": "stream",
     "text": [
      "\r",
      "  0%|          | 8/44509 [00:04<6:31:47,  1.89it/s]"
     ]
    },
    {
     "name": "stdout",
     "output_type": "stream",
     "text": [
      "c\n",
      "Error: duplicate key value violates unique constraint \"idx_unique_first_second\"\n",
      "DETAIL:  Key (first, second)=(1078, 3159765) already exists.\n",
      "\n",
      "d\n",
      "\n",
      "a\n",
      "b\n"
     ]
    },
    {
     "name": "stderr",
     "output_type": "stream",
     "text": [
      "\r",
      "  0%|          | 9/44509 [00:04<6:43:41,  1.84it/s]"
     ]
    },
    {
     "name": "stdout",
     "output_type": "stream",
     "text": [
      "c\n",
      "Error: duplicate key value violates unique constraint \"idx_unique_first_second\"\n",
      "DETAIL:  Key (first, second)=(1207, 147929) already exists.\n",
      "\n",
      "d\n",
      "\n",
      "a\n",
      "b\n"
     ]
    },
    {
     "name": "stderr",
     "output_type": "stream",
     "text": [
      "\r",
      "  0%|          | 10/44509 [00:05<6:55:32,  1.78it/s]"
     ]
    },
    {
     "name": "stdout",
     "output_type": "stream",
     "text": [
      "c\n",
      "Error: duplicate key value violates unique constraint \"idx_unique_first_second\"\n",
      "DETAIL:  Key (first, second)=(1373, 3417048) already exists.\n",
      "\n",
      "d\n",
      "\n",
      "a\n",
      "b\n"
     ]
    },
    {
     "name": "stderr",
     "output_type": "stream",
     "text": [
      "\r",
      "  0%|          | 10/44509 [00:05<7:08:41,  1.73it/s]"
     ]
    },
    {
     "name": "stdout",
     "output_type": "stream",
     "text": [
      "c\n",
      "Error: duplicate key value violates unique constraint \"idx_unique_first_second\"\n",
      "DETAIL:  Key (first, second)=(1599, 5916) already exists.\n",
      "\n",
      "d\n",
      "\n"
     ]
    },
    {
     "name": "stderr",
     "output_type": "stream",
     "text": [
      "\n"
     ]
    }
   ],
   "source": [
    "from tqdm import tqdm\n",
    "\n",
    "SPLIT_LENGTH = 1000\n",
    "CHUNCKS = count // SPLIT_LENGTH\n",
    "\n",
    "for i in tqdm(range(CHUNCKS)):\n",
    "    print('a')\n",
    "    rows = select_rows_with_range(i*SPLIT_LENGTH, min((i+1)* SPLIT_LENGTH, count))\n",
    "    print('b')\n",
    "    results = process_batch(rows)\n",
    "    print('c')\n",
    "    insert_values_into_table(results)\n",
    "    print('d')\n",
    "    print()\n",
    "\n",
    "    if i == 10:\n",
    "        break\n",
    "    \n",
    "    \n"
   ]
  },
  {
   "cell_type": "code",
   "execution_count": null,
   "id": "d4c9cef4",
   "metadata": {},
   "outputs": [],
   "source": [
    "from tqdm import tqdm\n",
    "\n",
    "\n",
    "\n",
    "for i in tqdm(range(44500000, count)):\n",
    "    rows = select_rows_with_range(i,i+1)\n",
    "    results = process_batch(rows)\n",
    "    insert_values_into_table(results)"
   ]
  },
  {
   "cell_type": "code",
   "execution_count": null,
   "id": "5eb9e641",
   "metadata": {},
   "outputs": [],
   "source": [
    "import multiprocessing\n",
    "\n",
    "lst = []\n",
    "\n",
    "SPLIT_LENGTH = 1000\n",
    "CHUNCKS = count // SPLIT_LENGTH\n",
    "\n",
    "for i in range(CHUNCKS):\n",
    "    lst.append((i*SPLIT_LENGTH, min((i+1)* SPLIT_LENGTH, count)))\n",
    "    \n",
    "with multiprocessing.Pool(processes=50) as pool:\n",
    "    results = pool.starmap(insert_wrapper, lst)"
   ]
  }
 ],
 "metadata": {
  "kernelspec": {
   "display_name": "Python 3",
   "language": "python",
   "name": "python3"
  },
  "language_info": {
   "codemirror_mode": {
    "name": "ipython",
    "version": 3
   },
   "file_extension": ".py",
   "mimetype": "text/x-python",
   "name": "python",
   "nbconvert_exporter": "python",
   "pygments_lexer": "ipython3",
   "version": "3.6.8"
  }
 },
 "nbformat": 4,
 "nbformat_minor": 5
}
